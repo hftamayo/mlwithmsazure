{
 "cells": [
  {
   "cell_type": "markdown",
   "metadata": {},
   "source": [
    "# Automated ML\n",
    "\n",
    "TODO: Import Dependencies. In the cell below, import all the dependencies that you will need to complete the project."
   ]
  },
  {
   "cell_type": "code",
   "execution_count": 25,
   "metadata": {
    "gather": {
     "logged": 1598423888013
    },
    "jupyter": {
     "outputs_hidden": false,
     "source_hidden": false
    },
    "nteract": {
     "transient": {
      "deleting": false
     }
    }
   },
   "outputs": [],
   "source": [
    "from azureml.core import Workspace, Experiment\n",
    "from azureml.core import Model \n",
    "from azureml.train.automl import AutoMLConfig\n",
    "from azureml.widgets import RunDetails\n",
    "from azureml.core.compute import ComputeTarget, AmlCompute\n",
    "from pprint import pprint \n",
    "import joblib\n",
    "import os"
   ]
  },
  {
   "cell_type": "markdown",
   "metadata": {},
   "source": [
    "## Dataset\n",
    "\n",
    "### Overview\n",
    "TODO: In this markdown cell, give an overview of the dataset you are using. Also mention the task you will be performing.\n",
    "\n",
    "\n",
    "TODO: Get data. In the cell below, write code to access the data you will be using in this project. Remember that the dataset needs to be external."
   ]
  },
  {
   "cell_type": "code",
   "execution_count": 26,
   "metadata": {},
   "outputs": [],
   "source": [
    "#ANCLA:una vez que ya fue leida la data enviar un mensaje de realizado\n",
    "#ANCLA: enviar una salida de datos del dataframe para que pueda visualizarse\n",
    "#getting data: the dataset was uploaded to Azure Environment but can be accesible through an online link for example\n",
    "from azureml.data.dataset_factory import TabularDatasetFactory\n",
    "\n",
    "rawdata_homic2018 = \"https://raw.githubusercontent.com/hftamayo/azuremlproj03/main/cad2018.csv\"\n",
    "dshomic2018 = TabularDatasetFactory.from_delimited_files(path=rawdata_homic2018, separator=',')\n",
    "pdhomic2018 = dshomic2018.to_pandas_dataframe().dropna()"
   ]
  },
  {
   "cell_type": "code",
   "execution_count": 27,
   "metadata": {
    "gather": {
     "logged": 1598423890461
    },
    "jupyter": {
     "outputs_hidden": false,
     "source_hidden": false
    },
    "nteract": {
     "transient": {
      "deleting": false
     }
    }
   },
   "outputs": [],
   "source": [
    "#ANCLA: hacer un check en caso que el experimento ya exista, enviar un mensaje que fue creado o que ya existe segun sea el caso\n",
    "#setting up workspace and dataset\n",
    "ws = Workspace.from_config()\n",
    "\n",
    "# choose a name for experiment\n",
    "experiment_name = 'expp03ht'\n",
    "\n",
    "experiment=Experiment(ws, experiment_name)"
   ]
  },
  {
   "cell_type": "code",
   "execution_count": 28,
   "metadata": {},
   "outputs": [
    {
     "name": "stdout",
     "output_type": "stream",
     "text": [
      "CreatingAmlCompute is getting created. Consider calling wait_for_completion() first\n",
      "\n",
      "\n",
      "Succeeded\n",
      "AmlCompute wait for completion finished\n",
      "\n",
      "Minimum number of nodes requested have been provisioned\n"
     ]
    }
   ],
   "source": [
    "# setting up IaaS where the experiment will run on it\n",
    "ccname = \"ccp03aml\"\n",
    "try:\n",
    "    ccluster = ComputeTarget(ws, ccname)\n",
    "    print(f\"{ccname} exists or is in use!, choose a different name\")\n",
    "except:\n",
    "    ccconfig = AmlCompute.provisioning_configuration(vm_size=\"Standard_D2_V2\", max_nodes=5)\n",
    "    ccluster = ComputeTarget.create(ws, ccname, ccconfig)\n",
    "ccluster.wait_for_completion(show_output=True)"
   ]
  },
  {
   "cell_type": "markdown",
   "metadata": {},
   "source": [
    "## AutoML Configuration\n",
    "\n",
    "TODO: Explain why you chose the automl settings and cofiguration you used below."
   ]
  },
  {
   "cell_type": "code",
   "execution_count": 29,
   "metadata": {
    "gather": {
     "logged": 1598429217746
    },
    "jupyter": {
     "outputs_hidden": false,
     "source_hidden": false
    },
    "nteract": {
     "transient": {
      "deleting": false
     }
    }
   },
   "outputs": [],
   "source": [
    "#ANCLA: enviar un mensaje que las configs fueron seteadas\n",
    "# TODO: Put your automl settings here\n",
    "automl_settings = {\n",
    "    \"experiment_timeout_minutes\": 20,\n",
    "    \"max_concurrent_iterations\": 5,\n",
    "    \"primary_metric\" : 'accuracy'\n",
    "}\n",
    "\n",
    "# TODO: Put your automl config here\n",
    "automl_config = AutoMLConfig(\n",
    "        task='classification',\n",
    "        compute_target=ccluster,\n",
    "        training_data=dshomic2018,\n",
    "        label_column_name='sexo',\n",
    "        n_cross_validations=5,\n",
    "        **automl_settings\n",
    ")"
   ]
  },
  {
   "cell_type": "code",
   "execution_count": 30,
   "metadata": {
    "gather": {
     "logged": 1598431107951
    },
    "jupyter": {
     "outputs_hidden": false,
     "source_hidden": false
    },
    "nteract": {
     "transient": {
      "deleting": false
     }
    },
    "scrolled": false
   },
   "outputs": [
    {
     "name": "stdout",
     "output_type": "stream",
     "text": [
      "Running on remote.\n"
     ]
    }
   ],
   "source": [
    "# TODO: Submit your experiment\n",
    "exprun = experiment.submit(automl_config)"
   ]
  },
  {
   "cell_type": "markdown",
   "metadata": {},
   "source": [
    "## Run Details\n",
    "\n",
    "OPTIONAL: Write about the different models trained and their performance. Why do you think some models did better than others?\n",
    "\n",
    "TODO: In the cell below, use the `RunDetails` widget to show the different experiments."
   ]
  },
  {
   "cell_type": "code",
   "execution_count": 31,
   "metadata": {
    "gather": {
     "logged": 1598431121770
    },
    "jupyter": {
     "outputs_hidden": false,
     "source_hidden": false
    },
    "nteract": {
     "transient": {
      "deleting": false
     }
    }
   },
   "outputs": [
    {
     "data": {
      "application/vnd.jupyter.widget-view+json": {
       "model_id": "266f7f04624f442aa27944d9fb9ec1fa",
       "version_major": 2,
       "version_minor": 0
      },
      "text/plain": [
       "_AutoMLWidget(widget_settings={'childWidgetDisplay': 'popup', 'send_telemetry': False, 'log_level': 'INFO', 's…"
      ]
     },
     "metadata": {},
     "output_type": "display_data"
    },
    {
     "data": {
      "application/aml.mini.widget.v1": "{\"status\": \"Completed\", \"workbench_run_details_uri\": \"https://ml.azure.com/experiments/expp03ht/runs/AutoML_4cd1cc7a-8222-45fe-81c2-518b7e62c720?wsid=/subscriptions/aa7cf8e8-d23f-4bce-a7b9-1f0b4e0ac8ee/resourcegroups/aml-quickstarts-135796/workspaces/quick-starts-ws-135796\", \"run_id\": \"AutoML_4cd1cc7a-8222-45fe-81c2-518b7e62c720\", \"run_properties\": {\"run_id\": \"AutoML_4cd1cc7a-8222-45fe-81c2-518b7e62c720\", \"created_utc\": \"2021-01-23T18:50:12.041015Z\", \"properties\": {\"num_iterations\": \"1000\", \"training_type\": \"TrainFull\", \"acquisition_function\": \"EI\", \"primary_metric\": \"accuracy\", \"train_split\": \"0\", \"acquisition_parameter\": \"0\", \"num_cross_validation\": \"5\", \"target\": \"ccp03aml\", \"AMLSettingsJsonString\": \"{\\\"path\\\":null,\\\"name\\\":\\\"expp03ht\\\",\\\"subscription_id\\\":\\\"aa7cf8e8-d23f-4bce-a7b9-1f0b4e0ac8ee\\\",\\\"resource_group\\\":\\\"aml-quickstarts-135796\\\",\\\"workspace_name\\\":\\\"quick-starts-ws-135796\\\",\\\"region\\\":\\\"southcentralus\\\",\\\"compute_target\\\":\\\"ccp03aml\\\",\\\"spark_service\\\":null,\\\"azure_service\\\":\\\"remote\\\",\\\"many_models\\\":false,\\\"pipeline_fetch_max_batch_size\\\":1,\\\"iterations\\\":1000,\\\"primary_metric\\\":\\\"accuracy\\\",\\\"task_type\\\":\\\"classification\\\",\\\"data_script\\\":null,\\\"validation_size\\\":0.0,\\\"n_cross_validations\\\":5,\\\"y_min\\\":null,\\\"y_max\\\":null,\\\"num_classes\\\":null,\\\"featurization\\\":\\\"auto\\\",\\\"_ignore_package_version_incompatibilities\\\":false,\\\"is_timeseries\\\":false,\\\"max_cores_per_iteration\\\":1,\\\"max_concurrent_iterations\\\":5,\\\"iteration_timeout_minutes\\\":null,\\\"mem_in_mb\\\":null,\\\"enforce_time_on_windows\\\":false,\\\"experiment_timeout_minutes\\\":20,\\\"experiment_exit_score\\\":null,\\\"whitelist_models\\\":null,\\\"blacklist_algos\\\":[\\\"TensorFlowLinearClassifier\\\",\\\"TensorFlowDNN\\\"],\\\"supported_models\\\":[\\\"MultinomialNaiveBayes\\\",\\\"XGBoostClassifier\\\",\\\"SGD\\\",\\\"ExtremeRandomTrees\\\",\\\"AveragedPerceptronClassifier\\\",\\\"TensorFlowLinearClassifier\\\",\\\"RandomForest\\\",\\\"LinearSVM\\\",\\\"SVM\\\",\\\"LightGBM\\\",\\\"DecisionTree\\\",\\\"KNN\\\",\\\"GradientBoosting\\\",\\\"LogisticRegression\\\",\\\"TensorFlowDNN\\\",\\\"BernoulliNaiveBayes\\\"],\\\"auto_blacklist\\\":true,\\\"blacklist_samples_reached\\\":false,\\\"exclude_nan_labels\\\":true,\\\"verbosity\\\":20,\\\"_debug_log\\\":\\\"azureml_automl.log\\\",\\\"show_warnings\\\":false,\\\"model_explainability\\\":true,\\\"service_url\\\":null,\\\"sdk_url\\\":null,\\\"sdk_packages\\\":null,\\\"enable_onnx_compatible_models\\\":false,\\\"enable_split_onnx_featurizer_estimator_models\\\":false,\\\"vm_type\\\":\\\"STANDARD_D2_V2\\\",\\\"telemetry_verbosity\\\":20,\\\"send_telemetry\\\":true,\\\"enable_dnn\\\":false,\\\"scenario\\\":\\\"SDK-1.13.0\\\",\\\"environment_label\\\":null,\\\"force_text_dnn\\\":false,\\\"enable_feature_sweeping\\\":true,\\\"enable_early_stopping\\\":false,\\\"early_stopping_n_iters\\\":10,\\\"metrics\\\":null,\\\"enable_ensembling\\\":true,\\\"enable_stack_ensembling\\\":true,\\\"ensemble_iterations\\\":15,\\\"enable_tf\\\":false,\\\"enable_subsampling\\\":null,\\\"subsample_seed\\\":null,\\\"enable_nimbusml\\\":false,\\\"enable_streaming\\\":false,\\\"force_streaming\\\":false,\\\"track_child_runs\\\":true,\\\"allowed_private_models\\\":[],\\\"label_column_name\\\":\\\"sexo\\\",\\\"weight_column_name\\\":null,\\\"cv_split_column_names\\\":null,\\\"enable_local_managed\\\":false,\\\"_local_managed_run_id\\\":null,\\\"cost_mode\\\":1,\\\"lag_length\\\":0,\\\"metric_operation\\\":\\\"maximize\\\",\\\"preprocess\\\":true}\", \"DataPrepJsonString\": \"{\\\\\\\"training_data\\\\\\\": \\\\\\\"{\\\\\\\\\\\\\\\"blocks\\\\\\\\\\\\\\\": [{\\\\\\\\\\\\\\\"id\\\\\\\\\\\\\\\": \\\\\\\\\\\\\\\"7e807f97-973b-48bc-beeb-0cd67d8e8168\\\\\\\\\\\\\\\", \\\\\\\\\\\\\\\"type\\\\\\\\\\\\\\\": \\\\\\\\\\\\\\\"Microsoft.DPrep.GetFilesBlock\\\\\\\\\\\\\\\", \\\\\\\\\\\\\\\"arguments\\\\\\\\\\\\\\\": {\\\\\\\\\\\\\\\"isArchive\\\\\\\\\\\\\\\": false, \\\\\\\\\\\\\\\"path\\\\\\\\\\\\\\\": {\\\\\\\\\\\\\\\"target\\\\\\\\\\\\\\\": 4, \\\\\\\\\\\\\\\"resourceDetails\\\\\\\\\\\\\\\": [{\\\\\\\\\\\\\\\"path\\\\\\\\\\\\\\\": \\\\\\\\\\\\\\\"https://raw.githubusercontent.com/hftamayo/azuremlproj03/main/cad2018.csv\\\\\\\\\\\\\\\"}]}}, \\\\\\\\\\\\\\\"localData\\\\\\\\\\\\\\\": {}, \\\\\\\\\\\\\\\"isEnabled\\\\\\\\\\\\\\\": true, \\\\\\\\\\\\\\\"name\\\\\\\\\\\\\\\": null, \\\\\\\\\\\\\\\"annotation\\\\\\\\\\\\\\\": null}, {\\\\\\\\\\\\\\\"id\\\\\\\\\\\\\\\": \\\\\\\\\\\\\\\"e76a4dbb-ee24-4d3e-85bb-0dca6ee574b0\\\\\\\\\\\\\\\", \\\\\\\\\\\\\\\"type\\\\\\\\\\\\\\\": \\\\\\\\\\\\\\\"Microsoft.DPrep.ParseDelimitedBlock\\\\\\\\\\\\\\\", \\\\\\\\\\\\\\\"arguments\\\\\\\\\\\\\\\": {\\\\\\\\\\\\\\\"columnHeadersMode\\\\\\\\\\\\\\\": 3, \\\\\\\\\\\\\\\"fileEncoding\\\\\\\\\\\\\\\": 0, \\\\\\\\\\\\\\\"handleQuotedLineBreaks\\\\\\\\\\\\\\\": false, \\\\\\\\\\\\\\\"preview\\\\\\\\\\\\\\\": false, \\\\\\\\\\\\\\\"separator\\\\\\\\\\\\\\\": \\\\\\\\\\\\\\\",\\\\\\\\\\\\\\\", \\\\\\\\\\\\\\\"skipRows\\\\\\\\\\\\\\\": 0, \\\\\\\\\\\\\\\"skipRowsMode\\\\\\\\\\\\\\\": 0}, \\\\\\\\\\\\\\\"localData\\\\\\\\\\\\\\\": {}, \\\\\\\\\\\\\\\"isEnabled\\\\\\\\\\\\\\\": true, \\\\\\\\\\\\\\\"name\\\\\\\\\\\\\\\": null, \\\\\\\\\\\\\\\"annotation\\\\\\\\\\\\\\\": null}, {\\\\\\\\\\\\\\\"id\\\\\\\\\\\\\\\": \\\\\\\\\\\\\\\"3318b9b9-0f40-43cb-9638-5b83dfe8b1ac\\\\\\\\\\\\\\\", \\\\\\\\\\\\\\\"type\\\\\\\\\\\\\\\": \\\\\\\\\\\\\\\"Microsoft.DPrep.DropColumnsBlock\\\\\\\\\\\\\\\", \\\\\\\\\\\\\\\"arguments\\\\\\\\\\\\\\\": {\\\\\\\\\\\\\\\"columns\\\\\\\\\\\\\\\": {\\\\\\\\\\\\\\\"type\\\\\\\\\\\\\\\": 0, \\\\\\\\\\\\\\\"details\\\\\\\\\\\\\\\": {\\\\\\\\\\\\\\\"selectedColumns\\\\\\\\\\\\\\\": [\\\\\\\\\\\\\\\"Path\\\\\\\\\\\\\\\"]}}}, \\\\\\\\\\\\\\\"localData\\\\\\\\\\\\\\\": {}, \\\\\\\\\\\\\\\"isEnabled\\\\\\\\\\\\\\\": true, \\\\\\\\\\\\\\\"name\\\\\\\\\\\\\\\": null, \\\\\\\\\\\\\\\"annotation\\\\\\\\\\\\\\\": null}, {\\\\\\\\\\\\\\\"id\\\\\\\\\\\\\\\": \\\\\\\\\\\\\\\"696ad408-1c2f-413c-b185-7b7a6c6d947f\\\\\\\\\\\\\\\", \\\\\\\\\\\\\\\"type\\\\\\\\\\\\\\\": \\\\\\\\\\\\\\\"Microsoft.DPrep.SetColumnTypesBlock\\\\\\\\\\\\\\\", \\\\\\\\\\\\\\\"arguments\\\\\\\\\\\\\\\": {\\\\\\\\\\\\\\\"columnConversion\\\\\\\\\\\\\\\": [{\\\\\\\\\\\\\\\"column\\\\\\\\\\\\\\\": {\\\\\\\\\\\\\\\"type\\\\\\\\\\\\\\\": 2, \\\\\\\\\\\\\\\"details\\\\\\\\\\\\\\\": {\\\\\\\\\\\\\\\"selectedColumn\\\\\\\\\\\\\\\": \\\\\\\\\\\\\\\"id\\\\\\\\\\\\\\\"}}, \\\\\\\\\\\\\\\"typeProperty\\\\\\\\\\\\\\\": 2}, {\\\\\\\\\\\\\\\"column\\\\\\\\\\\\\\\": {\\\\\\\\\\\\\\\"type\\\\\\\\\\\\\\\": 2, \\\\\\\\\\\\\\\"details\\\\\\\\\\\\\\\": {\\\\\\\\\\\\\\\"selectedColumn\\\\\\\\\\\\\\\": \\\\\\\\\\\\\\\"regfalle\\\\\\\\\\\\\\\"}}, \\\\\\\\\\\\\\\"typeProperty\\\\\\\\\\\\\\\": 2}, {\\\\\\\\\\\\\\\"column\\\\\\\\\\\\\\\": {\\\\\\\\\\\\\\\"type\\\\\\\\\\\\\\\": 2, \\\\\\\\\\\\\\\"details\\\\\\\\\\\\\\\": {\\\\\\\\\\\\\\\"selectedColumn\\\\\\\\\\\\\\\": \\\\\\\\\\\\\\\"edad\\\\\\\\\\\\\\\"}}, \\\\\\\\\\\\\\\"typeProperty\\\\\\\\\\\\\\\": 2}, {\\\\\\\\\\\\\\\"column\\\\\\\\\\\\\\\": {\\\\\\\\\\\\\\\"type\\\\\\\\\\\\\\\": 2, \\\\\\\\\\\\\\\"details\\\\\\\\\\\\\\\": {\\\\\\\\\\\\\\\"selectedColumn\\\\\\\\\\\\\\\": \\\\\\\\\\\\\\\"sexo\\\\\\\\\\\\\\\"}}, \\\\\\\\\\\\\\\"typeProperty\\\\\\\\\\\\\\\": 2}, {\\\\\\\\\\\\\\\"column\\\\\\\\\\\\\\\": {\\\\\\\\\\\\\\\"type\\\\\\\\\\\\\\\": 2, \\\\\\\\\\\\\\\"details\\\\\\\\\\\\\\\": {\\\\\\\\\\\\\\\"selectedColumn\\\\\\\\\\\\\\\": \\\\\\\\\\\\\\\"deptoocuhe\\\\\\\\\\\\\\\"}}, \\\\\\\\\\\\\\\"typeProperty\\\\\\\\\\\\\\\": 2}, {\\\\\\\\\\\\\\\"column\\\\\\\\\\\\\\\": {\\\\\\\\\\\\\\\"type\\\\\\\\\\\\\\\": 2, \\\\\\\\\\\\\\\"details\\\\\\\\\\\\\\\": {\\\\\\\\\\\\\\\"selectedColumn\\\\\\\\\\\\\\\": \\\\\\\\\\\\\\\"tipoarma\\\\\\\\\\\\\\\"}}, \\\\\\\\\\\\\\\"typeProperty\\\\\\\\\\\\\\\": 2}, {\\\\\\\\\\\\\\\"column\\\\\\\\\\\\\\\": {\\\\\\\\\\\\\\\"type\\\\\\\\\\\\\\\": 2, \\\\\\\\\\\\\\\"details\\\\\\\\\\\\\\\": {\\\\\\\\\\\\\\\"selectedColumn\\\\\\\\\\\\\\\": \\\\\\\\\\\\\\\"pracaut\\\\\\\\\\\\\\\"}}, \\\\\\\\\\\\\\\"typeProperty\\\\\\\\\\\\\\\": 2}]}, \\\\\\\\\\\\\\\"localData\\\\\\\\\\\\\\\": {}, \\\\\\\\\\\\\\\"isEnabled\\\\\\\\\\\\\\\": true, \\\\\\\\\\\\\\\"name\\\\\\\\\\\\\\\": null, \\\\\\\\\\\\\\\"annotation\\\\\\\\\\\\\\\": null}], \\\\\\\\\\\\\\\"inspectors\\\\\\\\\\\\\\\": [], \\\\\\\\\\\\\\\"meta\\\\\\\\\\\\\\\": {\\\\\\\\\\\\\\\"savedDatasetId\\\\\\\\\\\\\\\": \\\\\\\\\\\\\\\"905ddc3d-b515-4ddb-905e-db73d2ca3322\\\\\\\\\\\\\\\", \\\\\\\\\\\\\\\"datasetType\\\\\\\\\\\\\\\": \\\\\\\\\\\\\\\"tabular\\\\\\\\\\\\\\\", \\\\\\\\\\\\\\\"subscriptionId\\\\\\\\\\\\\\\": \\\\\\\\\\\\\\\"aa7cf8e8-d23f-4bce-a7b9-1f0b4e0ac8ee\\\\\\\\\\\\\\\", \\\\\\\\\\\\\\\"workspaceId\\\\\\\\\\\\\\\": \\\\\\\\\\\\\\\"9bb8d940-5868-4481-ba3b-9a38247970a5\\\\\\\\\\\\\\\", \\\\\\\\\\\\\\\"workspaceLocation\\\\\\\\\\\\\\\": \\\\\\\\\\\\\\\"southcentralus\\\\\\\\\\\\\\\"}}\\\\\\\", \\\\\\\"activities\\\\\\\": 0}\", \"EnableSubsampling\": null, \"runTemplate\": \"AutoML\", \"azureml.runsource\": \"automl\", \"display_task_type\": \"classification\", \"dependencies_versions\": \"{\\\"azureml-widgets\\\": \\\"1.19.0\\\", \\\"azureml-train\\\": \\\"1.19.0\\\", \\\"azureml-train-restclients-hyperdrive\\\": \\\"1.19.0\\\", \\\"azureml-train-core\\\": \\\"1.19.0\\\", \\\"azureml-train-automl\\\": \\\"1.19.0\\\", \\\"azureml-train-automl-runtime\\\": \\\"1.19.0\\\", \\\"azureml-train-automl-client\\\": \\\"1.19.0\\\", \\\"azureml-tensorboard\\\": \\\"1.19.0\\\", \\\"azureml-telemetry\\\": \\\"1.19.0\\\", \\\"azureml-sdk\\\": \\\"1.19.0\\\", \\\"azureml-samples\\\": \\\"0+unknown\\\", \\\"azureml-pipeline\\\": \\\"1.19.0\\\", \\\"azureml-pipeline-steps\\\": \\\"1.19.0\\\", \\\"azureml-pipeline-core\\\": \\\"1.19.0\\\", \\\"azureml-opendatasets\\\": \\\"1.19.0\\\", \\\"azureml-model-management-sdk\\\": \\\"1.0.1b6.post1\\\", \\\"azureml-mlflow\\\": \\\"1.19.0\\\", \\\"azureml-interpret\\\": \\\"1.19.0\\\", \\\"azureml-explain-model\\\": \\\"1.19.0\\\", \\\"azureml-defaults\\\": \\\"1.19.0\\\", \\\"azureml-dataset-runtime\\\": \\\"1.19.0.post1\\\", \\\"azureml-dataprep\\\": \\\"2.6.1\\\", \\\"azureml-dataprep-rslex\\\": \\\"1.4.0\\\", \\\"azureml-dataprep-native\\\": \\\"26.0.0\\\", \\\"azureml-datadrift\\\": \\\"1.19.0\\\", \\\"azureml-core\\\": \\\"1.19.0\\\", \\\"azureml-contrib-services\\\": \\\"1.19.0\\\", \\\"azureml-contrib-server\\\": \\\"1.19.0\\\", \\\"azureml-contrib-reinforcementlearning\\\": \\\"1.19.0\\\", \\\"azureml-contrib-pipeline-steps\\\": \\\"1.19.0\\\", \\\"azureml-contrib-notebook\\\": \\\"1.19.0\\\", \\\"azureml-contrib-interpret\\\": \\\"1.19.0\\\", \\\"azureml-contrib-gbdt\\\": \\\"1.19.0\\\", \\\"azureml-contrib-fairness\\\": \\\"1.19.0\\\", \\\"azureml-contrib-dataset\\\": \\\"1.19.0\\\", \\\"azureml-cli-common\\\": \\\"1.19.0\\\", \\\"azureml-automl-runtime\\\": \\\"1.19.0\\\", \\\"azureml-automl-core\\\": \\\"1.19.0\\\", \\\"azureml-accel-models\\\": \\\"1.19.0\\\"}\", \"_aml_system_scenario_identification\": \"Remote.Parent\", \"ClientType\": \"SDK\", \"environment_cpu_name\": \"AzureML-AutoML\", \"environment_cpu_label\": \"prod\", \"environment_gpu_name\": \"AzureML-AutoML-GPU\", \"environment_gpu_label\": \"prod\", \"root_attribution\": \"automl\", \"attribution\": \"AutoML\", \"Orchestrator\": \"AutoML\", \"CancelUri\": \"https://southcentralus.experiments.azureml.net/jasmine/v1.0/subscriptions/aa7cf8e8-d23f-4bce-a7b9-1f0b4e0ac8ee/resourceGroups/aml-quickstarts-135796/providers/Microsoft.MachineLearningServices/workspaces/quick-starts-ws-135796/experimentids/f93c84ed-ce2b-4572-b414-b43e423486b6/cancel/AutoML_4cd1cc7a-8222-45fe-81c2-518b7e62c720\", \"ClientSdkVersion\": \"1.20.0\", \"snapshotId\": \"00000000-0000-0000-0000-000000000000\", \"SetupRunId\": \"AutoML_4cd1cc7a-8222-45fe-81c2-518b7e62c720_setup\", \"SetupRunContainerId\": \"dcid.AutoML_4cd1cc7a-8222-45fe-81c2-518b7e62c720_setup\", \"FeaturizationRunJsonPath\": \"featurizer_container.json\", \"FeaturizationRunId\": \"AutoML_4cd1cc7a-8222-45fe-81c2-518b7e62c720_featurize\", \"ProblemInfoJsonString\": \"{\\\"dataset_num_categorical\\\": 0, \\\"is_sparse\\\": true, \\\"subsampling\\\": false, \\\"dataset_classes\\\": 2, \\\"dataset_features\\\": 34, \\\"dataset_samples\\\": 3346, \\\"single_frequency_class_detected\\\": false}\", \"ModelExplainRunId\": \"AutoML_4cd1cc7a-8222-45fe-81c2-518b7e62c720_ModelExplain\"}, \"tags\": {\"model_explain_run\": \"best_run\", \"_aml_system_azureml.automlComponent\": \"AutoML\", \"pipeline_id\": \"\", \"score\": \"\", \"predicted_cost\": \"\", \"fit_time\": \"\", \"training_percent\": \"\", \"iteration\": \"\", \"run_preprocessor\": \"\", \"run_algorithm\": \"\", \"dynamic_whitelisting_iterations\": \"<25>;<30>;<35>;<40>;<45>;<50>;<55>;<60>;<65>;<70>;\", \"automl_best_child_run_id\": \"AutoML_4cd1cc7a-8222-45fe-81c2-518b7e62c720_71\", \"model_explain_best_run_child_id\": \"AutoML_4cd1cc7a-8222-45fe-81c2-518b7e62c720_71\"}, \"end_time_utc\": \"2021-01-23T19:21:45.479675Z\", \"status\": \"Completed\", \"log_files\": {}, \"log_groups\": [], \"run_duration\": \"0:31:33\"}, \"child_runs\": [{\"run_id\": \"AutoML_4cd1cc7a-8222-45fe-81c2-518b7e62c720_0\", \"run_number\": 5, \"metric\": null, \"status\": \"Completed\", \"run_type\": \"azureml.scriptrun\", \"training_percent\": \"100\", \"start_time\": \"2021-01-23T19:01:09.783995Z\", \"end_time\": \"2021-01-23T19:02:00.095644Z\", \"created_time\": \"2021-01-23T18:59:15.928439Z\", \"created_time_dt\": \"2021-01-23T18:59:15.928439Z\", \"duration\": \"0:02:44\", \"iteration\": \"0\", \"goal\": \"accuracy_max\", \"run_name\": \"MaxAbsScaler, LightGBM\", \"run_properties\": \"copy=True\", \"primary_metric\": 0.87238605, \"best_metric\": 0.87238605}, {\"run_id\": \"AutoML_4cd1cc7a-8222-45fe-81c2-518b7e62c720_4\", \"run_number\": 6, \"metric\": null, \"status\": \"Completed\", \"run_type\": \"azureml.scriptrun\", \"training_percent\": \"100\", \"start_time\": \"2021-01-23T19:00:17.73126Z\", \"end_time\": \"2021-01-23T19:01:07.964535Z\", \"created_time\": \"2021-01-23T18:59:16.073214Z\", \"created_time_dt\": \"2021-01-23T18:59:16.073214Z\", \"duration\": \"0:01:51\", \"iteration\": \"4\", \"goal\": \"accuracy_max\", \"run_name\": \"MaxAbsScaler, RandomForest\", \"run_properties\": \"copy=True\", \"primary_metric\": 0.65900185, \"best_metric\": 0.87985499}, {\"run_id\": \"AutoML_4cd1cc7a-8222-45fe-81c2-518b7e62c720_3\", \"run_number\": 7, \"metric\": null, \"status\": \"Completed\", \"run_type\": \"azureml.scriptrun\", \"training_percent\": \"100\", \"start_time\": \"2021-01-23T18:59:27.499694Z\", \"end_time\": \"2021-01-23T19:00:15.094364Z\", \"created_time\": \"2021-01-23T18:59:16.097388Z\", \"created_time_dt\": \"2021-01-23T18:59:16.097388Z\", \"duration\": \"0:00:58\", \"iteration\": \"3\", \"goal\": \"accuracy_max\", \"run_name\": \"MaxAbsScaler, RandomForest\", \"run_properties\": \"copy=True\", \"primary_metric\": 0.87895946, \"best_metric\": 0.87985499}, {\"run_id\": \"AutoML_4cd1cc7a-8222-45fe-81c2-518b7e62c720_1\", \"run_number\": 8, \"metric\": null, \"status\": \"Completed\", \"run_type\": \"azureml.scriptrun\", \"training_percent\": \"100\", \"start_time\": \"2021-01-23T19:02:46.883096Z\", \"end_time\": \"2021-01-23T19:06:07.362854Z\", \"created_time\": \"2021-01-23T18:59:16.117893Z\", \"created_time_dt\": \"2021-01-23T18:59:16.117893Z\", \"duration\": \"0:06:51\", \"iteration\": \"1\", \"goal\": \"accuracy_max\", \"run_name\": \"MaxAbsScaler, XGBoostClassifier\", \"run_properties\": \"copy=True\", \"primary_metric\": 0.87985499, \"best_metric\": 0.87985499}, {\"run_id\": \"AutoML_4cd1cc7a-8222-45fe-81c2-518b7e62c720_2\", \"run_number\": 9, \"metric\": null, \"status\": \"Completed\", \"run_type\": \"azureml.scriptrun\", \"training_percent\": \"100\", \"start_time\": \"2021-01-23T19:02:34.480372Z\", \"end_time\": \"2021-01-23T19:03:23.805214Z\", \"created_time\": \"2021-01-23T18:59:16.162559Z\", \"created_time_dt\": \"2021-01-23T18:59:16.162559Z\", \"duration\": \"0:04:07\", \"iteration\": \"2\", \"goal\": \"accuracy_max\", \"run_name\": \"MaxAbsScaler, RandomForest\", \"run_properties\": \"copy=True\", \"primary_metric\": 0.87895946, \"best_metric\": 0.87985499}, {\"run_id\": \"AutoML_4cd1cc7a-8222-45fe-81c2-518b7e62c720_5\", \"run_number\": 10, \"metric\": null, \"status\": \"Completed\", \"run_type\": \"azureml.scriptrun\", \"training_percent\": \"100\", \"start_time\": \"2021-01-23T19:02:51.237582Z\", \"end_time\": \"2021-01-23T19:06:18.575146Z\", \"created_time\": \"2021-01-23T19:00:19.377552Z\", \"created_time_dt\": \"2021-01-23T19:00:19.377552Z\", \"duration\": \"0:05:59\", \"iteration\": \"5\", \"goal\": \"accuracy_max\", \"run_name\": \"MaxAbsScaler, RandomForest\", \"run_properties\": \"copy=True\", \"primary_metric\": 0.64317069, \"best_metric\": 0.87985499}, {\"run_id\": \"AutoML_4cd1cc7a-8222-45fe-81c2-518b7e62c720_6\", \"run_number\": 11, \"metric\": null, \"status\": \"Completed\", \"run_type\": \"azureml.scriptrun\", \"training_percent\": \"100\", \"start_time\": \"2021-01-23T19:02:55.417541Z\", \"end_time\": \"2021-01-23T19:06:43.945482Z\", \"created_time\": \"2021-01-23T19:01:10.970754Z\", \"created_time_dt\": \"2021-01-23T19:01:10.970754Z\", \"duration\": \"0:05:32\", \"iteration\": \"6\", \"goal\": \"accuracy_max\", \"run_name\": \"StandardScalerWrapper, LightGBM\", \"run_properties\": \"<azureml.automl.runtime.shared.model_wrappers.StandardScalerWrapper object at 0x7f63e0421048\", \"primary_metric\": 0.87895946, \"best_metric\": 0.87985499}, {\"run_id\": \"AutoML_4cd1cc7a-8222-45fe-81c2-518b7e62c720_7\", \"run_number\": 12, \"metric\": null, \"status\": \"Completed\", \"run_type\": \"azureml.scriptrun\", \"training_percent\": \"100\", \"start_time\": \"2021-01-23T19:02:52.703039Z\", \"end_time\": \"2021-01-23T19:06:14.048068Z\", \"created_time\": \"2021-01-23T19:02:02.949859Z\", \"created_time_dt\": \"2021-01-23T19:02:02.949859Z\", \"duration\": \"0:04:11\", \"iteration\": \"7\", \"goal\": \"accuracy_max\", \"run_name\": \"SparseNormalizer, XGBoostClassifier\", \"run_properties\": \"<azureml.automl.runtime.shared.model_wrappers.SparseNormalizer object at 0x7f377958d320\", \"primary_metric\": 0.87776454, \"best_metric\": 0.87985499}, {\"run_id\": \"AutoML_4cd1cc7a-8222-45fe-81c2-518b7e62c720_8\", \"run_number\": 13, \"metric\": null, \"status\": \"Completed\", \"run_type\": \"azureml.scriptrun\", \"training_percent\": \"100\", \"start_time\": \"2021-01-23T19:03:38.06249Z\", \"end_time\": \"2021-01-23T19:04:32.177987Z\", \"created_time\": \"2021-01-23T19:03:26.2891Z\", \"created_time_dt\": \"2021-01-23T19:03:26.2891Z\", \"duration\": \"0:01:05\", \"iteration\": \"8\", \"goal\": \"accuracy_max\", \"run_name\": \"SparseNormalizer, XGBoostClassifier\", \"run_properties\": \"<azureml.automl.runtime.shared.model_wrappers.SparseNormalizer object at 0x7fa2943454e0\", \"primary_metric\": 0.87627022, \"best_metric\": 0.87985499}, {\"run_id\": \"AutoML_4cd1cc7a-8222-45fe-81c2-518b7e62c720_9\", \"run_number\": 14, \"metric\": null, \"status\": \"Completed\", \"run_type\": \"azureml.scriptrun\", \"training_percent\": \"100\", \"start_time\": \"2021-01-23T19:04:46.272191Z\", \"end_time\": \"2021-01-23T19:05:33.629207Z\", \"created_time\": \"2021-01-23T19:04:35.152164Z\", \"created_time_dt\": \"2021-01-23T19:04:35.152164Z\", \"duration\": \"0:00:58\", \"iteration\": \"9\", \"goal\": \"accuracy_max\", \"run_name\": \"MaxAbsScaler, LightGBM\", \"run_properties\": \"copy=True\", \"primary_metric\": 0.87895946, \"best_metric\": 0.87985499}, {\"run_id\": \"AutoML_4cd1cc7a-8222-45fe-81c2-518b7e62c720_10\", \"run_number\": 15, \"metric\": null, \"status\": \"Completed\", \"run_type\": \"azureml.scriptrun\", \"training_percent\": \"100\", \"start_time\": \"2021-01-23T19:05:49.051433Z\", \"end_time\": \"2021-01-23T19:06:40.603967Z\", \"created_time\": \"2021-01-23T19:05:35.821821Z\", \"created_time_dt\": \"2021-01-23T19:05:35.821821Z\", \"duration\": \"0:01:04\", \"iteration\": \"10\", \"goal\": \"accuracy_max\", \"run_name\": \"MaxAbsScaler, RandomForest\", \"run_properties\": \"copy=True\", \"primary_metric\": 0.87895946, \"best_metric\": 0.87985499}, {\"run_id\": \"AutoML_4cd1cc7a-8222-45fe-81c2-518b7e62c720_11\", \"run_number\": 16, \"metric\": null, \"status\": \"Completed\", \"run_type\": \"azureml.scriptrun\", \"training_percent\": \"100\", \"start_time\": \"2021-01-23T19:06:21.359638Z\", \"end_time\": \"2021-01-23T19:07:15.960439Z\", \"created_time\": \"2021-01-23T19:06:09.595602Z\", \"created_time_dt\": \"2021-01-23T19:06:09.595602Z\", \"duration\": \"0:01:06\", \"iteration\": \"11\", \"goal\": \"accuracy_max\", \"run_name\": \"StandardScalerWrapper, RandomForest\", \"run_properties\": \"<azureml.automl.runtime.shared.model_wrappers.StandardScalerWrapper object at 0x7f74da5cfef0\", \"primary_metric\": 0.87895946, \"best_metric\": 0.87985499}, {\"run_id\": \"AutoML_4cd1cc7a-8222-45fe-81c2-518b7e62c720_12\", \"run_number\": 17, \"metric\": null, \"status\": \"Completed\", \"run_type\": \"azureml.scriptrun\", \"training_percent\": \"100\", \"start_time\": \"2021-01-23T19:06:28.30259Z\", \"end_time\": \"2021-01-23T19:07:17.073883Z\", \"created_time\": \"2021-01-23T19:06:16.135213Z\", \"created_time_dt\": \"2021-01-23T19:06:16.135213Z\", \"duration\": \"0:01:00\", \"iteration\": \"12\", \"goal\": \"accuracy_max\", \"run_name\": \"SparseNormalizer, RandomForest\", \"run_properties\": \"<azureml.automl.runtime.shared.model_wrappers.SparseNormalizer object at 0x7f3c8ba5d0f0\", \"primary_metric\": 0.87895946, \"best_metric\": 0.87985499}, {\"run_id\": \"AutoML_4cd1cc7a-8222-45fe-81c2-518b7e62c720_13\", \"run_number\": 18, \"metric\": null, \"status\": \"Completed\", \"run_type\": \"azureml.scriptrun\", \"training_percent\": \"100\", \"start_time\": \"2021-01-23T19:06:32.079059Z\", \"end_time\": \"2021-01-23T19:07:18.470249Z\", \"created_time\": \"2021-01-23T19:06:20.490721Z\", \"created_time_dt\": \"2021-01-23T19:06:20.490721Z\", \"duration\": \"0:00:57\", \"iteration\": \"13\", \"goal\": \"accuracy_max\", \"run_name\": \"MaxAbsScaler, LogisticRegression\", \"run_properties\": \"copy=True\", \"primary_metric\": 0.87925842, \"best_metric\": 0.87985499}, {\"run_id\": \"AutoML_4cd1cc7a-8222-45fe-81c2-518b7e62c720_14\", \"run_number\": 19, \"metric\": null, \"status\": \"Completed\", \"run_type\": \"azureml.scriptrun\", \"training_percent\": \"100\", \"start_time\": \"2021-01-23T19:06:53.259852Z\", \"end_time\": \"2021-01-23T19:07:40.735952Z\", \"created_time\": \"2021-01-23T19:06:42.639454Z\", \"created_time_dt\": \"2021-01-23T19:06:42.639454Z\", \"duration\": \"0:00:58\", \"iteration\": \"14\", \"goal\": \"accuracy_max\", \"run_name\": \"MaxAbsScaler, LightGBM\", \"run_properties\": \"copy=True\", \"primary_metric\": 0.87895946, \"best_metric\": 0.87985499}, {\"run_id\": \"AutoML_4cd1cc7a-8222-45fe-81c2-518b7e62c720_15\", \"run_number\": 20, \"metric\": null, \"status\": \"Completed\", \"run_type\": \"azureml.scriptrun\", \"training_percent\": \"100\", \"start_time\": \"2021-01-23T19:06:58.160184Z\", \"end_time\": \"2021-01-23T19:07:46.215656Z\", \"created_time\": \"2021-01-23T19:06:46.357926Z\", \"created_time_dt\": \"2021-01-23T19:06:46.357926Z\", \"duration\": \"0:00:59\", \"iteration\": \"15\", \"goal\": \"accuracy_max\", \"run_name\": \"SparseNormalizer, XGBoostClassifier\", \"run_properties\": \"<azureml.automl.runtime.shared.model_wrappers.SparseNormalizer object at 0x7f965e6c04a8\", \"primary_metric\": 0.88105214, \"best_metric\": 0.88105214}, {\"run_id\": \"AutoML_4cd1cc7a-8222-45fe-81c2-518b7e62c720_16\", \"run_number\": 21, \"metric\": null, \"status\": \"Completed\", \"run_type\": \"azureml.scriptrun\", \"training_percent\": \"100\", \"start_time\": \"2021-01-23T19:07:30.406381Z\", \"end_time\": \"2021-01-23T19:08:21.998222Z\", \"created_time\": \"2021-01-23T19:07:17.811329Z\", \"created_time_dt\": \"2021-01-23T19:07:17.811329Z\", \"duration\": \"0:01:04\", \"iteration\": \"16\", \"goal\": \"accuracy_max\", \"run_name\": \"StandardScalerWrapper, LightGBM\", \"run_properties\": \"<azureml.automl.runtime.shared.model_wrappers.StandardScalerWrapper object at 0x7fc19e160cc0\", \"primary_metric\": 0.87895946, \"best_metric\": 0.88105214}, {\"run_id\": \"AutoML_4cd1cc7a-8222-45fe-81c2-518b7e62c720_17\", \"run_number\": 22, \"metric\": null, \"status\": \"Completed\", \"run_type\": \"azureml.scriptrun\", \"training_percent\": \"100\", \"start_time\": \"2021-01-23T19:07:33.327212Z\", \"end_time\": \"2021-01-23T19:08:17.975546Z\", \"created_time\": \"2021-01-23T19:07:21.525038Z\", \"created_time_dt\": \"2021-01-23T19:07:21.525038Z\", \"duration\": \"0:00:56\", \"iteration\": \"17\", \"goal\": \"accuracy_max\", \"run_name\": \"SparseNormalizer, LightGBM\", \"run_properties\": \"<azureml.automl.runtime.shared.model_wrappers.SparseNormalizer object at 0x7f77ddae4c18\", \"primary_metric\": 0.87895946, \"best_metric\": 0.88105214}, {\"run_id\": \"AutoML_4cd1cc7a-8222-45fe-81c2-518b7e62c720_18\", \"run_number\": 23, \"metric\": null, \"status\": \"Completed\", \"run_type\": \"azureml.scriptrun\", \"training_percent\": \"100\", \"start_time\": \"2021-01-23T19:07:31.631594Z\", \"end_time\": \"2021-01-23T19:08:18.982033Z\", \"created_time\": \"2021-01-23T19:07:21.581148Z\", \"created_time_dt\": \"2021-01-23T19:07:21.581148Z\", \"duration\": \"0:00:57\", \"iteration\": \"18\", \"goal\": \"accuracy_max\", \"run_name\": \"StandardScalerWrapper, ExtremeRandomTrees\", \"run_properties\": \"<azureml.automl.runtime.shared.model_wrappers.StandardScalerWrapper object at 0x7f7d710c1f98\", \"primary_metric\": 0.87895946, \"best_metric\": 0.88105214}, {\"run_id\": \"AutoML_4cd1cc7a-8222-45fe-81c2-518b7e62c720_19\", \"run_number\": 24, \"metric\": null, \"status\": \"Completed\", \"run_type\": \"azureml.scriptrun\", \"training_percent\": \"100\", \"start_time\": \"2021-01-23T19:07:54.734056Z\", \"end_time\": \"2021-01-23T19:08:46.402572Z\", \"created_time\": \"2021-01-23T19:07:42.977103Z\", \"created_time_dt\": \"2021-01-23T19:07:42.977103Z\", \"duration\": \"0:01:03\", \"iteration\": \"19\", \"goal\": \"accuracy_max\", \"run_name\": \"MaxAbsScaler, ExtremeRandomTrees\", \"run_properties\": \"copy=True\", \"primary_metric\": 0.87895946, \"best_metric\": 0.88105214}, {\"run_id\": \"AutoML_4cd1cc7a-8222-45fe-81c2-518b7e62c720_20\", \"run_number\": 25, \"metric\": null, \"status\": \"Completed\", \"run_type\": \"azureml.scriptrun\", \"training_percent\": \"100\", \"start_time\": \"2021-01-23T19:07:59.955739Z\", \"end_time\": \"2021-01-23T19:08:42.651726Z\", \"created_time\": \"2021-01-23T19:07:48.357102Z\", \"created_time_dt\": \"2021-01-23T19:07:48.357102Z\", \"duration\": \"0:00:54\", \"iteration\": \"20\", \"goal\": \"accuracy_max\", \"run_name\": \"StandardScalerWrapper, LightGBM\", \"run_properties\": \"<azureml.automl.runtime.shared.model_wrappers.StandardScalerWrapper object at 0x7f62ac966c50\", \"primary_metric\": 0.87895946, \"best_metric\": 0.88105214}, {\"run_id\": \"AutoML_4cd1cc7a-8222-45fe-81c2-518b7e62c720_21\", \"run_number\": 26, \"metric\": null, \"status\": \"Completed\", \"run_type\": \"azureml.scriptrun\", \"training_percent\": \"100\", \"start_time\": \"2021-01-23T19:08:35.923218Z\", \"end_time\": \"2021-01-23T19:09:21.679153Z\", \"created_time\": \"2021-01-23T19:08:19.825322Z\", \"created_time_dt\": \"2021-01-23T19:08:19.825322Z\", \"duration\": \"0:01:01\", \"iteration\": \"21\", \"goal\": \"accuracy_max\", \"run_name\": \"SparseNormalizer, XGBoostClassifier\", \"run_properties\": \"<azureml.automl.runtime.shared.model_wrappers.SparseNormalizer object at 0x7f221102c780\", \"primary_metric\": 0.87477456, \"best_metric\": 0.88105214}, {\"run_id\": \"AutoML_4cd1cc7a-8222-45fe-81c2-518b7e62c720_22\", \"run_number\": 27, \"metric\": null, \"status\": \"Completed\", \"run_type\": \"azureml.scriptrun\", \"training_percent\": \"100\", \"start_time\": \"2021-01-23T19:08:38.331063Z\", \"end_time\": \"2021-01-23T19:09:29.837176Z\", \"created_time\": \"2021-01-23T19:08:24.073325Z\", \"created_time_dt\": \"2021-01-23T19:08:24.073325Z\", \"duration\": \"0:01:05\", \"iteration\": \"22\", \"goal\": \"accuracy_max\", \"run_name\": \"SparseNormalizer, XGBoostClassifier\", \"run_properties\": \"<azureml.automl.runtime.shared.model_wrappers.SparseNormalizer object at 0x7fdc81b4f5f8\", \"primary_metric\": 0.88164871, \"best_metric\": 0.88164871}, {\"run_id\": \"AutoML_4cd1cc7a-8222-45fe-81c2-518b7e62c720_23\", \"run_number\": 28, \"metric\": null, \"status\": \"Completed\", \"run_type\": \"azureml.scriptrun\", \"training_percent\": \"100\", \"start_time\": \"2021-01-23T19:08:35.972812Z\", \"end_time\": \"2021-01-23T19:09:28.490249Z\", \"created_time\": \"2021-01-23T19:08:24.091723Z\", \"created_time_dt\": \"2021-01-23T19:08:24.091723Z\", \"duration\": \"0:01:04\", \"iteration\": \"23\", \"goal\": \"accuracy_max\", \"run_name\": \"SparseNormalizer, LightGBM\", \"run_properties\": \"<azureml.automl.runtime.shared.model_wrappers.SparseNormalizer object at 0x7f6a94ce7da0\", \"primary_metric\": 0.87895946, \"best_metric\": 0.88164871}, {\"run_id\": \"AutoML_4cd1cc7a-8222-45fe-81c2-518b7e62c720_24\", \"run_number\": 29, \"metric\": null, \"status\": \"Completed\", \"run_type\": \"azureml.scriptrun\", \"training_percent\": \"100\", \"start_time\": \"2021-01-23T19:08:57.732194Z\", \"end_time\": \"2021-01-23T19:09:43.572722Z\", \"created_time\": \"2021-01-23T19:08:44.578794Z\", \"created_time_dt\": \"2021-01-23T19:08:44.578794Z\", \"duration\": \"0:00:58\", \"iteration\": \"24\", \"goal\": \"accuracy_max\", \"run_name\": \"MaxAbsScaler, LightGBM\", \"run_properties\": \"copy=True\", \"primary_metric\": 0.87895946, \"best_metric\": 0.88164871}, {\"run_id\": \"AutoML_4cd1cc7a-8222-45fe-81c2-518b7e62c720_25\", \"run_number\": 30, \"metric\": null, \"status\": \"Completed\", \"run_type\": \"azureml.scriptrun\", \"training_percent\": \"100\", \"start_time\": \"2021-01-23T19:09:01.561838Z\", \"end_time\": \"2021-01-23T19:10:24.716856Z\", \"created_time\": \"2021-01-23T19:08:49.58805Z\", \"created_time_dt\": \"2021-01-23T19:08:49.58805Z\", \"duration\": \"0:01:35\", \"iteration\": \"25\", \"goal\": \"accuracy_max\", \"run_name\": \"SparseNormalizer, XGBoostClassifier\", \"run_properties\": \"<azureml.automl.runtime.shared.model_wrappers.SparseNormalizer object at 0x7f61dc7e9ba8\", \"primary_metric\": 0.87895946, \"best_metric\": 0.88164871}, {\"run_id\": \"AutoML_4cd1cc7a-8222-45fe-81c2-518b7e62c720_26\", \"run_number\": 31, \"metric\": null, \"status\": \"Completed\", \"run_type\": \"azureml.scriptrun\", \"training_percent\": \"100\", \"start_time\": \"2021-01-23T19:09:36.517681Z\", \"end_time\": \"2021-01-23T19:10:19.252502Z\", \"created_time\": \"2021-01-23T19:09:23.695733Z\", \"created_time_dt\": \"2021-01-23T19:09:23.695733Z\", \"duration\": \"0:00:55\", \"iteration\": \"26\", \"goal\": \"accuracy_max\", \"run_name\": \"SparseNormalizer, LightGBM\", \"run_properties\": \"<azureml.automl.runtime.shared.model_wrappers.SparseNormalizer object at 0x7f69406ddb00\", \"primary_metric\": 0.87895946, \"best_metric\": 0.88164871}, {\"run_id\": \"AutoML_4cd1cc7a-8222-45fe-81c2-518b7e62c720_27\", \"run_number\": 32, \"metric\": null, \"status\": \"Completed\", \"run_type\": \"azureml.scriptrun\", \"training_percent\": \"100\", \"start_time\": \"2021-01-23T19:09:41.034376Z\", \"end_time\": \"2021-01-23T19:10:31.398925Z\", \"created_time\": \"2021-01-23T19:09:30.969854Z\", \"created_time_dt\": \"2021-01-23T19:09:30.969854Z\", \"duration\": \"0:01:00\", \"iteration\": \"27\", \"goal\": \"accuracy_max\", \"run_name\": \"SparseNormalizer, ExtremeRandomTrees\", \"run_properties\": \"<azureml.automl.runtime.shared.model_wrappers.SparseNormalizer object at 0x7f8a3100df98\", \"primary_metric\": 0.66258706, \"best_metric\": 0.88164871}, {\"run_id\": \"AutoML_4cd1cc7a-8222-45fe-81c2-518b7e62c720_28\", \"run_number\": 33, \"metric\": null, \"status\": \"Completed\", \"run_type\": \"azureml.scriptrun\", \"training_percent\": \"100\", \"start_time\": \"2021-01-23T19:09:47.543993Z\", \"end_time\": \"2021-01-23T19:10:48.212027Z\", \"created_time\": \"2021-01-23T19:09:34.306336Z\", \"created_time_dt\": \"2021-01-23T19:09:34.306336Z\", \"duration\": \"0:01:13\", \"iteration\": \"28\", \"goal\": \"accuracy_max\", \"run_name\": \"StandardScalerWrapper, LightGBM\", \"run_properties\": \"<azureml.automl.runtime.shared.model_wrappers.StandardScalerWrapper object at 0x7efd21ca4550\", \"primary_metric\": 0.87895946, \"best_metric\": 0.88164871}, {\"run_id\": \"AutoML_4cd1cc7a-8222-45fe-81c2-518b7e62c720_29\", \"run_number\": 34, \"metric\": null, \"status\": \"Completed\", \"run_type\": \"azureml.scriptrun\", \"training_percent\": \"100\", \"start_time\": \"2021-01-23T19:09:57.384108Z\", \"end_time\": \"2021-01-23T19:10:41.104289Z\", \"created_time\": \"2021-01-23T19:09:45.430273Z\", \"created_time_dt\": \"2021-01-23T19:09:45.430273Z\", \"duration\": \"0:00:55\", \"iteration\": \"29\", \"goal\": \"accuracy_max\", \"run_name\": \"StandardScalerWrapper, LightGBM\", \"run_properties\": \"<azureml.automl.runtime.shared.model_wrappers.StandardScalerWrapper object at 0x7fe5b6a96b38\", \"primary_metric\": 0.87895946, \"best_metric\": 0.88164871}, {\"run_id\": \"AutoML_4cd1cc7a-8222-45fe-81c2-518b7e62c720_30\", \"run_number\": 35, \"metric\": null, \"status\": \"Completed\", \"run_type\": \"azureml.scriptrun\", \"training_percent\": \"100\", \"start_time\": \"2021-01-23T19:10:34.054405Z\", \"end_time\": \"2021-01-23T19:11:18.865078Z\", \"created_time\": \"2021-01-23T19:10:22.221725Z\", \"created_time_dt\": \"2021-01-23T19:10:22.221725Z\", \"duration\": \"0:00:56\", \"iteration\": \"30\", \"goal\": \"accuracy_max\", \"run_name\": \"SparseNormalizer, XGBoostClassifier\", \"run_properties\": \"<azureml.automl.runtime.shared.model_wrappers.SparseNormalizer object at 0x7fd8e7f08da0\", \"primary_metric\": 0.87895946, \"best_metric\": 0.88164871}, {\"run_id\": \"AutoML_4cd1cc7a-8222-45fe-81c2-518b7e62c720_31\", \"run_number\": 36, \"metric\": null, \"status\": \"Completed\", \"run_type\": \"azureml.scriptrun\", \"training_percent\": \"100\", \"start_time\": \"2021-01-23T19:10:39.046032Z\", \"end_time\": \"2021-01-23T19:11:29.425311Z\", \"created_time\": \"2021-01-23T19:10:27.322238Z\", \"created_time_dt\": \"2021-01-23T19:10:27.322238Z\", \"duration\": \"0:01:02\", \"iteration\": \"31\", \"goal\": \"accuracy_max\", \"run_name\": \"SparseNormalizer, LightGBM\", \"run_properties\": \"<azureml.automl.runtime.shared.model_wrappers.SparseNormalizer object at 0x7f909c617ba8\", \"primary_metric\": 0.87895946, \"best_metric\": 0.88164871}, {\"run_id\": \"AutoML_4cd1cc7a-8222-45fe-81c2-518b7e62c720_32\", \"run_number\": 37, \"metric\": null, \"status\": \"Completed\", \"run_type\": \"azureml.scriptrun\", \"training_percent\": \"100\", \"start_time\": \"2021-01-23T19:10:46.207387Z\", \"end_time\": \"2021-01-23T19:12:13.725159Z\", \"created_time\": \"2021-01-23T19:10:33.296092Z\", \"created_time_dt\": \"2021-01-23T19:10:33.296092Z\", \"duration\": \"0:01:40\", \"iteration\": \"32\", \"goal\": \"accuracy_max\", \"run_name\": \"StandardScalerWrapper, XGBoostClassifier\", \"run_properties\": \"<azureml.automl.runtime.shared.model_wrappers.StandardScalerWrapper object at 0x7f5847c1beb8\", \"primary_metric\": 0.87895946, \"best_metric\": 0.88164871}, {\"run_id\": \"AutoML_4cd1cc7a-8222-45fe-81c2-518b7e62c720_33\", \"run_number\": 38, \"metric\": null, \"status\": \"Completed\", \"run_type\": \"azureml.scriptrun\", \"training_percent\": \"100\", \"start_time\": \"2021-01-23T19:10:55.711565Z\", \"end_time\": \"2021-01-23T19:12:09.322328Z\", \"created_time\": \"2021-01-23T19:10:42.989285Z\", \"created_time_dt\": \"2021-01-23T19:10:42.989285Z\", \"duration\": \"0:01:26\", \"iteration\": \"33\", \"goal\": \"accuracy_max\", \"run_name\": \"MaxAbsScaler, LightGBM\", \"run_properties\": \"copy=True\", \"primary_metric\": 0.87895946, \"best_metric\": 0.88164871}, {\"run_id\": \"AutoML_4cd1cc7a-8222-45fe-81c2-518b7e62c720_34\", \"run_number\": 39, \"metric\": null, \"status\": \"Completed\", \"run_type\": \"azureml.scriptrun\", \"training_percent\": \"100\", \"start_time\": \"2021-01-23T19:11:02.226075Z\", \"end_time\": \"2021-01-23T19:11:42.310758Z\", \"created_time\": \"2021-01-23T19:10:50.290007Z\", \"created_time_dt\": \"2021-01-23T19:10:50.290007Z\", \"duration\": \"0:00:52\", \"iteration\": \"34\", \"goal\": \"accuracy_max\", \"run_name\": \"StandardScalerWrapper, LightGBM\", \"run_properties\": \"<azureml.automl.runtime.shared.model_wrappers.StandardScalerWrapper object at 0x7f7afa94de48\", \"primary_metric\": 0.87895946, \"best_metric\": 0.88164871}, {\"run_id\": \"AutoML_4cd1cc7a-8222-45fe-81c2-518b7e62c720_35\", \"run_number\": 40, \"metric\": null, \"status\": \"Completed\", \"run_type\": \"azureml.scriptrun\", \"training_percent\": \"100\", \"start_time\": \"2021-01-23T19:11:31.872573Z\", \"end_time\": \"2021-01-23T19:12:25.239131Z\", \"created_time\": \"2021-01-23T19:11:21.739808Z\", \"created_time_dt\": \"2021-01-23T19:11:21.739808Z\", \"duration\": \"0:01:03\", \"iteration\": \"35\", \"goal\": \"accuracy_max\", \"run_name\": \"StandardScalerWrapper, XGBoostClassifier\", \"run_properties\": \"<azureml.automl.runtime.shared.model_wrappers.StandardScalerWrapper object at 0x7f46d3fe3080\", \"primary_metric\": 0.87895946, \"best_metric\": 0.88164871}, {\"run_id\": \"AutoML_4cd1cc7a-8222-45fe-81c2-518b7e62c720_36\", \"run_number\": 41, \"metric\": null, \"status\": \"Completed\", \"run_type\": \"azureml.scriptrun\", \"training_percent\": \"100\", \"start_time\": \"2021-01-23T19:11:46.041034Z\", \"end_time\": \"2021-01-23T19:12:37.567359Z\", \"created_time\": \"2021-01-23T19:11:33.565056Z\", \"created_time_dt\": \"2021-01-23T19:11:33.565056Z\", \"duration\": \"0:01:04\", \"iteration\": \"36\", \"goal\": \"accuracy_max\", \"run_name\": \"MaxAbsScaler, GradientBoosting\", \"run_properties\": \"copy=True\", \"primary_metric\": 0.87895946, \"best_metric\": 0.88164871}, {\"run_id\": \"AutoML_4cd1cc7a-8222-45fe-81c2-518b7e62c720_37\", \"run_number\": 42, \"metric\": null, \"status\": \"Completed\", \"run_type\": \"azureml.scriptrun\", \"training_percent\": \"100\", \"start_time\": \"2021-01-23T19:11:54.957159Z\", \"end_time\": \"2021-01-23T19:12:45.464768Z\", \"created_time\": \"2021-01-23T19:11:44.197836Z\", \"created_time_dt\": \"2021-01-23T19:11:44.197836Z\", \"duration\": \"0:01:01\", \"iteration\": \"37\", \"goal\": \"accuracy_max\", \"run_name\": \"StandardScalerWrapper, LightGBM\", \"run_properties\": \"<azureml.automl.runtime.shared.model_wrappers.StandardScalerWrapper object at 0x7f8a2e92a208\", \"primary_metric\": 0.87895946, \"best_metric\": 0.88164871}, {\"run_id\": \"AutoML_4cd1cc7a-8222-45fe-81c2-518b7e62c720_38\", \"run_number\": 43, \"metric\": null, \"status\": \"Completed\", \"run_type\": \"azureml.scriptrun\", \"training_percent\": \"100\", \"start_time\": \"2021-01-23T19:12:22.687849Z\", \"end_time\": \"2021-01-23T19:13:07.421349Z\", \"created_time\": \"2021-01-23T19:12:11.162586Z\", \"created_time_dt\": \"2021-01-23T19:12:11.162586Z\", \"duration\": \"0:00:56\", \"iteration\": \"38\", \"goal\": \"accuracy_max\", \"run_name\": \"StandardScalerWrapper, LightGBM\", \"run_properties\": \"<azureml.automl.runtime.shared.model_wrappers.StandardScalerWrapper object at 0x7f7b49625f60\", \"primary_metric\": 0.87895946, \"best_metric\": 0.88164871}, {\"run_id\": \"AutoML_4cd1cc7a-8222-45fe-81c2-518b7e62c720_39\", \"run_number\": 44, \"metric\": null, \"status\": \"Completed\", \"run_type\": \"azureml.scriptrun\", \"training_percent\": \"100\", \"start_time\": \"2021-01-23T19:12:27.373232Z\", \"end_time\": \"2021-01-23T19:13:12.989619Z\", \"created_time\": \"2021-01-23T19:12:15.68639Z\", \"created_time_dt\": \"2021-01-23T19:12:15.68639Z\", \"duration\": \"0:00:57\", \"iteration\": \"39\", \"goal\": \"accuracy_max\", \"run_name\": \"StandardScalerWrapper, LightGBM\", \"run_properties\": \"<azureml.automl.runtime.shared.model_wrappers.StandardScalerWrapper object at 0x7fd5fc2d7c50\", \"primary_metric\": 0.87895946, \"best_metric\": 0.88164871}, {\"run_id\": \"AutoML_4cd1cc7a-8222-45fe-81c2-518b7e62c720_40\", \"run_number\": 45, \"metric\": null, \"status\": \"Completed\", \"run_type\": \"azureml.scriptrun\", \"training_percent\": \"100\", \"start_time\": \"2021-01-23T19:12:38.417Z\", \"end_time\": \"2021-01-23T19:13:31.595418Z\", \"created_time\": \"2021-01-23T19:12:27.983404Z\", \"created_time_dt\": \"2021-01-23T19:12:27.983404Z\", \"duration\": \"0:01:03\", \"iteration\": \"40\", \"goal\": \"accuracy_max\", \"run_name\": \"StandardScalerWrapper, XGBoostClassifier\", \"run_properties\": \"<azureml.automl.runtime.shared.model_wrappers.StandardScalerWrapper object at 0x7f5ad08b7518\", \"primary_metric\": 0.87895946, \"best_metric\": 0.88164871}, {\"run_id\": \"AutoML_4cd1cc7a-8222-45fe-81c2-518b7e62c720_41\", \"run_number\": 46, \"metric\": null, \"status\": \"Completed\", \"run_type\": \"azureml.scriptrun\", \"training_percent\": \"100\", \"start_time\": \"2021-01-23T19:12:54.611307Z\", \"end_time\": \"2021-01-23T19:13:46.639651Z\", \"created_time\": \"2021-01-23T19:12:39.910213Z\", \"created_time_dt\": \"2021-01-23T19:12:39.910213Z\", \"duration\": \"0:01:06\", \"iteration\": \"41\", \"goal\": \"accuracy_max\", \"run_name\": \"MaxAbsScaler, LightGBM\", \"run_properties\": \"copy=True\", \"primary_metric\": 0.87895946, \"best_metric\": 0.88164871}, {\"run_id\": \"AutoML_4cd1cc7a-8222-45fe-81c2-518b7e62c720_42\", \"run_number\": 47, \"metric\": null, \"status\": \"Completed\", \"run_type\": \"azureml.scriptrun\", \"training_percent\": \"100\", \"start_time\": \"2021-01-23T19:12:59.179454Z\", \"end_time\": \"2021-01-23T19:13:46.784972Z\", \"created_time\": \"2021-01-23T19:12:47.228213Z\", \"created_time_dt\": \"2021-01-23T19:12:47.228213Z\", \"duration\": \"0:00:59\", \"iteration\": \"42\", \"goal\": \"accuracy_max\", \"run_name\": \"SparseNormalizer, XGBoostClassifier\", \"run_properties\": \"<azureml.automl.runtime.shared.model_wrappers.SparseNormalizer object at 0x7fd42de3ea90\", \"primary_metric\": 0.88105169, \"best_metric\": 0.88164871}, {\"run_id\": \"AutoML_4cd1cc7a-8222-45fe-81c2-518b7e62c720_43\", \"run_number\": 48, \"metric\": null, \"status\": \"Completed\", \"run_type\": \"azureml.scriptrun\", \"training_percent\": \"100\", \"start_time\": \"2021-01-23T19:13:24.598859Z\", \"end_time\": \"2021-01-23T19:14:10.361444Z\", \"created_time\": \"2021-01-23T19:13:11.045233Z\", \"created_time_dt\": \"2021-01-23T19:13:11.045233Z\", \"duration\": \"0:00:59\", \"iteration\": \"43\", \"goal\": \"accuracy_max\", \"run_name\": \"StandardScalerWrapper, ExtremeRandomTrees\", \"run_properties\": \"<azureml.automl.runtime.shared.model_wrappers.StandardScalerWrapper object at 0x7fae52390eb8\", \"primary_metric\": 0.87895946, \"best_metric\": 0.88164871}, {\"run_id\": \"AutoML_4cd1cc7a-8222-45fe-81c2-518b7e62c720_44\", \"run_number\": 49, \"metric\": null, \"status\": \"Completed\", \"run_type\": \"azureml.scriptrun\", \"training_percent\": \"100\", \"start_time\": \"2021-01-23T19:13:31.030603Z\", \"end_time\": \"2021-01-23T19:14:22.773388Z\", \"created_time\": \"2021-01-23T19:13:17.744132Z\", \"created_time_dt\": \"2021-01-23T19:13:17.744132Z\", \"duration\": \"0:01:05\", \"iteration\": \"44\", \"goal\": \"accuracy_max\", \"run_name\": \"StandardScalerWrapper, XGBoostClassifier\", \"run_properties\": \"<azureml.automl.runtime.shared.model_wrappers.StandardScalerWrapper object at 0x7f59c757add8\", \"primary_metric\": 0.8589376, \"best_metric\": 0.88164871}, {\"run_id\": \"AutoML_4cd1cc7a-8222-45fe-81c2-518b7e62c720_45\", \"run_number\": 50, \"metric\": null, \"status\": \"Completed\", \"run_type\": \"azureml.scriptrun\", \"training_percent\": \"100\", \"start_time\": \"2021-01-23T19:13:47.94886Z\", \"end_time\": \"2021-01-23T19:14:33.664933Z\", \"created_time\": \"2021-01-23T19:13:35.760094Z\", \"created_time_dt\": \"2021-01-23T19:13:35.760094Z\", \"duration\": \"0:00:57\", \"iteration\": \"45\", \"goal\": \"accuracy_max\", \"run_name\": \"SparseNormalizer, XGBoostClassifier\", \"run_properties\": \"<azureml.automl.runtime.shared.model_wrappers.SparseNormalizer object at 0x7fbbf6756208\", \"primary_metric\": 0.87895946, \"best_metric\": 0.88164871}, {\"run_id\": \"AutoML_4cd1cc7a-8222-45fe-81c2-518b7e62c720_47\", \"run_number\": 51, \"metric\": null, \"status\": \"Completed\", \"run_type\": \"azureml.scriptrun\", \"training_percent\": \"100\", \"start_time\": \"2021-01-23T19:14:01.861005Z\", \"end_time\": \"2021-01-23T19:15:02.854434Z\", \"created_time\": \"2021-01-23T19:13:50.237479Z\", \"created_time_dt\": \"2021-01-23T19:13:50.237479Z\", \"duration\": \"0:01:12\", \"iteration\": \"47\", \"goal\": \"accuracy_max\", \"run_name\": \"StandardScalerWrapper, XGBoostClassifier\", \"run_properties\": \"<azureml.automl.runtime.shared.model_wrappers.StandardScalerWrapper object at 0x7f4f39e74c88\", \"primary_metric\": 0.85535239, \"best_metric\": 0.88164871}, {\"run_id\": \"AutoML_4cd1cc7a-8222-45fe-81c2-518b7e62c720_46\", \"run_number\": 52, \"metric\": null, \"status\": \"Completed\", \"run_type\": \"azureml.scriptrun\", \"training_percent\": \"100\", \"start_time\": \"2021-01-23T19:14:01.987214Z\", \"end_time\": \"2021-01-23T19:15:04.94943Z\", \"created_time\": \"2021-01-23T19:13:50.359553Z\", \"created_time_dt\": \"2021-01-23T19:13:50.359553Z\", \"duration\": \"0:01:14\", \"iteration\": \"46\", \"goal\": \"accuracy_max\", \"run_name\": \"StandardScalerWrapper, XGBoostClassifier\", \"run_properties\": \"<azureml.automl.runtime.shared.model_wrappers.StandardScalerWrapper object at 0x7f42d71b7da0\", \"primary_metric\": 0.85744372, \"best_metric\": 0.88164871}, {\"run_id\": \"AutoML_4cd1cc7a-8222-45fe-81c2-518b7e62c720_48\", \"run_number\": 53, \"metric\": null, \"status\": \"Completed\", \"run_type\": \"azureml.scriptrun\", \"training_percent\": \"100\", \"start_time\": \"2021-01-23T19:14:25.652049Z\", \"end_time\": \"2021-01-23T19:15:21.181574Z\", \"created_time\": \"2021-01-23T19:14:13.93253Z\", \"created_time_dt\": \"2021-01-23T19:14:13.93253Z\", \"duration\": \"0:01:07\", \"iteration\": \"48\", \"goal\": \"accuracy_max\", \"run_name\": \"StandardScalerWrapper, XGBoostClassifier\", \"run_properties\": \"<azureml.automl.runtime.shared.model_wrappers.StandardScalerWrapper object at 0x7f65a684fb00\", \"primary_metric\": 0.85923655, \"best_metric\": 0.88164871}, {\"run_id\": \"AutoML_4cd1cc7a-8222-45fe-81c2-518b7e62c720_49\", \"run_number\": 54, \"metric\": null, \"status\": \"Completed\", \"run_type\": \"azureml.scriptrun\", \"training_percent\": \"100\", \"start_time\": \"2021-01-23T19:14:40.351969Z\", \"end_time\": \"2021-01-23T19:15:24.942196Z\", \"created_time\": \"2021-01-23T19:14:25.835213Z\", \"created_time_dt\": \"2021-01-23T19:14:25.835213Z\", \"duration\": \"0:00:59\", \"iteration\": \"49\", \"goal\": \"accuracy_max\", \"run_name\": \"SparseNormalizer, LightGBM\", \"run_properties\": \"<azureml.automl.runtime.shared.model_wrappers.SparseNormalizer object at 0x7f53450e5668\", \"primary_metric\": 0.87925842, \"best_metric\": 0.88164871}, {\"run_id\": \"AutoML_4cd1cc7a-8222-45fe-81c2-518b7e62c720_50\", \"run_number\": 55, \"metric\": null, \"status\": \"Completed\", \"run_type\": \"azureml.scriptrun\", \"training_percent\": \"100\", \"start_time\": \"2021-01-23T19:14:49.620914Z\", \"end_time\": \"2021-01-23T19:15:41.655189Z\", \"created_time\": \"2021-01-23T19:14:37.657833Z\", \"created_time_dt\": \"2021-01-23T19:14:37.657833Z\", \"duration\": \"0:01:03\", \"iteration\": \"50\", \"goal\": \"accuracy_max\", \"run_name\": \"TruncatedSVDWrapper, XGBoostClassifier\", \"run_properties\": \"n_components=0.10894736842105263, random_state=None\", \"primary_metric\": 0.87895946, \"best_metric\": 0.88164871}, {\"run_id\": \"AutoML_4cd1cc7a-8222-45fe-81c2-518b7e62c720_51\", \"run_number\": 56, \"metric\": null, \"status\": \"Completed\", \"run_type\": \"azureml.scriptrun\", \"training_percent\": \"100\", \"start_time\": \"2021-01-23T19:15:17.471318Z\", \"end_time\": \"2021-01-23T19:16:18.771352Z\", \"created_time\": \"2021-01-23T19:15:05.603999Z\", \"created_time_dt\": \"2021-01-23T19:15:05.603999Z\", \"duration\": \"0:01:13\", \"iteration\": \"51\", \"goal\": \"accuracy_max\", \"run_name\": \"StandardScalerWrapper, XGBoostClassifier\", \"run_properties\": \"<azureml.automl.runtime.shared.model_wrappers.StandardScalerWrapper object at 0x7fae9c3d6be0\", \"primary_metric\": 0.87895946, \"best_metric\": 0.88164871}, {\"run_id\": \"AutoML_4cd1cc7a-8222-45fe-81c2-518b7e62c720_52\", \"run_number\": 57, \"metric\": null, \"status\": \"Completed\", \"run_type\": \"azureml.scriptrun\", \"training_percent\": \"100\", \"start_time\": \"2021-01-23T19:15:21.086474Z\", \"end_time\": \"2021-01-23T19:16:08.073431Z\", \"created_time\": \"2021-01-23T19:15:09.751348Z\", \"created_time_dt\": \"2021-01-23T19:15:09.751348Z\", \"duration\": \"0:00:58\", \"iteration\": \"52\", \"goal\": \"accuracy_max\", \"run_name\": \"StandardScalerWrapper, ExtremeRandomTrees\", \"run_properties\": \"<azureml.automl.runtime.shared.model_wrappers.StandardScalerWrapper object at 0x7f7bd329d748\", \"primary_metric\": 0.87895946, \"best_metric\": 0.88164871}, {\"run_id\": \"AutoML_4cd1cc7a-8222-45fe-81c2-518b7e62c720_53\", \"run_number\": 58, \"metric\": null, \"status\": \"Completed\", \"run_type\": \"azureml.scriptrun\", \"training_percent\": \"100\", \"start_time\": \"2021-01-23T19:15:34.869686Z\", \"end_time\": \"2021-01-23T19:16:18.111463Z\", \"created_time\": \"2021-01-23T19:15:23.038913Z\", \"created_time_dt\": \"2021-01-23T19:15:23.038913Z\", \"duration\": \"0:00:55\", \"iteration\": \"53\", \"goal\": \"accuracy_max\", \"run_name\": \"SparseNormalizer, LightGBM\", \"run_properties\": \"<azureml.automl.runtime.shared.model_wrappers.SparseNormalizer object at 0x7f68e03d7a58\", \"primary_metric\": 0.87895946, \"best_metric\": 0.88164871}, {\"run_id\": \"AutoML_4cd1cc7a-8222-45fe-81c2-518b7e62c720_54\", \"run_number\": 59, \"metric\": null, \"status\": \"Completed\", \"run_type\": \"azureml.scriptrun\", \"training_percent\": \"100\", \"start_time\": \"2021-01-23T19:15:38.455027Z\", \"end_time\": \"2021-01-23T19:16:23.477732Z\", \"created_time\": \"2021-01-23T19:15:27.202946Z\", \"created_time_dt\": \"2021-01-23T19:15:27.202946Z\", \"duration\": \"0:00:56\", \"iteration\": \"54\", \"goal\": \"accuracy_max\", \"run_name\": \"MaxAbsScaler, LightGBM\", \"run_properties\": \"copy=True\", \"primary_metric\": 0.87895946, \"best_metric\": 0.88164871}, {\"run_id\": \"AutoML_4cd1cc7a-8222-45fe-81c2-518b7e62c720_55\", \"run_number\": 60, \"metric\": null, \"status\": \"Completed\", \"run_type\": \"azureml.scriptrun\", \"training_percent\": \"100\", \"start_time\": \"2021-01-23T19:15:55.474521Z\", \"end_time\": \"2021-01-23T19:16:40.99517Z\", \"created_time\": \"2021-01-23T19:15:44.586947Z\", \"created_time_dt\": \"2021-01-23T19:15:44.586947Z\", \"duration\": \"0:00:56\", \"iteration\": \"55\", \"goal\": \"accuracy_max\", \"run_name\": \"StandardScalerWrapper, XGBoostClassifier\", \"run_properties\": \"<azureml.automl.runtime.shared.model_wrappers.StandardScalerWrapper object at 0x7f9946907978\", \"primary_metric\": 0.87895946, \"best_metric\": 0.88164871}, {\"run_id\": \"AutoML_4cd1cc7a-8222-45fe-81c2-518b7e62c720_56\", \"run_number\": 61, \"metric\": null, \"status\": \"Completed\", \"run_type\": \"azureml.scriptrun\", \"training_percent\": \"100\", \"start_time\": \"2021-01-23T19:16:23.700757Z\", \"end_time\": \"2021-01-23T19:17:13.964897Z\", \"created_time\": \"2021-01-23T19:16:09.952529Z\", \"created_time_dt\": \"2021-01-23T19:16:09.952529Z\", \"duration\": \"0:01:04\", \"iteration\": \"56\", \"goal\": \"accuracy_max\", \"run_name\": \"MaxAbsScaler, LightGBM\", \"run_properties\": \"copy=True\", \"primary_metric\": 0.87895946, \"best_metric\": 0.88164871}, {\"run_id\": \"AutoML_4cd1cc7a-8222-45fe-81c2-518b7e62c720_57\", \"run_number\": 62, \"metric\": null, \"status\": \"Completed\", \"run_type\": \"azureml.scriptrun\", \"training_percent\": \"100\", \"start_time\": \"2021-01-23T19:16:31.755936Z\", \"end_time\": \"2021-01-23T19:17:19.499581Z\", \"created_time\": \"2021-01-23T19:16:20.054991Z\", \"created_time_dt\": \"2021-01-23T19:16:20.054991Z\", \"duration\": \"0:00:59\", \"iteration\": \"57\", \"goal\": \"accuracy_max\", \"run_name\": \"StandardScalerWrapper, LightGBM\", \"run_properties\": \"<azureml.automl.runtime.shared.model_wrappers.StandardScalerWrapper object at 0x7f8642263b70\", \"primary_metric\": 0.87895946, \"best_metric\": 0.88164871}, {\"run_id\": \"AutoML_4cd1cc7a-8222-45fe-81c2-518b7e62c720_58\", \"run_number\": 63, \"metric\": null, \"status\": \"Completed\", \"run_type\": \"azureml.scriptrun\", \"training_percent\": \"100\", \"start_time\": \"2021-01-23T19:16:36.935001Z\", \"end_time\": \"2021-01-23T19:17:26.443063Z\", \"created_time\": \"2021-01-23T19:16:23.853246Z\", \"created_time_dt\": \"2021-01-23T19:16:23.853246Z\", \"duration\": \"0:01:02\", \"iteration\": \"58\", \"goal\": \"accuracy_max\", \"run_name\": \"StandardScalerWrapper, XGBoostClassifier\", \"run_properties\": \"<azureml.automl.runtime.shared.model_wrappers.StandardScalerWrapper object at 0x7f53bf53ddd8\", \"primary_metric\": 0.87866051, \"best_metric\": 0.88164871}, {\"run_id\": \"AutoML_4cd1cc7a-8222-45fe-81c2-518b7e62c720_59\", \"run_number\": 64, \"metric\": null, \"status\": \"Completed\", \"run_type\": \"azureml.scriptrun\", \"training_percent\": \"100\", \"start_time\": \"2021-01-23T19:16:40.809003Z\", \"end_time\": \"2021-01-23T19:17:26.439669Z\", \"created_time\": \"2021-01-23T19:16:27.850834Z\", \"created_time_dt\": \"2021-01-23T19:16:27.850834Z\", \"duration\": \"0:00:58\", \"iteration\": \"59\", \"goal\": \"accuracy_max\", \"run_name\": \"SparseNormalizer, XGBoostClassifier\", \"run_properties\": \"<azureml.automl.runtime.shared.model_wrappers.SparseNormalizer object at 0x7fbe8c1c6be0\", \"primary_metric\": 0.87895946, \"best_metric\": 0.88164871}, {\"run_id\": \"AutoML_4cd1cc7a-8222-45fe-81c2-518b7e62c720_60\", \"run_number\": 65, \"metric\": null, \"status\": \"Completed\", \"run_type\": \"azureml.scriptrun\", \"training_percent\": \"100\", \"start_time\": \"2021-01-23T19:16:56.091247Z\", \"end_time\": \"2021-01-23T19:17:45.329922Z\", \"created_time\": \"2021-01-23T19:16:43.755027Z\", \"created_time_dt\": \"2021-01-23T19:16:43.755027Z\", \"duration\": \"0:01:01\", \"iteration\": \"60\", \"goal\": \"accuracy_max\", \"run_name\": \"StandardScalerWrapper, XGBoostClassifier\", \"run_properties\": \"<azureml.automl.runtime.shared.model_wrappers.StandardScalerWrapper object at 0x7fcd4efc8ef0\", \"primary_metric\": 0.87895946, \"best_metric\": 0.88164871}, {\"run_id\": \"AutoML_4cd1cc7a-8222-45fe-81c2-518b7e62c720_61\", \"run_number\": 66, \"metric\": null, \"status\": \"Completed\", \"run_type\": \"azureml.scriptrun\", \"training_percent\": \"100\", \"start_time\": \"2021-01-23T19:17:28.101184Z\", \"end_time\": \"2021-01-23T19:18:18.429235Z\", \"created_time\": \"2021-01-23T19:17:15.849805Z\", \"created_time_dt\": \"2021-01-23T19:17:15.849805Z\", \"duration\": \"0:01:02\", \"iteration\": \"61\", \"goal\": \"accuracy_max\", \"run_name\": \"MaxAbsScaler, LightGBM\", \"run_properties\": \"copy=True\", \"primary_metric\": 0.87895946, \"best_metric\": 0.88164871}, {\"run_id\": \"AutoML_4cd1cc7a-8222-45fe-81c2-518b7e62c720_62\", \"run_number\": 67, \"metric\": null, \"status\": \"Completed\", \"run_type\": \"azureml.scriptrun\", \"training_percent\": \"100\", \"start_time\": \"2021-01-23T19:17:32.856428Z\", \"end_time\": \"2021-01-23T19:18:20.257277Z\", \"created_time\": \"2021-01-23T19:17:21.461134Z\", \"created_time_dt\": \"2021-01-23T19:17:21.461134Z\", \"duration\": \"0:00:58\", \"iteration\": \"62\", \"goal\": \"accuracy_max\", \"run_name\": \"StandardScalerWrapper, XGBoostClassifier\", \"run_properties\": \"<azureml.automl.runtime.shared.model_wrappers.StandardScalerWrapper object at 0x7f8a513ea2e8\", \"primary_metric\": 0.87866051, \"best_metric\": 0.88164871}, {\"run_id\": \"AutoML_4cd1cc7a-8222-45fe-81c2-518b7e62c720_64\", \"run_number\": 68, \"metric\": null, \"status\": \"Completed\", \"run_type\": \"azureml.scriptrun\", \"training_percent\": \"100\", \"start_time\": \"2021-01-23T19:17:41.666829Z\", \"end_time\": \"2021-01-23T19:18:42.445751Z\", \"created_time\": \"2021-01-23T19:17:28.916239Z\", \"created_time_dt\": \"2021-01-23T19:17:28.916239Z\", \"duration\": \"0:01:13\", \"iteration\": \"64\", \"goal\": \"accuracy_max\", \"run_name\": \"StandardScalerWrapper, LightGBM\", \"run_properties\": \"<azureml.automl.runtime.shared.model_wrappers.StandardScalerWrapper object at 0x7f6619b46ac8\", \"primary_metric\": 0.87895946, \"best_metric\": 0.88164871}, {\"run_id\": \"AutoML_4cd1cc7a-8222-45fe-81c2-518b7e62c720_63\", \"run_number\": 69, \"metric\": null, \"status\": \"Completed\", \"run_type\": \"azureml.scriptrun\", \"training_percent\": \"100\", \"start_time\": \"2021-01-23T19:17:42.487463Z\", \"end_time\": \"2021-01-23T19:18:31.962042Z\", \"created_time\": \"2021-01-23T19:17:28.995607Z\", \"created_time_dt\": \"2021-01-23T19:17:28.995607Z\", \"duration\": \"0:01:02\", \"iteration\": \"63\", \"goal\": \"accuracy_max\", \"run_name\": \"SparseNormalizer, LightGBM\", \"run_properties\": \"<azureml.automl.runtime.shared.model_wrappers.SparseNormalizer object at 0x7f3a49f3f630\", \"primary_metric\": 0.87895946, \"best_metric\": 0.88164871}, {\"run_id\": \"AutoML_4cd1cc7a-8222-45fe-81c2-518b7e62c720_65\", \"run_number\": 70, \"metric\": null, \"status\": \"Completed\", \"run_type\": \"azureml.scriptrun\", \"training_percent\": \"100\", \"start_time\": \"2021-01-23T19:18:00.344478Z\", \"end_time\": \"2021-01-23T19:18:45.906656Z\", \"created_time\": \"2021-01-23T19:17:48.513627Z\", \"created_time_dt\": \"2021-01-23T19:17:48.513627Z\", \"duration\": \"0:00:57\", \"iteration\": \"65\", \"goal\": \"accuracy_max\", \"run_name\": \"SparseNormalizer, XGBoostClassifier\", \"run_properties\": \"<azureml.automl.runtime.shared.model_wrappers.SparseNormalizer object at 0x7f5c2cb538d0\", \"primary_metric\": 0.87895946, \"best_metric\": 0.88164871}, {\"run_id\": \"AutoML_4cd1cc7a-8222-45fe-81c2-518b7e62c720_66\", \"run_number\": 71, \"metric\": null, \"status\": \"Completed\", \"run_type\": \"azureml.scriptrun\", \"training_percent\": \"100\", \"start_time\": \"2021-01-23T19:18:32.101031Z\", \"end_time\": \"2021-01-23T19:19:22.651187Z\", \"created_time\": \"2021-01-23T19:18:20.823437Z\", \"created_time_dt\": \"2021-01-23T19:18:20.823437Z\", \"duration\": \"0:01:01\", \"iteration\": \"66\", \"goal\": \"accuracy_max\", \"run_name\": \"SparseNormalizer, XGBoostClassifier\", \"run_properties\": \"<azureml.automl.runtime.shared.model_wrappers.SparseNormalizer object at 0x7f5e95dc1c88\", \"primary_metric\": 0.87895768, \"best_metric\": 0.88164871}, {\"run_id\": \"AutoML_4cd1cc7a-8222-45fe-81c2-518b7e62c720_67\", \"run_number\": 72, \"metric\": null, \"status\": \"Canceled\", \"run_type\": \"azureml.scriptrun\", \"training_percent\": \"100\", \"start_time\": \"2021-01-23T19:18:34.474613Z\", \"end_time\": \"2021-01-23T19:19:29.896223Z\", \"created_time\": \"2021-01-23T19:18:24.733092Z\", \"created_time_dt\": \"2021-01-23T19:18:24.733092Z\", \"duration\": \"0:01:05\", \"iteration\": \"67\", \"goal\": \"accuracy_max\", \"run_name\": \"MaxAbsScaler, LightGBM\", \"run_properties\": \"copy=True\", \"primary_metric\": 0.87895946, \"best_metric\": 0.88164871}, {\"run_id\": \"AutoML_4cd1cc7a-8222-45fe-81c2-518b7e62c720_68\", \"run_number\": 73, \"metric\": null, \"status\": \"Canceled\", \"run_type\": \"azureml.scriptrun\", \"training_percent\": \"100\", \"start_time\": \"2021-01-23T19:18:45.092593Z\", \"end_time\": \"2021-01-23T19:19:32.35185Z\", \"created_time\": \"2021-01-23T19:18:33.893054Z\", \"created_time_dt\": \"2021-01-23T19:18:33.893054Z\", \"duration\": \"0:00:58\", \"iteration\": \"68\", \"goal\": \"accuracy_max\", \"run_name\": \"SparseNormalizer, LightGBM\", \"run_properties\": \"<azureml.automl.runtime.shared.model_wrappers.SparseNormalizer object at 0x7f7c16aed3c8\", \"primary_metric\": 0.87895946, \"best_metric\": 0.88164871}, {\"run_id\": \"AutoML_4cd1cc7a-8222-45fe-81c2-518b7e62c720_69\", \"run_number\": 74, \"metric\": null, \"status\": \"Canceled\", \"run_type\": \"azureml.scriptrun\", \"training_percent\": \"100\", \"start_time\": \"2021-01-23T19:18:54.996623Z\", \"end_time\": \"2021-01-23T19:19:30.941509Z\", \"created_time\": \"2021-01-23T19:18:44.469037Z\", \"created_time_dt\": \"2021-01-23T19:18:44.469037Z\", \"duration\": \"0:00:46\", \"iteration\": \"69\", \"goal\": \"accuracy_max\", \"run_name\": \"StandardScalerWrapper, LightGBM\", \"run_properties\": \"<azureml.automl.runtime.shared.model_wrappers.StandardScalerWrapper object at 0x7f1236608240\", \"primary_metric\": 0.87895946, \"best_metric\": 0.88164871}, {\"run_id\": \"AutoML_4cd1cc7a-8222-45fe-81c2-518b7e62c720_70\", \"run_number\": 75, \"metric\": null, \"status\": \"Canceled\", \"run_type\": \"azureml.scriptrun\", \"training_percent\": \"100\", \"start_time\": \"2021-01-23T19:18:59.030487Z\", \"end_time\": \"2021-01-23T19:19:29.866332Z\", \"created_time\": \"2021-01-23T19:18:49.302712Z\", \"created_time_dt\": \"2021-01-23T19:18:49.302712Z\", \"duration\": \"0:00:40\", \"iteration\": \"70\", \"goal\": \"accuracy_max\", \"run_name\": \"StandardScalerWrapper, XGBoostClassifier\", \"run_properties\": \"<azureml.automl.runtime.shared.model_wrappers.StandardScalerWrapper object at 0x7f6072c54ac8\", \"primary_metric\": 0.87895946, \"best_metric\": 0.88164871}, {\"run_id\": \"AutoML_4cd1cc7a-8222-45fe-81c2-518b7e62c720_72\", \"run_number\": 76, \"metric\": null, \"status\": \"Completed\", \"run_type\": \"azureml.scriptrun\", \"training_percent\": \"100\", \"start_time\": \"2021-01-23T19:19:48.716674Z\", \"end_time\": \"2021-01-23T19:21:34.291193Z\", \"created_time\": \"2021-01-23T19:19:33.664046Z\", \"created_time_dt\": \"2021-01-23T19:19:33.664046Z\", \"duration\": \"0:02:00\", \"iteration\": \"72\", \"goal\": \"accuracy_max\", \"run_name\": \"StackEnsemble\", \"run_properties\": \"base_learners=[('22',\\n                                        Pipeline(memory=None,\\n                                                 steps=[('sparsenormalizer',\\n                                                         <azureml.automl.runtime.shared.model_wrappers.SparseNormalizer object at 0x7feaf0646c88>\", \"primary_metric\": 0.88164915, \"best_metric\": 0.88254557}, {\"run_id\": \"AutoML_4cd1cc7a-8222-45fe-81c2-518b7e62c720_71\", \"run_number\": 77, \"metric\": null, \"status\": \"Completed\", \"run_type\": \"azureml.scriptrun\", \"training_percent\": \"100\", \"start_time\": \"2021-01-23T19:19:45.940392Z\", \"end_time\": \"2021-01-23T19:21:31.843362Z\", \"created_time\": \"2021-01-23T19:19:33.703869Z\", \"created_time_dt\": \"2021-01-23T19:19:33.703869Z\", \"duration\": \"0:01:58\", \"iteration\": \"71\", \"goal\": \"accuracy_max\", \"run_name\": \"VotingEnsemble\", \"run_properties\": \"classification_labels=None,\\n                              estimators=[('22',\\n                                           Pipeline(memory=None,\\n                                                    steps=[('sparsenormalizer',\\n                                                            <azureml.automl.runtime.shared.model_wrappers.SparseNormalizer object at 0x7f91141b4b00>\", \"primary_metric\": 0.88254557, \"best_metric\": 0.88254557}], \"children_metrics\": {\"categories\": [0], \"series\": {\"average_precision_score_micro\": [{\"categories\": [\"0\", \"1\", \"2\", \"3\", \"4\", \"5\", \"6\", \"7\", \"8\", \"9\", \"10\", \"11\", \"12\", \"13\", \"14\", \"15\", \"16\", \"17\", \"18\", \"19\", \"20\", \"21\", \"22\", \"23\", \"24\", \"25\", \"26\", \"27\", \"28\", \"29\", \"30\", \"31\", \"32\", \"33\", \"34\", \"35\", \"36\", \"37\", \"38\", \"39\", \"40\", \"41\", \"42\", \"43\", \"44\", \"45\", \"46\", \"47\", \"48\", \"49\", \"50\", \"51\", \"52\", \"53\", \"54\", \"55\", \"56\", \"57\", \"58\", \"59\", \"60\", \"61\", \"62\", \"63\", \"64\", \"65\", \"66\", \"67\", \"68\", \"69\", \"70\", \"71\", \"72\"], \"mode\": \"markers\", \"name\": \"average_precision_score_micro\", \"stepped\": false, \"type\": \"scatter\", \"data\": [0.8755859487731611, 0.8895267269038122, 0.8878914279421268, 0.8920669486179958, 0.7411633865563979, 0.6910566790242891, 0.8928757809687928, 0.8784985628884522, 0.8815114301762368, 0.8896651212163565, 0.8925990154137985, 0.8920757929298082, 0.8893496040968746, 0.8838697807493968, 0.8927667861772386, 0.884327644200647, 0.8926820549664886, 0.8794092015844435, 0.8893392285830416, 0.8948101575490724, 0.8936615376680013, 0.8813512724291124, 0.885272875606318, 0.8843620466794017, 0.8924567231591993, 0.8331079922848431, 0.887197069099102, 0.5986135139516048, 0.8902961458305345, 0.8858957913846514, 0.8331079922848431, 0.8864171771919734, 0.8896225236000322, 0.884488870779013, 0.8909224359366185, 0.8331079922848431, 0.8774469016629975, 0.8920096447939244, 0.89221068251106, 0.8906407014478169, 0.8331079922848431, 0.8876338410780719, 0.8799010045809009, 0.8932342690911474, 0.8711461767512947, 0.8331079922848431, 0.8717042495414511, 0.8724535550975461, 0.8725022410257965, 0.8854261393483535, 0.8331079922848431, 0.8835009117226834, 0.8890476684123352, 0.8871854971190419, 0.8947798642913929, 0.8331079922848431, 0.8907569274186798, 0.8911835839293738, 0.8903571331548891, 0.8905129187046235, 0.8331079922848431, 0.8913449022556137, 0.892150930369813, 0.8916007429409145, 0.8897422849975916, 0.8331079922848431, 0.8847499902397731, 0.8896476299819389, 0.8897818064996118, 0.8906728234148339, 0.8331079922848431, 0.8885182477326646, 0.8885546371734208]}, {\"categories\": [\"0\", \"1\", \"2\", \"3\", \"4\", \"5\", \"6\", \"7\", \"8\", \"9\", \"10\", \"11\", \"12\", \"13\", \"14\", \"15\", \"16\", \"17\", \"18\", \"19\", \"20\", \"21\", \"22\", \"23\", \"24\", \"25\", \"26\", \"27\", \"28\", \"29\", \"30\", \"31\", \"32\", \"33\", \"34\", \"35\", \"36\", \"37\", \"38\", \"39\", \"40\", \"41\", \"42\", \"43\", \"44\", \"45\", \"46\", \"47\", \"48\", \"49\", \"50\", \"51\", \"52\", \"53\", \"54\", \"55\", \"56\", \"57\", \"58\", \"59\", \"60\", \"61\", \"62\", \"63\", \"64\", \"65\", \"66\", \"67\", \"68\", \"69\", \"70\", \"71\", \"72\"], \"mode\": \"lines\", \"name\": \"average_precision_score_micro_max\", \"stepped\": true, \"type\": \"scatter\", \"data\": [0.8755859487731611, 0.8895267269038122, 0.8895267269038122, 0.8920669486179958, 0.8920669486179958, 0.8920669486179958, 0.8928757809687928, 0.8928757809687928, 0.8928757809687928, 0.8928757809687928, 0.8928757809687928, 0.8928757809687928, 0.8928757809687928, 0.8928757809687928, 0.8928757809687928, 0.8928757809687928, 0.8928757809687928, 0.8928757809687928, 0.8928757809687928, 0.8948101575490724, 0.8948101575490724, 0.8948101575490724, 0.8948101575490724, 0.8948101575490724, 0.8948101575490724, 0.8948101575490724, 0.8948101575490724, 0.8948101575490724, 0.8948101575490724, 0.8948101575490724, 0.8948101575490724, 0.8948101575490724, 0.8948101575490724, 0.8948101575490724, 0.8948101575490724, 0.8948101575490724, 0.8948101575490724, 0.8948101575490724, 0.8948101575490724, 0.8948101575490724, 0.8948101575490724, 0.8948101575490724, 0.8948101575490724, 0.8948101575490724, 0.8948101575490724, 0.8948101575490724, 0.8948101575490724, 0.8948101575490724, 0.8948101575490724, 0.8948101575490724, 0.8948101575490724, 0.8948101575490724, 0.8948101575490724, 0.8948101575490724, 0.8948101575490724, 0.8948101575490724, 0.8948101575490724, 0.8948101575490724, 0.8948101575490724, 0.8948101575490724, 0.8948101575490724, 0.8948101575490724, 0.8948101575490724, 0.8948101575490724, 0.8948101575490724, 0.8948101575490724, 0.8948101575490724, 0.8948101575490724, 0.8948101575490724, 0.8948101575490724, 0.8948101575490724, 0.8948101575490724, 0.8948101575490724]}], \"balanced_accuracy\": [{\"categories\": [\"0\", \"1\", \"2\", \"3\", \"4\", \"5\", \"6\", \"7\", \"8\", \"9\", \"10\", \"11\", \"12\", \"13\", \"14\", \"15\", \"16\", \"17\", \"18\", \"19\", \"20\", \"21\", \"22\", \"23\", \"24\", \"25\", \"26\", \"27\", \"28\", \"29\", \"30\", \"31\", \"32\", \"33\", \"34\", \"35\", \"36\", \"37\", \"38\", \"39\", \"40\", \"41\", \"42\", \"43\", \"44\", \"45\", \"46\", \"47\", \"48\", \"49\", \"50\", \"51\", \"52\", \"53\", \"54\", \"55\", \"56\", \"57\", \"58\", \"59\", \"60\", \"61\", \"62\", \"63\", \"64\", \"65\", \"66\", \"67\", \"68\", \"69\", \"70\", \"71\", \"72\"], \"mode\": \"markers\", \"name\": \"balanced_accuracy\", \"stepped\": false, \"type\": \"scatter\", \"data\": [0.5243049052911477, 0.514603010539244, 0.5, 0.5, 0.5824421529126155, 0.5797301543785227, 0.5, 0.5222044122766094, 0.5211310389648733, 0.5, 0.5, 0.5, 0.5, 0.5119932683191303, 0.5, 0.5153326689966883, 0.5, 0.5, 0.5, 0.5, 0.5, 0.5234384137848489, 0.5242765665873382, 0.5, 0.5, 0.5, 0.5, 0.5682054313131684, 0.5, 0.5, 0.5, 0.5, 0.5099065775701438, 0.5, 0.5, 0.5, 0.5, 0.5, 0.5, 0.5, 0.5, 0.5, 0.5206897892938857, 0.5, 0.5336196742092583, 0.5, 0.5305833984202086, 0.5252701191300111, 0.5347078170078063, 0.5013157894736843, 0.5, 0.5, 0.5, 0.5, 0.5, 0.5, 0.5, 0.5, 0.4998296422487223, 0.5, 0.5, 0.5, 0.4998293515358362, 0.5, 0.5, 0.5, 0.5268632096381245, 0.5, 0.5, 0.5, 0.5, 0.5172782372266566, 0.515747911759479]}, {\"categories\": [\"0\", \"1\", \"2\", \"3\", \"4\", \"5\", \"6\", \"7\", \"8\", \"9\", \"10\", \"11\", \"12\", \"13\", \"14\", \"15\", \"16\", \"17\", \"18\", \"19\", \"20\", \"21\", \"22\", \"23\", \"24\", \"25\", \"26\", \"27\", \"28\", \"29\", \"30\", \"31\", \"32\", \"33\", \"34\", \"35\", \"36\", \"37\", \"38\", \"39\", \"40\", \"41\", \"42\", \"43\", \"44\", \"45\", \"46\", \"47\", \"48\", \"49\", \"50\", \"51\", \"52\", \"53\", \"54\", \"55\", \"56\", \"57\", \"58\", \"59\", \"60\", \"61\", \"62\", \"63\", \"64\", \"65\", \"66\", \"67\", \"68\", \"69\", \"70\", \"71\", \"72\"], \"mode\": \"lines\", \"name\": \"balanced_accuracy_max\", \"stepped\": true, \"type\": \"scatter\", \"data\": [0.5243049052911477, 0.5243049052911477, 0.5243049052911477, 0.5243049052911477, 0.5824421529126155, 0.5824421529126155, 0.5824421529126155, 0.5824421529126155, 0.5824421529126155, 0.5824421529126155, 0.5824421529126155, 0.5824421529126155, 0.5824421529126155, 0.5824421529126155, 0.5824421529126155, 0.5824421529126155, 0.5824421529126155, 0.5824421529126155, 0.5824421529126155, 0.5824421529126155, 0.5824421529126155, 0.5824421529126155, 0.5824421529126155, 0.5824421529126155, 0.5824421529126155, 0.5824421529126155, 0.5824421529126155, 0.5824421529126155, 0.5824421529126155, 0.5824421529126155, 0.5824421529126155, 0.5824421529126155, 0.5824421529126155, 0.5824421529126155, 0.5824421529126155, 0.5824421529126155, 0.5824421529126155, 0.5824421529126155, 0.5824421529126155, 0.5824421529126155, 0.5824421529126155, 0.5824421529126155, 0.5824421529126155, 0.5824421529126155, 0.5824421529126155, 0.5824421529126155, 0.5824421529126155, 0.5824421529126155, 0.5824421529126155, 0.5824421529126155, 0.5824421529126155, 0.5824421529126155, 0.5824421529126155, 0.5824421529126155, 0.5824421529126155, 0.5824421529126155, 0.5824421529126155, 0.5824421529126155, 0.5824421529126155, 0.5824421529126155, 0.5824421529126155, 0.5824421529126155, 0.5824421529126155, 0.5824421529126155, 0.5824421529126155, 0.5824421529126155, 0.5824421529126155, 0.5824421529126155, 0.5824421529126155, 0.5824421529126155, 0.5824421529126155, 0.5824421529126155, 0.5824421529126155]}], \"AUC_macro\": [{\"categories\": [\"0\", \"1\", \"2\", \"3\", \"4\", \"5\", \"6\", \"7\", \"8\", \"9\", \"10\", \"11\", \"12\", \"13\", \"14\", \"15\", \"16\", \"17\", \"18\", \"19\", \"20\", \"21\", \"22\", \"23\", \"24\", \"25\", \"26\", \"27\", \"28\", \"29\", \"30\", \"31\", \"32\", \"33\", \"34\", \"35\", \"36\", \"37\", \"38\", \"39\", \"40\", \"41\", \"42\", \"43\", \"44\", \"45\", \"46\", \"47\", \"48\", \"49\", \"50\", \"51\", \"52\", \"53\", \"54\", \"55\", \"56\", \"57\", \"58\", \"59\", \"60\", \"61\", \"62\", \"63\", \"64\", \"65\", \"66\", \"67\", \"68\", \"69\", \"70\", \"71\", \"72\"], \"mode\": \"markers\", \"name\": \"AUC_macro\", \"stepped\": false, \"type\": \"scatter\", \"data\": [0.5777155368356112, 0.6305110509347944, 0.6259885730256005, 0.6284078889564879, 0.6226059369608913, 0.6288120942727027, 0.6319119220327073, 0.5968035010802669, 0.6057147273364003, 0.6297410153852845, 0.6358256082716078, 0.6349976914552238, 0.6256642028081589, 0.6221457182918609, 0.6356708712532727, 0.6075723330214007, 0.6297214413087835, 0.5960019959432733, 0.6285439244179308, 0.6361870738157374, 0.6323454406072718, 0.6035684653430176, 0.6169196187559667, 0.6117686850723691, 0.6281515844837452, 0.5, 0.6160524365480751, 0.5945085020117988, 0.6341269312116711, 0.6081546062834767, 0.5, 0.6140898476780768, 0.6303088378450555, 0.6176379881363026, 0.635412444322883, 0.5, 0.5942013724502735, 0.6297145951174972, 0.630530486556545, 0.6262829843301321, 0.5, 0.6175741620252826, 0.5977443911785046, 0.6326557669416144, 0.573827545583325, 0.5, 0.5770577868888347, 0.579918440792569, 0.5808135098552247, 0.6065285494595042, 0.5, 0.6248857139108627, 0.6261518769106506, 0.6117986245287773, 0.6404840078835182, 0.5, 0.6274198054021178, 0.6261489475264866, 0.6327004082247988, 0.6280001285756633, 0.5, 0.6273286098841762, 0.6335836431434944, 0.6264239099366077, 0.6230917659699483, 0.5, 0.6090112145646766, 0.6237645598121215, 0.6232867569160379, 0.628901207132899, 0.5, 0.6245011380397539, 0.6240165377640722]}, {\"categories\": [\"0\", \"1\", \"2\", \"3\", \"4\", \"5\", \"6\", \"7\", \"8\", \"9\", \"10\", \"11\", \"12\", \"13\", \"14\", \"15\", \"16\", \"17\", \"18\", \"19\", \"20\", \"21\", \"22\", \"23\", \"24\", \"25\", \"26\", \"27\", \"28\", \"29\", \"30\", \"31\", \"32\", \"33\", \"34\", \"35\", \"36\", \"37\", \"38\", \"39\", \"40\", \"41\", \"42\", \"43\", \"44\", \"45\", \"46\", \"47\", \"48\", \"49\", \"50\", \"51\", \"52\", \"53\", \"54\", \"55\", \"56\", \"57\", \"58\", \"59\", \"60\", \"61\", \"62\", \"63\", \"64\", \"65\", \"66\", \"67\", \"68\", \"69\", \"70\", \"71\", \"72\"], \"mode\": \"lines\", \"name\": \"AUC_macro_max\", \"stepped\": true, \"type\": \"scatter\", \"data\": [0.5777155368356112, 0.6305110509347944, 0.6305110509347944, 0.6305110509347944, 0.6305110509347944, 0.6305110509347944, 0.6319119220327073, 0.6319119220327073, 0.6319119220327073, 0.6319119220327073, 0.6358256082716078, 0.6358256082716078, 0.6358256082716078, 0.6358256082716078, 0.6358256082716078, 0.6358256082716078, 0.6358256082716078, 0.6358256082716078, 0.6358256082716078, 0.6361870738157374, 0.6361870738157374, 0.6361870738157374, 0.6361870738157374, 0.6361870738157374, 0.6361870738157374, 0.6361870738157374, 0.6361870738157374, 0.6361870738157374, 0.6361870738157374, 0.6361870738157374, 0.6361870738157374, 0.6361870738157374, 0.6361870738157374, 0.6361870738157374, 0.6361870738157374, 0.6361870738157374, 0.6361870738157374, 0.6361870738157374, 0.6361870738157374, 0.6361870738157374, 0.6361870738157374, 0.6361870738157374, 0.6361870738157374, 0.6361870738157374, 0.6361870738157374, 0.6361870738157374, 0.6361870738157374, 0.6361870738157374, 0.6361870738157374, 0.6361870738157374, 0.6361870738157374, 0.6361870738157374, 0.6361870738157374, 0.6361870738157374, 0.6404840078835182, 0.6404840078835182, 0.6404840078835182, 0.6404840078835182, 0.6404840078835182, 0.6404840078835182, 0.6404840078835182, 0.6404840078835182, 0.6404840078835182, 0.6404840078835182, 0.6404840078835182, 0.6404840078835182, 0.6404840078835182, 0.6404840078835182, 0.6404840078835182, 0.6404840078835182, 0.6404840078835182, 0.6404840078835182, 0.6404840078835182]}], \"norm_macro_recall\": [{\"categories\": [\"0\", \"1\", \"2\", \"3\", \"4\", \"5\", \"6\", \"7\", \"8\", \"9\", \"10\", \"11\", \"12\", \"13\", \"14\", \"15\", \"16\", \"17\", \"18\", \"19\", \"20\", \"21\", \"22\", \"23\", \"24\", \"25\", \"26\", \"27\", \"28\", \"29\", \"30\", \"31\", \"32\", \"33\", \"34\", \"35\", \"36\", \"37\", \"38\", \"39\", \"40\", \"41\", \"42\", \"43\", \"44\", \"45\", \"46\", \"47\", \"48\", \"49\", \"50\", \"51\", \"52\", \"53\", \"54\", \"55\", \"56\", \"57\", \"58\", \"59\", \"60\", \"61\", \"62\", \"63\", \"64\", \"65\", \"66\", \"67\", \"68\", \"69\", \"70\", \"71\", \"72\"], \"mode\": \"markers\", \"name\": \"norm_macro_recall\", \"stepped\": false, \"type\": \"scatter\", \"data\": [0.04860981058229541, 0.029206021078487777, 0.0, 0.0, 0.16488430582523095, 0.15946030875704564, 0.0, 0.04680198694638138, 0.04226207792974668, 0.0, 0.0, 0.0, 0.0, 0.02398653663826069, 0.0, 0.0310072183352569, 0.0, 0.0, 0.0, 0.0, 0.0, 0.04687682756969767, 0.048553133174676424, 0.0, 0.0, 0.0, 0.0, 0.1364108626263366, 0.0, 0.0, 0.0, 0.0, 0.019813155140287586, 0.0, 0.0, 0.0, 0.0, 0.0, 0.0, 0.0, 0.0, 0.0, 0.041379578587771346, 0.0, 0.06723934841851653, 0.0, 0.06116679684041722, 0.050540238260022276, 0.06941563401561268, 0.002631578947368407, 0.0, 0.0, 0.0, 0.0, 0.0, 0.0, 0.0, 0.0, 0.0, 0.0, 0.0, 0.0, 0.0, 0.0, 0.0, 0.0, 0.05372641927624899, 0.0, 0.0, 0.0, 0.0, 0.0345564744533132, 0.031495823518958056]}, {\"categories\": [\"0\", \"1\", \"2\", \"3\", \"4\", \"5\", \"6\", \"7\", \"8\", \"9\", \"10\", \"11\", \"12\", \"13\", \"14\", \"15\", \"16\", \"17\", \"18\", \"19\", \"20\", \"21\", \"22\", \"23\", \"24\", \"25\", \"26\", \"27\", \"28\", \"29\", \"30\", \"31\", \"32\", \"33\", \"34\", \"35\", \"36\", \"37\", \"38\", \"39\", \"40\", \"41\", \"42\", \"43\", \"44\", \"45\", \"46\", \"47\", \"48\", \"49\", \"50\", \"51\", \"52\", \"53\", \"54\", \"55\", \"56\", \"57\", \"58\", \"59\", \"60\", \"61\", \"62\", \"63\", \"64\", \"65\", \"66\", \"67\", \"68\", \"69\", \"70\", \"71\", \"72\"], \"mode\": \"lines\", \"name\": \"norm_macro_recall_max\", \"stepped\": true, \"type\": \"scatter\", \"data\": [0.04860981058229541, 0.04860981058229541, 0.04860981058229541, 0.04860981058229541, 0.16488430582523095, 0.16488430582523095, 0.16488430582523095, 0.16488430582523095, 0.16488430582523095, 0.16488430582523095, 0.16488430582523095, 0.16488430582523095, 0.16488430582523095, 0.16488430582523095, 0.16488430582523095, 0.16488430582523095, 0.16488430582523095, 0.16488430582523095, 0.16488430582523095, 0.16488430582523095, 0.16488430582523095, 0.16488430582523095, 0.16488430582523095, 0.16488430582523095, 0.16488430582523095, 0.16488430582523095, 0.16488430582523095, 0.16488430582523095, 0.16488430582523095, 0.16488430582523095, 0.16488430582523095, 0.16488430582523095, 0.16488430582523095, 0.16488430582523095, 0.16488430582523095, 0.16488430582523095, 0.16488430582523095, 0.16488430582523095, 0.16488430582523095, 0.16488430582523095, 0.16488430582523095, 0.16488430582523095, 0.16488430582523095, 0.16488430582523095, 0.16488430582523095, 0.16488430582523095, 0.16488430582523095, 0.16488430582523095, 0.16488430582523095, 0.16488430582523095, 0.16488430582523095, 0.16488430582523095, 0.16488430582523095, 0.16488430582523095, 0.16488430582523095, 0.16488430582523095, 0.16488430582523095, 0.16488430582523095, 0.16488430582523095, 0.16488430582523095, 0.16488430582523095, 0.16488430582523095, 0.16488430582523095, 0.16488430582523095, 0.16488430582523095, 0.16488430582523095, 0.16488430582523095, 0.16488430582523095, 0.16488430582523095, 0.16488430582523095, 0.16488430582523095, 0.16488430582523095, 0.16488430582523095]}], \"recall_score_micro\": [{\"categories\": [\"0\", \"1\", \"2\", \"3\", \"4\", \"5\", \"6\", \"7\", \"8\", \"9\", \"10\", \"11\", \"12\", \"13\", \"14\", \"15\", \"16\", \"17\", \"18\", \"19\", \"20\", \"21\", \"22\", \"23\", \"24\", \"25\", \"26\", \"27\", \"28\", \"29\", \"30\", \"31\", \"32\", \"33\", \"34\", \"35\", \"36\", \"37\", \"38\", \"39\", \"40\", \"41\", \"42\", \"43\", \"44\", \"45\", \"46\", \"47\", \"48\", \"49\", \"50\", \"51\", \"52\", \"53\", \"54\", \"55\", \"56\", \"57\", \"58\", \"59\", \"60\", \"61\", \"62\", \"63\", \"64\", \"65\", \"66\", \"67\", \"68\", \"69\", \"70\", \"71\", \"72\"], \"mode\": \"markers\", \"name\": \"recall_score_micro\", \"stepped\": false, \"type\": \"scatter\", \"data\": [0.8723860518037615, 0.8798549851638668, 0.878959462775807, 0.878959462775807, 0.6590018517279076, 0.6431706936171163, 0.878959462775807, 0.8777645405260692, 0.8762702184146531, 0.878959462775807, 0.878959462775807, 0.878959462775807, 0.878959462775807, 0.8792584164379894, 0.878959462775807, 0.8810521384110835, 0.878959462775807, 0.878959462775807, 0.878959462775807, 0.878959462775807, 0.878959462775807, 0.8747745577047498, 0.881648707136961, 0.878959462775807, 0.878959462775807, 0.878959462775807, 0.878959462775807, 0.662587064676617, 0.878959462775807, 0.878959462775807, 0.878959462775807, 0.878959462775807, 0.878959462775807, 0.878959462775807, 0.878959462775807, 0.878959462775807, 0.878959462775807, 0.878959462775807, 0.878959462775807, 0.878959462775807, 0.878959462775807, 0.878959462775807, 0.8810516922115876, 0.878959462775807, 0.858937599000513, 0.878959462775807, 0.8574437230885931, 0.8553523860518037, 0.8592365526626955, 0.8792584164379894, 0.878959462775807, 0.878959462775807, 0.878959462775807, 0.878959462775807, 0.878959462775807, 0.878959462775807, 0.878959462775807, 0.878959462775807, 0.8786605091136247, 0.878959462775807, 0.878959462775807, 0.878959462775807, 0.8786605091136247, 0.878959462775807, 0.878959462775807, 0.878959462775807, 0.8789576779778239, 0.878959462775807, 0.878959462775807, 0.878959462775807, 0.878959462775807, 0.882545568123508, 0.8816491533364568]}, {\"categories\": [\"0\", \"1\", \"2\", \"3\", \"4\", \"5\", \"6\", \"7\", \"8\", \"9\", \"10\", \"11\", \"12\", \"13\", \"14\", \"15\", \"16\", \"17\", \"18\", \"19\", \"20\", \"21\", \"22\", \"23\", \"24\", \"25\", \"26\", \"27\", \"28\", \"29\", \"30\", \"31\", \"32\", \"33\", \"34\", \"35\", \"36\", \"37\", \"38\", \"39\", \"40\", \"41\", \"42\", \"43\", \"44\", \"45\", \"46\", \"47\", \"48\", \"49\", \"50\", \"51\", \"52\", \"53\", \"54\", \"55\", \"56\", \"57\", \"58\", \"59\", \"60\", \"61\", \"62\", \"63\", \"64\", \"65\", \"66\", \"67\", \"68\", \"69\", \"70\", \"71\", \"72\"], \"mode\": \"lines\", \"name\": \"recall_score_micro_max\", \"stepped\": true, \"type\": \"scatter\", \"data\": [0.8723860518037615, 0.8798549851638668, 0.8798549851638668, 0.8798549851638668, 0.8798549851638668, 0.8798549851638668, 0.8798549851638668, 0.8798549851638668, 0.8798549851638668, 0.8798549851638668, 0.8798549851638668, 0.8798549851638668, 0.8798549851638668, 0.8798549851638668, 0.8798549851638668, 0.8810521384110835, 0.8810521384110835, 0.8810521384110835, 0.8810521384110835, 0.8810521384110835, 0.8810521384110835, 0.8810521384110835, 0.881648707136961, 0.881648707136961, 0.881648707136961, 0.881648707136961, 0.881648707136961, 0.881648707136961, 0.881648707136961, 0.881648707136961, 0.881648707136961, 0.881648707136961, 0.881648707136961, 0.881648707136961, 0.881648707136961, 0.881648707136961, 0.881648707136961, 0.881648707136961, 0.881648707136961, 0.881648707136961, 0.881648707136961, 0.881648707136961, 0.881648707136961, 0.881648707136961, 0.881648707136961, 0.881648707136961, 0.881648707136961, 0.881648707136961, 0.881648707136961, 0.881648707136961, 0.881648707136961, 0.881648707136961, 0.881648707136961, 0.881648707136961, 0.881648707136961, 0.881648707136961, 0.881648707136961, 0.881648707136961, 0.881648707136961, 0.881648707136961, 0.881648707136961, 0.881648707136961, 0.881648707136961, 0.881648707136961, 0.881648707136961, 0.881648707136961, 0.881648707136961, 0.881648707136961, 0.881648707136961, 0.881648707136961, 0.881648707136961, 0.882545568123508, 0.882545568123508]}], \"precision_score_macro\": [{\"categories\": [\"0\", \"1\", \"2\", \"3\", \"4\", \"5\", \"6\", \"7\", \"8\", \"9\", \"10\", \"11\", \"12\", \"13\", \"14\", \"15\", \"16\", \"17\", \"18\", \"19\", \"20\", \"21\", \"22\", \"23\", \"24\", \"25\", \"26\", \"27\", \"28\", \"29\", \"30\", \"31\", \"32\", \"33\", \"34\", \"35\", \"36\", \"37\", \"38\", \"39\", \"40\", \"41\", \"42\", \"43\", \"44\", \"45\", \"46\", \"47\", \"48\", \"49\", \"50\", \"51\", \"52\", \"53\", \"54\", \"55\", \"56\", \"57\", \"58\", \"59\", \"60\", \"61\", \"62\", \"63\", \"64\", \"65\", \"66\", \"67\", \"68\", \"69\", \"70\", \"71\", \"72\"], \"mode\": \"markers\", \"name\": \"precision_score_macro\", \"stepped\": false, \"type\": \"scatter\", \"data\": [0.6257814464359828, 0.7114984973388535, 0.4394797313879035, 0.4394797313879035, 0.5388821017258499, 0.5370626708247451, 0.4394797313879035, 0.6742187624251138, 0.652057117491467, 0.4394797313879035, 0.4394797313879035, 0.4394797313879035, 0.4394797313879035, 0.7340877165021082, 0.4394797313879035, 0.7344282700045695, 0.4394797313879035, 0.4394797313879035, 0.4394797313879035, 0.4394797313879035, 0.4394797313879035, 0.6345360937319607, 0.7785983445061918, 0.4394797313879035, 0.4394797313879035, 0.4394797313879035, 0.4394797313879035, 0.5333234211389335, 0.4394797313879035, 0.4394797313879035, 0.4394797313879035, 0.4394797313879035, 0.6571761120000669, 0.4394797313879035, 0.4394797313879035, 0.4394797313879035, 0.4394797313879035, 0.4394797313879035, 0.4394797313879035, 0.4394797313879035, 0.4394797313879035, 0.4394797313879035, 0.7676487190114168, 0.4394797313879035, 0.5835288090261221, 0.4394797313879035, 0.5767307898610723, 0.5651601690789633, 0.5891344047467809, 0.5396124256406536, 0.4394797313879035, 0.4394797313879035, 0.4394797313879035, 0.4394797313879035, 0.4394797313879035, 0.4394797313879035, 0.4394797313879035, 0.4394797313879035, 0.439461382435584, 0.4394797313879035, 0.4394797313879035, 0.4394797313879035, 0.4394611586678727, 0.4394797313879035, 0.4394797313879035, 0.4394797313879035, 0.702691583478186, 0.4394797313879035, 0.4394797313879035, 0.4394797313879035, 0.4394797313879035, 0.887964234405165, 0.757798055414188]}, {\"categories\": [\"0\", \"1\", \"2\", \"3\", \"4\", \"5\", \"6\", \"7\", \"8\", \"9\", \"10\", \"11\", \"12\", \"13\", \"14\", \"15\", \"16\", \"17\", \"18\", \"19\", \"20\", \"21\", \"22\", \"23\", \"24\", \"25\", \"26\", \"27\", \"28\", \"29\", \"30\", \"31\", \"32\", \"33\", \"34\", \"35\", \"36\", \"37\", \"38\", \"39\", \"40\", \"41\", \"42\", \"43\", \"44\", \"45\", \"46\", \"47\", \"48\", \"49\", \"50\", \"51\", \"52\", \"53\", \"54\", \"55\", \"56\", \"57\", \"58\", \"59\", \"60\", \"61\", \"62\", \"63\", \"64\", \"65\", \"66\", \"67\", \"68\", \"69\", \"70\", \"71\", \"72\"], \"mode\": \"lines\", \"name\": \"precision_score_macro_max\", \"stepped\": true, \"type\": \"scatter\", \"data\": [0.6257814464359828, 0.7114984973388535, 0.7114984973388535, 0.7114984973388535, 0.7114984973388535, 0.7114984973388535, 0.7114984973388535, 0.7114984973388535, 0.7114984973388535, 0.7114984973388535, 0.7114984973388535, 0.7114984973388535, 0.7114984973388535, 0.7340877165021082, 0.7340877165021082, 0.7344282700045695, 0.7344282700045695, 0.7344282700045695, 0.7344282700045695, 0.7344282700045695, 0.7344282700045695, 0.7344282700045695, 0.7785983445061918, 0.7785983445061918, 0.7785983445061918, 0.7785983445061918, 0.7785983445061918, 0.7785983445061918, 0.7785983445061918, 0.7785983445061918, 0.7785983445061918, 0.7785983445061918, 0.7785983445061918, 0.7785983445061918, 0.7785983445061918, 0.7785983445061918, 0.7785983445061918, 0.7785983445061918, 0.7785983445061918, 0.7785983445061918, 0.7785983445061918, 0.7785983445061918, 0.7785983445061918, 0.7785983445061918, 0.7785983445061918, 0.7785983445061918, 0.7785983445061918, 0.7785983445061918, 0.7785983445061918, 0.7785983445061918, 0.7785983445061918, 0.7785983445061918, 0.7785983445061918, 0.7785983445061918, 0.7785983445061918, 0.7785983445061918, 0.7785983445061918, 0.7785983445061918, 0.7785983445061918, 0.7785983445061918, 0.7785983445061918, 0.7785983445061918, 0.7785983445061918, 0.7785983445061918, 0.7785983445061918, 0.7785983445061918, 0.7785983445061918, 0.7785983445061918, 0.7785983445061918, 0.7785983445061918, 0.7785983445061918, 0.887964234405165, 0.887964234405165]}], \"precision_score_weighted\": [{\"categories\": [\"0\", \"1\", \"2\", \"3\", \"4\", \"5\", \"6\", \"7\", \"8\", \"9\", \"10\", \"11\", \"12\", \"13\", \"14\", \"15\", \"16\", \"17\", \"18\", \"19\", \"20\", \"21\", \"22\", \"23\", \"24\", \"25\", \"26\", \"27\", \"28\", \"29\", \"30\", \"31\", \"32\", \"33\", \"34\", \"35\", \"36\", \"37\", \"38\", \"39\", \"40\", \"41\", \"42\", \"43\", \"44\", \"45\", \"46\", \"47\", \"48\", \"49\", \"50\", \"51\", \"52\", \"53\", \"54\", \"55\", \"56\", \"57\", \"58\", \"59\", \"60\", \"61\", \"62\", \"63\", \"64\", \"65\", \"66\", \"67\", \"68\", \"69\", \"70\", \"71\", \"72\"], \"mode\": \"markers\", \"name\": \"precision_score_weighted\", \"stepped\": false, \"type\": \"scatter\", \"data\": [0.8211084127437663, 0.8404274025740228, 0.7725877236727466, 0.7725877236727466, 0.816817859315335, 0.8162882840369543, 0.7725877236727466, 0.8325098086224145, 0.8269829530143257, 0.7725877236727466, 0.7725877236727466, 0.7725877236727466, 0.7725877236727466, 0.8457448883942839, 0.7725877236727466, 0.8458299485524252, 0.7725877236727466, 0.7725877236727466, 0.7725877236727466, 0.7725877236727466, 0.7725877236727466, 0.8234140696137647, 0.8584951645439736, 0.7725877236727466, 0.7725877236727466, 0.7725877236727466, 0.7725877236727466, 0.8117377891662254, 0.7725877236727466, 0.7725877236727466, 0.7725877236727466, 0.7725877236727466, 0.8255591849541821, 0.7725877236727466, 0.7725877236727466, 0.7725877236727466, 0.7725877236727466, 0.7725877236727466, 0.7725877236727466, 0.7725877236727466, 0.7725877236727466, 0.7725877236727466, 0.8552354738943878, 0.7725877236727466, 0.8129522042818147, 0.7725877236727466, 0.8107386874950198, 0.8070013615070233, 0.8145101497237093, 0.7955434417351706, 0.7725877236727466, 0.7725877236727466, 0.7725877236727466, 0.7725877236727466, 0.7725877236727466, 0.7725877236727466, 0.7725877236727466, 0.7725877236727466, 0.7725555238670319, 0.7725877236727466, 0.7725877236727466, 0.7725877236727466, 0.7725551867103011, 0.7725877236727466, 0.7725877236727466, 0.7725877236727466, 0.8405512706790942, 0.7725877236727466, 0.7725877236727466, 0.7725877236727466, 0.7725877236727466, 0.8838844330086608, 0.851211598833622]}, {\"categories\": [\"0\", \"1\", \"2\", \"3\", \"4\", \"5\", \"6\", \"7\", \"8\", \"9\", \"10\", \"11\", \"12\", \"13\", \"14\", \"15\", \"16\", \"17\", \"18\", \"19\", \"20\", \"21\", \"22\", \"23\", \"24\", \"25\", \"26\", \"27\", \"28\", \"29\", \"30\", \"31\", \"32\", \"33\", \"34\", \"35\", \"36\", \"37\", \"38\", \"39\", \"40\", \"41\", \"42\", \"43\", \"44\", \"45\", \"46\", \"47\", \"48\", \"49\", \"50\", \"51\", \"52\", \"53\", \"54\", \"55\", \"56\", \"57\", \"58\", \"59\", \"60\", \"61\", \"62\", \"63\", \"64\", \"65\", \"66\", \"67\", \"68\", \"69\", \"70\", \"71\", \"72\"], \"mode\": \"lines\", \"name\": \"precision_score_weighted_max\", \"stepped\": true, \"type\": \"scatter\", \"data\": [0.8211084127437663, 0.8404274025740228, 0.8404274025740228, 0.8404274025740228, 0.8404274025740228, 0.8404274025740228, 0.8404274025740228, 0.8404274025740228, 0.8404274025740228, 0.8404274025740228, 0.8404274025740228, 0.8404274025740228, 0.8404274025740228, 0.8457448883942839, 0.8457448883942839, 0.8458299485524252, 0.8458299485524252, 0.8458299485524252, 0.8458299485524252, 0.8458299485524252, 0.8458299485524252, 0.8458299485524252, 0.8584951645439736, 0.8584951645439736, 0.8584951645439736, 0.8584951645439736, 0.8584951645439736, 0.8584951645439736, 0.8584951645439736, 0.8584951645439736, 0.8584951645439736, 0.8584951645439736, 0.8584951645439736, 0.8584951645439736, 0.8584951645439736, 0.8584951645439736, 0.8584951645439736, 0.8584951645439736, 0.8584951645439736, 0.8584951645439736, 0.8584951645439736, 0.8584951645439736, 0.8584951645439736, 0.8584951645439736, 0.8584951645439736, 0.8584951645439736, 0.8584951645439736, 0.8584951645439736, 0.8584951645439736, 0.8584951645439736, 0.8584951645439736, 0.8584951645439736, 0.8584951645439736, 0.8584951645439736, 0.8584951645439736, 0.8584951645439736, 0.8584951645439736, 0.8584951645439736, 0.8584951645439736, 0.8584951645439736, 0.8584951645439736, 0.8584951645439736, 0.8584951645439736, 0.8584951645439736, 0.8584951645439736, 0.8584951645439736, 0.8584951645439736, 0.8584951645439736, 0.8584951645439736, 0.8584951645439736, 0.8584951645439736, 0.8838844330086608, 0.8838844330086608]}], \"log_loss\": [{\"categories\": [\"0\", \"1\", \"2\", \"3\", \"4\", \"5\", \"6\", \"7\", \"8\", \"9\", \"10\", \"11\", \"12\", \"13\", \"14\", \"15\", \"16\", \"17\", \"18\", \"19\", \"20\", \"21\", \"22\", \"23\", \"24\", \"25\", \"26\", \"27\", \"28\", \"29\", \"30\", \"31\", \"32\", \"33\", \"34\", \"35\", \"36\", \"37\", \"38\", \"39\", \"40\", \"41\", \"42\", \"43\", \"44\", \"45\", \"46\", \"47\", \"48\", \"49\", \"50\", \"51\", \"52\", \"53\", \"54\", \"55\", \"56\", \"57\", \"58\", \"59\", \"60\", \"61\", \"62\", \"63\", \"64\", \"65\", \"66\", \"67\", \"68\", \"69\", \"70\", \"71\", \"72\"], \"mode\": \"markers\", \"name\": \"log_loss\", \"stepped\": false, \"type\": \"scatter\", \"data\": [0.4128544260681367, 0.3581560383870387, 0.3582012201303918, 0.3609767099206734, 0.6209263899628185, 0.6499344559618938, 0.3585776514599269, 0.36670067189366673, 0.37487086903543765, 0.358446994062737, 0.35804007748332856, 0.3566149192899311, 0.3590142706362545, 0.359354113350407, 0.3620367187411236, 0.36216811468882526, 0.35813846552561757, 0.3633140524041464, 0.3585214494657145, 0.3574327608817545, 0.3577899242872255, 0.3917720219632474, 0.36346735052349766, 0.3627027277858854, 0.360071043674328, 0.36907150272375905, 0.3603693905172588, 0.6864452416408955, 0.35767223215227195, 0.3635950917581146, 0.37251558988464695, 0.36004227298182756, 0.3608499242643095, 0.3634298338246024, 0.3570326709610789, 0.3690433692354728, 0.3674958219230477, 0.36023403834242906, 0.35815940373858995, 0.3598923430217199, 0.36904111982297866, 0.3618322745109544, 0.3656159355420666, 0.358634719072308, 0.5024094745366151, 0.36906350534645876, 0.4723513112241953, 0.4889818968173585, 0.4848853207806257, 0.36543319072880953, 0.36904964622667114, 0.4198565607910198, 0.35871128469599955, 0.3609935836514427, 0.35757169314511, 0.369074765896913, 0.35895357265912253, 0.3601531663358723, 0.3618762195279066, 0.3629367180412242, 0.4246917190258765, 0.3587340485788222, 0.36143384541192913, 0.35872663696946666, 0.3594962689101253, 0.3690409113295965, 0.37156853048662136, 0.3603906680522099, 0.35929860872706765, 0.3584164260147748, 0.36901764195790027, 0.35715977668467025, 0.35617648003655333]}, {\"categories\": [\"0\", \"1\", \"2\", \"3\", \"4\", \"5\", \"6\", \"7\", \"8\", \"9\", \"10\", \"11\", \"12\", \"13\", \"14\", \"15\", \"16\", \"17\", \"18\", \"19\", \"20\", \"21\", \"22\", \"23\", \"24\", \"25\", \"26\", \"27\", \"28\", \"29\", \"30\", \"31\", \"32\", \"33\", \"34\", \"35\", \"36\", \"37\", \"38\", \"39\", \"40\", \"41\", \"42\", \"43\", \"44\", \"45\", \"46\", \"47\", \"48\", \"49\", \"50\", \"51\", \"52\", \"53\", \"54\", \"55\", \"56\", \"57\", \"58\", \"59\", \"60\", \"61\", \"62\", \"63\", \"64\", \"65\", \"66\", \"67\", \"68\", \"69\", \"70\", \"71\", \"72\"], \"mode\": \"lines\", \"name\": \"log_loss_min\", \"stepped\": true, \"type\": \"scatter\", \"data\": [0.4128544260681367, 0.3581560383870387, 0.3581560383870387, 0.3581560383870387, 0.3581560383870387, 0.3581560383870387, 0.3581560383870387, 0.3581560383870387, 0.3581560383870387, 0.3581560383870387, 0.35804007748332856, 0.3566149192899311, 0.3566149192899311, 0.3566149192899311, 0.3566149192899311, 0.3566149192899311, 0.3566149192899311, 0.3566149192899311, 0.3566149192899311, 0.3566149192899311, 0.3566149192899311, 0.3566149192899311, 0.3566149192899311, 0.3566149192899311, 0.3566149192899311, 0.3566149192899311, 0.3566149192899311, 0.3566149192899311, 0.3566149192899311, 0.3566149192899311, 0.3566149192899311, 0.3566149192899311, 0.3566149192899311, 0.3566149192899311, 0.3566149192899311, 0.3566149192899311, 0.3566149192899311, 0.3566149192899311, 0.3566149192899311, 0.3566149192899311, 0.3566149192899311, 0.3566149192899311, 0.3566149192899311, 0.3566149192899311, 0.3566149192899311, 0.3566149192899311, 0.3566149192899311, 0.3566149192899311, 0.3566149192899311, 0.3566149192899311, 0.3566149192899311, 0.3566149192899311, 0.3566149192899311, 0.3566149192899311, 0.3566149192899311, 0.3566149192899311, 0.3566149192899311, 0.3566149192899311, 0.3566149192899311, 0.3566149192899311, 0.3566149192899311, 0.3566149192899311, 0.3566149192899311, 0.3566149192899311, 0.3566149192899311, 0.3566149192899311, 0.3566149192899311, 0.3566149192899311, 0.3566149192899311, 0.3566149192899311, 0.3566149192899311, 0.3566149192899311, 0.35617648003655333]}], \"AUC_weighted\": [{\"categories\": [\"0\", \"1\", \"2\", \"3\", \"4\", \"5\", \"6\", \"7\", \"8\", \"9\", \"10\", \"11\", \"12\", \"13\", \"14\", \"15\", \"16\", \"17\", \"18\", \"19\", \"20\", \"21\", \"22\", \"23\", \"24\", \"25\", \"26\", \"27\", \"28\", \"29\", \"30\", \"31\", \"32\", \"33\", \"34\", \"35\", \"36\", \"37\", \"38\", \"39\", \"40\", \"41\", \"42\", \"43\", \"44\", \"45\", \"46\", \"47\", \"48\", \"49\", \"50\", \"51\", \"52\", \"53\", \"54\", \"55\", \"56\", \"57\", \"58\", \"59\", \"60\", \"61\", \"62\", \"63\", \"64\", \"65\", \"66\", \"67\", \"68\", \"69\", \"70\", \"71\", \"72\"], \"mode\": \"markers\", \"name\": \"AUC_weighted\", \"stepped\": false, \"type\": \"scatter\", \"data\": [0.577715536835611, 0.6305110509347944, 0.6259885730256005, 0.6284078889564881, 0.6226059369608913, 0.6288120942727027, 0.6319119220327073, 0.5968035010802669, 0.6057147273364003, 0.6297410153852845, 0.6358256082716078, 0.6349976914552238, 0.6256642028081588, 0.6221457182918609, 0.6356708712532728, 0.6075723330214007, 0.6297214413087835, 0.5960019959432733, 0.6285439244179308, 0.6361870738157374, 0.6323454406072718, 0.6035684653430177, 0.6169196187559667, 0.6117686850723691, 0.6281515844837452, 0.5, 0.6160524365480751, 0.5945085020117988, 0.6341269312116711, 0.6081546062834767, 0.5, 0.614089847678077, 0.6303088378450555, 0.6176379881363026, 0.635412444322883, 0.5, 0.5942013724502735, 0.6297145951174972, 0.6305304865565449, 0.6262829843301319, 0.5, 0.6175741620252826, 0.5977443911785046, 0.6326557669416144, 0.573827545583325, 0.5, 0.5770577868888347, 0.579918440792569, 0.5808152245867788, 0.6065285494595043, 0.5, 0.6248857139108627, 0.6261518769106506, 0.6117986245287773, 0.6404840078835182, 0.5, 0.6274198054021178, 0.6261489475264866, 0.6327004082247988, 0.6280001285756633, 0.5, 0.6273286098841762, 0.6335836431434944, 0.6264239099366078, 0.6230917659699483, 0.5, 0.6090112145646766, 0.6237645598121215, 0.6232867569160379, 0.628901207132899, 0.5, 0.6245011380397539, 0.6240165377640722]}, {\"categories\": [\"0\", \"1\", \"2\", \"3\", \"4\", \"5\", \"6\", \"7\", \"8\", \"9\", \"10\", \"11\", \"12\", \"13\", \"14\", \"15\", \"16\", \"17\", \"18\", \"19\", \"20\", \"21\", \"22\", \"23\", \"24\", \"25\", \"26\", \"27\", \"28\", \"29\", \"30\", \"31\", \"32\", \"33\", \"34\", \"35\", \"36\", \"37\", \"38\", \"39\", \"40\", \"41\", \"42\", \"43\", \"44\", \"45\", \"46\", \"47\", \"48\", \"49\", \"50\", \"51\", \"52\", \"53\", \"54\", \"55\", \"56\", \"57\", \"58\", \"59\", \"60\", \"61\", \"62\", \"63\", \"64\", \"65\", \"66\", \"67\", \"68\", \"69\", \"70\", \"71\", \"72\"], \"mode\": \"lines\", \"name\": \"AUC_weighted_max\", \"stepped\": true, \"type\": \"scatter\", \"data\": [0.577715536835611, 0.6305110509347944, 0.6305110509347944, 0.6305110509347944, 0.6305110509347944, 0.6305110509347944, 0.6319119220327073, 0.6319119220327073, 0.6319119220327073, 0.6319119220327073, 0.6358256082716078, 0.6358256082716078, 0.6358256082716078, 0.6358256082716078, 0.6358256082716078, 0.6358256082716078, 0.6358256082716078, 0.6358256082716078, 0.6358256082716078, 0.6361870738157374, 0.6361870738157374, 0.6361870738157374, 0.6361870738157374, 0.6361870738157374, 0.6361870738157374, 0.6361870738157374, 0.6361870738157374, 0.6361870738157374, 0.6361870738157374, 0.6361870738157374, 0.6361870738157374, 0.6361870738157374, 0.6361870738157374, 0.6361870738157374, 0.6361870738157374, 0.6361870738157374, 0.6361870738157374, 0.6361870738157374, 0.6361870738157374, 0.6361870738157374, 0.6361870738157374, 0.6361870738157374, 0.6361870738157374, 0.6361870738157374, 0.6361870738157374, 0.6361870738157374, 0.6361870738157374, 0.6361870738157374, 0.6361870738157374, 0.6361870738157374, 0.6361870738157374, 0.6361870738157374, 0.6361870738157374, 0.6361870738157374, 0.6404840078835182, 0.6404840078835182, 0.6404840078835182, 0.6404840078835182, 0.6404840078835182, 0.6404840078835182, 0.6404840078835182, 0.6404840078835182, 0.6404840078835182, 0.6404840078835182, 0.6404840078835182, 0.6404840078835182, 0.6404840078835182, 0.6404840078835182, 0.6404840078835182, 0.6404840078835182, 0.6404840078835182, 0.6404840078835182, 0.6404840078835182]}], \"f1_score_weighted\": [{\"categories\": [\"0\", \"1\", \"2\", \"3\", \"4\", \"5\", \"6\", \"7\", \"8\", \"9\", \"10\", \"11\", \"12\", \"13\", \"14\", \"15\", \"16\", \"17\", \"18\", \"19\", \"20\", \"21\", \"22\", \"23\", \"24\", \"25\", \"26\", \"27\", \"28\", \"29\", \"30\", \"31\", \"32\", \"33\", \"34\", \"35\", \"36\", \"37\", \"38\", \"39\", \"40\", \"41\", \"42\", \"43\", \"44\", \"45\", \"46\", \"47\", \"48\", \"49\", \"50\", \"51\", \"52\", \"53\", \"54\", \"55\", \"56\", \"57\", \"58\", \"59\", \"60\", \"61\", \"62\", \"63\", \"64\", \"65\", \"66\", \"67\", \"68\", \"69\", \"70\", \"71\", \"72\"], \"mode\": \"markers\", \"name\": \"f1_score_weighted\", \"stepped\": false, \"type\": \"scatter\", \"data\": [0.8317049505588496, 0.8298557104668042, 0.8223432579203689, 0.8223432579203689, 0.7150366219152596, 0.7031062127264753, 0.8223432579203689, 0.8323986871610576, 0.8315529465043177, 0.8223432579203689, 0.8223432579203689, 0.8223432579203689, 0.8223432579203689, 0.8284859932503625, 0.8223432579203689, 0.8304885512699052, 0.8223432579203689, 0.8223432579203689, 0.8223432579203689, 0.8223432579203689, 0.8223432579203689, 0.8321599377751759, 0.8346522578941276, 0.8223432579203689, 0.8223432579203689, 0.8223432579203689, 0.8223432579203689, 0.7173923954034487, 0.8223432579203689, 0.8223432579203689, 0.8223432579203689, 0.8223432579203689, 0.8272635701938862, 0.8223432579203689, 0.8223432579203689, 0.8223432579203689, 0.8223432579203689, 0.8223432579203689, 0.8223432579203689, 0.8223432579203689, 0.8223432579203689, 0.8223432579203689, 0.8329290669293364, 0.8223432579203689, 0.8294291406414533, 0.8223432579203689, 0.8279544612318214, 0.825125985034352, 0.8301678146903179, 0.8230655202917537, 0.8223432579203689, 0.8223432579203689, 0.8223432579203689, 0.8223432579203689, 0.8223432579203689, 0.8223432579203689, 0.8223432579203689, 0.8223432579203689, 0.8221942996134691, 0.8223432579203689, 0.8223432579203689, 0.8223432579203689, 0.8221943162071579, 0.8223432579203689, 0.8223432579203689, 0.8223432579203689, 0.8349703712551287, 0.8223432579203689, 0.8223432579203689, 0.8223432579203689, 0.8223432579203689, 0.8318511379493969, 0.8307922018717214]}, {\"categories\": [\"0\", \"1\", \"2\", \"3\", \"4\", \"5\", \"6\", \"7\", \"8\", \"9\", \"10\", \"11\", \"12\", \"13\", \"14\", \"15\", \"16\", \"17\", \"18\", \"19\", \"20\", \"21\", \"22\", \"23\", \"24\", \"25\", \"26\", \"27\", \"28\", \"29\", \"30\", \"31\", \"32\", \"33\", \"34\", \"35\", \"36\", \"37\", \"38\", \"39\", \"40\", \"41\", \"42\", \"43\", \"44\", \"45\", \"46\", \"47\", \"48\", \"49\", \"50\", \"51\", \"52\", \"53\", \"54\", \"55\", \"56\", \"57\", \"58\", \"59\", \"60\", \"61\", \"62\", \"63\", \"64\", \"65\", \"66\", \"67\", \"68\", \"69\", \"70\", \"71\", \"72\"], \"mode\": \"lines\", \"name\": \"f1_score_weighted_max\", \"stepped\": true, \"type\": \"scatter\", \"data\": [0.8317049505588496, 0.8317049505588496, 0.8317049505588496, 0.8317049505588496, 0.8317049505588496, 0.8317049505588496, 0.8317049505588496, 0.8323986871610576, 0.8323986871610576, 0.8323986871610576, 0.8323986871610576, 0.8323986871610576, 0.8323986871610576, 0.8323986871610576, 0.8323986871610576, 0.8323986871610576, 0.8323986871610576, 0.8323986871610576, 0.8323986871610576, 0.8323986871610576, 0.8323986871610576, 0.8323986871610576, 0.8346522578941276, 0.8346522578941276, 0.8346522578941276, 0.8346522578941276, 0.8346522578941276, 0.8346522578941276, 0.8346522578941276, 0.8346522578941276, 0.8346522578941276, 0.8346522578941276, 0.8346522578941276, 0.8346522578941276, 0.8346522578941276, 0.8346522578941276, 0.8346522578941276, 0.8346522578941276, 0.8346522578941276, 0.8346522578941276, 0.8346522578941276, 0.8346522578941276, 0.8346522578941276, 0.8346522578941276, 0.8346522578941276, 0.8346522578941276, 0.8346522578941276, 0.8346522578941276, 0.8346522578941276, 0.8346522578941276, 0.8346522578941276, 0.8346522578941276, 0.8346522578941276, 0.8346522578941276, 0.8346522578941276, 0.8346522578941276, 0.8346522578941276, 0.8346522578941276, 0.8346522578941276, 0.8346522578941276, 0.8346522578941276, 0.8346522578941276, 0.8346522578941276, 0.8346522578941276, 0.8346522578941276, 0.8346522578941276, 0.8349703712551287, 0.8349703712551287, 0.8349703712551287, 0.8349703712551287, 0.8349703712551287, 0.8349703712551287, 0.8349703712551287]}], \"recall_score_weighted\": [{\"categories\": [\"0\", \"1\", \"2\", \"3\", \"4\", \"5\", \"6\", \"7\", \"8\", \"9\", \"10\", \"11\", \"12\", \"13\", \"14\", \"15\", \"16\", \"17\", \"18\", \"19\", \"20\", \"21\", \"22\", \"23\", \"24\", \"25\", \"26\", \"27\", \"28\", \"29\", \"30\", \"31\", \"32\", \"33\", \"34\", \"35\", \"36\", \"37\", \"38\", \"39\", \"40\", \"41\", \"42\", \"43\", \"44\", \"45\", \"46\", \"47\", \"48\", \"49\", \"50\", \"51\", \"52\", \"53\", \"54\", \"55\", \"56\", \"57\", \"58\", \"59\", \"60\", \"61\", \"62\", \"63\", \"64\", \"65\", \"66\", \"67\", \"68\", \"69\", \"70\", \"71\", \"72\"], \"mode\": \"markers\", \"name\": \"recall_score_weighted\", \"stepped\": false, \"type\": \"scatter\", \"data\": [0.8723860518037615, 0.8798549851638668, 0.878959462775807, 0.878959462775807, 0.6590018517279076, 0.6431706936171163, 0.878959462775807, 0.8777645405260692, 0.8762702184146531, 0.878959462775807, 0.878959462775807, 0.878959462775807, 0.878959462775807, 0.8792584164379894, 0.878959462775807, 0.8810521384110835, 0.878959462775807, 0.878959462775807, 0.878959462775807, 0.878959462775807, 0.878959462775807, 0.8747745577047498, 0.881648707136961, 0.878959462775807, 0.878959462775807, 0.878959462775807, 0.878959462775807, 0.662587064676617, 0.878959462775807, 0.878959462775807, 0.878959462775807, 0.878959462775807, 0.878959462775807, 0.878959462775807, 0.878959462775807, 0.878959462775807, 0.878959462775807, 0.878959462775807, 0.878959462775807, 0.878959462775807, 0.878959462775807, 0.878959462775807, 0.8810516922115876, 0.878959462775807, 0.858937599000513, 0.878959462775807, 0.8574437230885931, 0.8553523860518037, 0.8592365526626955, 0.8792584164379894, 0.878959462775807, 0.878959462775807, 0.878959462775807, 0.878959462775807, 0.878959462775807, 0.878959462775807, 0.878959462775807, 0.878959462775807, 0.8786605091136247, 0.878959462775807, 0.878959462775807, 0.878959462775807, 0.8786605091136247, 0.878959462775807, 0.878959462775807, 0.878959462775807, 0.8789576779778239, 0.878959462775807, 0.878959462775807, 0.878959462775807, 0.878959462775807, 0.882545568123508, 0.8816491533364568]}, {\"categories\": [\"0\", \"1\", \"2\", \"3\", \"4\", \"5\", \"6\", \"7\", \"8\", \"9\", \"10\", \"11\", \"12\", \"13\", \"14\", \"15\", \"16\", \"17\", \"18\", \"19\", \"20\", \"21\", \"22\", \"23\", \"24\", \"25\", \"26\", \"27\", \"28\", \"29\", \"30\", \"31\", \"32\", \"33\", \"34\", \"35\", \"36\", \"37\", \"38\", \"39\", \"40\", \"41\", \"42\", \"43\", \"44\", \"45\", \"46\", \"47\", \"48\", \"49\", \"50\", \"51\", \"52\", \"53\", \"54\", \"55\", \"56\", \"57\", \"58\", \"59\", \"60\", \"61\", \"62\", \"63\", \"64\", \"65\", \"66\", \"67\", \"68\", \"69\", \"70\", \"71\", \"72\"], \"mode\": \"lines\", \"name\": \"recall_score_weighted_max\", \"stepped\": true, \"type\": \"scatter\", \"data\": [0.8723860518037615, 0.8798549851638668, 0.8798549851638668, 0.8798549851638668, 0.8798549851638668, 0.8798549851638668, 0.8798549851638668, 0.8798549851638668, 0.8798549851638668, 0.8798549851638668, 0.8798549851638668, 0.8798549851638668, 0.8798549851638668, 0.8798549851638668, 0.8798549851638668, 0.8810521384110835, 0.8810521384110835, 0.8810521384110835, 0.8810521384110835, 0.8810521384110835, 0.8810521384110835, 0.8810521384110835, 0.881648707136961, 0.881648707136961, 0.881648707136961, 0.881648707136961, 0.881648707136961, 0.881648707136961, 0.881648707136961, 0.881648707136961, 0.881648707136961, 0.881648707136961, 0.881648707136961, 0.881648707136961, 0.881648707136961, 0.881648707136961, 0.881648707136961, 0.881648707136961, 0.881648707136961, 0.881648707136961, 0.881648707136961, 0.881648707136961, 0.881648707136961, 0.881648707136961, 0.881648707136961, 0.881648707136961, 0.881648707136961, 0.881648707136961, 0.881648707136961, 0.881648707136961, 0.881648707136961, 0.881648707136961, 0.881648707136961, 0.881648707136961, 0.881648707136961, 0.881648707136961, 0.881648707136961, 0.881648707136961, 0.881648707136961, 0.881648707136961, 0.881648707136961, 0.881648707136961, 0.881648707136961, 0.881648707136961, 0.881648707136961, 0.881648707136961, 0.881648707136961, 0.881648707136961, 0.881648707136961, 0.881648707136961, 0.881648707136961, 0.882545568123508, 0.882545568123508]}], \"accuracy\": [{\"categories\": [\"0\", \"1\", \"2\", \"3\", \"4\", \"5\", \"6\", \"7\", \"8\", \"9\", \"10\", \"11\", \"12\", \"13\", \"14\", \"15\", \"16\", \"17\", \"18\", \"19\", \"20\", \"21\", \"22\", \"23\", \"24\", \"25\", \"26\", \"27\", \"28\", \"29\", \"30\", \"31\", \"32\", \"33\", \"34\", \"35\", \"36\", \"37\", \"38\", \"39\", \"40\", \"41\", \"42\", \"43\", \"44\", \"45\", \"46\", \"47\", \"48\", \"49\", \"50\", \"51\", \"52\", \"53\", \"54\", \"55\", \"56\", \"57\", \"58\", \"59\", \"60\", \"61\", \"62\", \"63\", \"64\", \"65\", \"66\", \"67\", \"68\", \"69\", \"70\", \"71\", \"72\"], \"mode\": \"markers\", \"name\": \"accuracy\", \"stepped\": false, \"type\": \"scatter\", \"data\": [0.8723860518037615, 0.8798549851638668, 0.878959462775807, 0.878959462775807, 0.6590018517279076, 0.6431706936171163, 0.878959462775807, 0.8777645405260692, 0.8762702184146531, 0.878959462775807, 0.878959462775807, 0.878959462775807, 0.878959462775807, 0.8792584164379894, 0.878959462775807, 0.8810521384110835, 0.878959462775807, 0.878959462775807, 0.878959462775807, 0.878959462775807, 0.878959462775807, 0.8747745577047498, 0.881648707136961, 0.878959462775807, 0.878959462775807, 0.878959462775807, 0.878959462775807, 0.662587064676617, 0.878959462775807, 0.878959462775807, 0.878959462775807, 0.878959462775807, 0.878959462775807, 0.878959462775807, 0.878959462775807, 0.878959462775807, 0.878959462775807, 0.878959462775807, 0.878959462775807, 0.878959462775807, 0.878959462775807, 0.878959462775807, 0.8810516922115876, 0.878959462775807, 0.858937599000513, 0.878959462775807, 0.8574437230885931, 0.8553523860518037, 0.8592365526626955, 0.8792584164379894, 0.878959462775807, 0.878959462775807, 0.878959462775807, 0.878959462775807, 0.878959462775807, 0.878959462775807, 0.878959462775807, 0.878959462775807, 0.8786605091136247, 0.878959462775807, 0.878959462775807, 0.878959462775807, 0.8786605091136247, 0.878959462775807, 0.878959462775807, 0.878959462775807, 0.8789576779778239, 0.878959462775807, 0.878959462775807, 0.878959462775807, 0.878959462775807, 0.882545568123508, 0.8816491533364568]}, {\"categories\": [\"0\", \"1\", \"2\", \"3\", \"4\", \"5\", \"6\", \"7\", \"8\", \"9\", \"10\", \"11\", \"12\", \"13\", \"14\", \"15\", \"16\", \"17\", \"18\", \"19\", \"20\", \"21\", \"22\", \"23\", \"24\", \"25\", \"26\", \"27\", \"28\", \"29\", \"30\", \"31\", \"32\", \"33\", \"34\", \"35\", \"36\", \"37\", \"38\", \"39\", \"40\", \"41\", \"42\", \"43\", \"44\", \"45\", \"46\", \"47\", \"48\", \"49\", \"50\", \"51\", \"52\", \"53\", \"54\", \"55\", \"56\", \"57\", \"58\", \"59\", \"60\", \"61\", \"62\", \"63\", \"64\", \"65\", \"66\", \"67\", \"68\", \"69\", \"70\", \"71\", \"72\"], \"mode\": \"lines\", \"name\": \"accuracy_max\", \"stepped\": true, \"type\": \"scatter\", \"data\": [0.8723860518037615, 0.8798549851638668, 0.8798549851638668, 0.8798549851638668, 0.8798549851638668, 0.8798549851638668, 0.8798549851638668, 0.8798549851638668, 0.8798549851638668, 0.8798549851638668, 0.8798549851638668, 0.8798549851638668, 0.8798549851638668, 0.8798549851638668, 0.8798549851638668, 0.8810521384110835, 0.8810521384110835, 0.8810521384110835, 0.8810521384110835, 0.8810521384110835, 0.8810521384110835, 0.8810521384110835, 0.881648707136961, 0.881648707136961, 0.881648707136961, 0.881648707136961, 0.881648707136961, 0.881648707136961, 0.881648707136961, 0.881648707136961, 0.881648707136961, 0.881648707136961, 0.881648707136961, 0.881648707136961, 0.881648707136961, 0.881648707136961, 0.881648707136961, 0.881648707136961, 0.881648707136961, 0.881648707136961, 0.881648707136961, 0.881648707136961, 0.881648707136961, 0.881648707136961, 0.881648707136961, 0.881648707136961, 0.881648707136961, 0.881648707136961, 0.881648707136961, 0.881648707136961, 0.881648707136961, 0.881648707136961, 0.881648707136961, 0.881648707136961, 0.881648707136961, 0.881648707136961, 0.881648707136961, 0.881648707136961, 0.881648707136961, 0.881648707136961, 0.881648707136961, 0.881648707136961, 0.881648707136961, 0.881648707136961, 0.881648707136961, 0.881648707136961, 0.881648707136961, 0.881648707136961, 0.881648707136961, 0.881648707136961, 0.881648707136961, 0.882545568123508, 0.882545568123508]}], \"matthews_correlation\": [{\"categories\": [\"0\", \"1\", \"2\", \"3\", \"4\", \"5\", \"6\", \"7\", \"8\", \"9\", \"10\", \"11\", \"12\", \"13\", \"14\", \"15\", \"16\", \"17\", \"18\", \"19\", \"20\", \"21\", \"22\", \"23\", \"24\", \"25\", \"26\", \"27\", \"28\", \"29\", \"30\", \"31\", \"32\", \"33\", \"34\", \"35\", \"36\", \"37\", \"38\", \"39\", \"40\", \"41\", \"42\", \"43\", \"44\", \"45\", \"46\", \"47\", \"48\", \"49\", \"50\", \"51\", \"52\", \"53\", \"54\", \"55\", \"56\", \"57\", \"58\", \"59\", \"60\", \"61\", \"62\", \"63\", \"64\", \"65\", \"66\", \"67\", \"68\", \"69\", \"70\", \"71\", \"72\"], \"mode\": \"markers\", \"name\": \"matthews_correlation\", \"stepped\": false, \"type\": \"scatter\", \"data\": [0.11018258412797255, 0.11002904638722885, 0.0, 0.0, 0.11316491679831753, 0.10870605349302291, 0.0, 0.1202692730573919, 0.11096550541900965, 0.0, 0.0, 0.0, 0.0, 0.09964176060061052, 0.0, 0.1193461467261083, 0.0, 0.0, 0.0, 0.0, 0.0, 0.11163893843152109, 0.1556095650489553, 0.0, 0.0, 0.0, 0.0, 0.09532116823290467, 0.0, 0.0, 0.0, 0.0, 0.08069018449252022, 0.0, 0.0, 0.0, 0.0, 0.0, 0.0, 0.0, 0.0, 0.0, 0.14196418872781308, 0.0, 0.10523324001775021, 0.0, 0.09656931731252813, 0.08035112900114191, 0.11080801234198975, 0.021615352133175156, 0.0, 0.0, 0.0, 0.0, 0.0, 0.0, 0.0, 0.0, -0.0028922087787057777, 0.0, 0.0, 0.0, -0.0029122724552574164, 0.0, 0.0, 0.0, 0.14300113288176383, 0.0, 0.0, 0.0, 0.0, 0.156669990924085, 0.12751706414335462]}, {\"categories\": [\"0\", \"1\", \"2\", \"3\", \"4\", \"5\", \"6\", \"7\", \"8\", \"9\", \"10\", \"11\", \"12\", \"13\", \"14\", \"15\", \"16\", \"17\", \"18\", \"19\", \"20\", \"21\", \"22\", \"23\", \"24\", \"25\", \"26\", \"27\", \"28\", \"29\", \"30\", \"31\", \"32\", \"33\", \"34\", \"35\", \"36\", \"37\", \"38\", \"39\", \"40\", \"41\", \"42\", \"43\", \"44\", \"45\", \"46\", \"47\", \"48\", \"49\", \"50\", \"51\", \"52\", \"53\", \"54\", \"55\", \"56\", \"57\", \"58\", \"59\", \"60\", \"61\", \"62\", \"63\", \"64\", \"65\", \"66\", \"67\", \"68\", \"69\", \"70\", \"71\", \"72\"], \"mode\": \"lines\", \"name\": \"matthews_correlation_max\", \"stepped\": true, \"type\": \"scatter\", \"data\": [0.11018258412797255, 0.11018258412797255, 0.11018258412797255, 0.11018258412797255, 0.11316491679831753, 0.11316491679831753, 0.11316491679831753, 0.1202692730573919, 0.1202692730573919, 0.1202692730573919, 0.1202692730573919, 0.1202692730573919, 0.1202692730573919, 0.1202692730573919, 0.1202692730573919, 0.1202692730573919, 0.1202692730573919, 0.1202692730573919, 0.1202692730573919, 0.1202692730573919, 0.1202692730573919, 0.1202692730573919, 0.1556095650489553, 0.1556095650489553, 0.1556095650489553, 0.1556095650489553, 0.1556095650489553, 0.1556095650489553, 0.1556095650489553, 0.1556095650489553, 0.1556095650489553, 0.1556095650489553, 0.1556095650489553, 0.1556095650489553, 0.1556095650489553, 0.1556095650489553, 0.1556095650489553, 0.1556095650489553, 0.1556095650489553, 0.1556095650489553, 0.1556095650489553, 0.1556095650489553, 0.1556095650489553, 0.1556095650489553, 0.1556095650489553, 0.1556095650489553, 0.1556095650489553, 0.1556095650489553, 0.1556095650489553, 0.1556095650489553, 0.1556095650489553, 0.1556095650489553, 0.1556095650489553, 0.1556095650489553, 0.1556095650489553, 0.1556095650489553, 0.1556095650489553, 0.1556095650489553, 0.1556095650489553, 0.1556095650489553, 0.1556095650489553, 0.1556095650489553, 0.1556095650489553, 0.1556095650489553, 0.1556095650489553, 0.1556095650489553, 0.1556095650489553, 0.1556095650489553, 0.1556095650489553, 0.1556095650489553, 0.1556095650489553, 0.156669990924085, 0.156669990924085]}], \"f1_score_micro\": [{\"categories\": [\"0\", \"1\", \"2\", \"3\", \"4\", \"5\", \"6\", \"7\", \"8\", \"9\", \"10\", \"11\", \"12\", \"13\", \"14\", \"15\", \"16\", \"17\", \"18\", \"19\", \"20\", \"21\", \"22\", \"23\", \"24\", \"25\", \"26\", \"27\", \"28\", \"29\", \"30\", \"31\", \"32\", \"33\", \"34\", \"35\", \"36\", \"37\", \"38\", \"39\", \"40\", \"41\", \"42\", \"43\", \"44\", \"45\", \"46\", \"47\", \"48\", \"49\", \"50\", \"51\", \"52\", \"53\", \"54\", \"55\", \"56\", \"57\", \"58\", \"59\", \"60\", \"61\", \"62\", \"63\", \"64\", \"65\", \"66\", \"67\", \"68\", \"69\", \"70\", \"71\", \"72\"], \"mode\": \"markers\", \"name\": \"f1_score_micro\", \"stepped\": false, \"type\": \"scatter\", \"data\": [0.8723860518037615, 0.8798549851638668, 0.878959462775807, 0.878959462775807, 0.6590018517279076, 0.6431706936171163, 0.878959462775807, 0.8777645405260692, 0.8762702184146531, 0.878959462775807, 0.878959462775807, 0.878959462775807, 0.878959462775807, 0.8792584164379894, 0.878959462775807, 0.8810521384110835, 0.878959462775807, 0.878959462775807, 0.878959462775807, 0.878959462775807, 0.878959462775807, 0.8747745577047498, 0.881648707136961, 0.878959462775807, 0.878959462775807, 0.878959462775807, 0.878959462775807, 0.662587064676617, 0.878959462775807, 0.878959462775807, 0.878959462775807, 0.878959462775807, 0.878959462775807, 0.878959462775807, 0.878959462775807, 0.878959462775807, 0.878959462775807, 0.878959462775807, 0.878959462775807, 0.878959462775807, 0.878959462775807, 0.878959462775807, 0.8810516922115876, 0.878959462775807, 0.858937599000513, 0.878959462775807, 0.8574437230885931, 0.8553523860518037, 0.8592365526626955, 0.8792584164379894, 0.878959462775807, 0.878959462775807, 0.878959462775807, 0.878959462775807, 0.878959462775807, 0.878959462775807, 0.878959462775807, 0.878959462775807, 0.8786605091136247, 0.878959462775807, 0.878959462775807, 0.878959462775807, 0.8786605091136247, 0.878959462775807, 0.878959462775807, 0.878959462775807, 0.8789576779778239, 0.878959462775807, 0.878959462775807, 0.878959462775807, 0.878959462775807, 0.882545568123508, 0.8816491533364568]}, {\"categories\": [\"0\", \"1\", \"2\", \"3\", \"4\", \"5\", \"6\", \"7\", \"8\", \"9\", \"10\", \"11\", \"12\", \"13\", \"14\", \"15\", \"16\", \"17\", \"18\", \"19\", \"20\", \"21\", \"22\", \"23\", \"24\", \"25\", \"26\", \"27\", \"28\", \"29\", \"30\", \"31\", \"32\", \"33\", \"34\", \"35\", \"36\", \"37\", \"38\", \"39\", \"40\", \"41\", \"42\", \"43\", \"44\", \"45\", \"46\", \"47\", \"48\", \"49\", \"50\", \"51\", \"52\", \"53\", \"54\", \"55\", \"56\", \"57\", \"58\", \"59\", \"60\", \"61\", \"62\", \"63\", \"64\", \"65\", \"66\", \"67\", \"68\", \"69\", \"70\", \"71\", \"72\"], \"mode\": \"lines\", \"name\": \"f1_score_micro_max\", \"stepped\": true, \"type\": \"scatter\", \"data\": [0.8723860518037615, 0.8798549851638668, 0.8798549851638668, 0.8798549851638668, 0.8798549851638668, 0.8798549851638668, 0.8798549851638668, 0.8798549851638668, 0.8798549851638668, 0.8798549851638668, 0.8798549851638668, 0.8798549851638668, 0.8798549851638668, 0.8798549851638668, 0.8798549851638668, 0.8810521384110835, 0.8810521384110835, 0.8810521384110835, 0.8810521384110835, 0.8810521384110835, 0.8810521384110835, 0.8810521384110835, 0.881648707136961, 0.881648707136961, 0.881648707136961, 0.881648707136961, 0.881648707136961, 0.881648707136961, 0.881648707136961, 0.881648707136961, 0.881648707136961, 0.881648707136961, 0.881648707136961, 0.881648707136961, 0.881648707136961, 0.881648707136961, 0.881648707136961, 0.881648707136961, 0.881648707136961, 0.881648707136961, 0.881648707136961, 0.881648707136961, 0.881648707136961, 0.881648707136961, 0.881648707136961, 0.881648707136961, 0.881648707136961, 0.881648707136961, 0.881648707136961, 0.881648707136961, 0.881648707136961, 0.881648707136961, 0.881648707136961, 0.881648707136961, 0.881648707136961, 0.881648707136961, 0.881648707136961, 0.881648707136961, 0.881648707136961, 0.881648707136961, 0.881648707136961, 0.881648707136961, 0.881648707136961, 0.881648707136961, 0.881648707136961, 0.881648707136961, 0.881648707136961, 0.881648707136961, 0.881648707136961, 0.881648707136961, 0.881648707136961, 0.882545568123508, 0.882545568123508]}], \"f1_score_macro\": [{\"categories\": [\"0\", \"1\", \"2\", \"3\", \"4\", \"5\", \"6\", \"7\", \"8\", \"9\", \"10\", \"11\", \"12\", \"13\", \"14\", \"15\", \"16\", \"17\", \"18\", \"19\", \"20\", \"21\", \"22\", \"23\", \"24\", \"25\", \"26\", \"27\", \"28\", \"29\", \"30\", \"31\", \"32\", \"33\", \"34\", \"35\", \"36\", \"37\", \"38\", \"39\", \"40\", \"41\", \"42\", \"43\", \"44\", \"45\", \"46\", \"47\", \"48\", \"49\", \"50\", \"51\", \"52\", \"53\", \"54\", \"55\", \"56\", \"57\", \"58\", \"59\", \"60\", \"61\", \"62\", \"63\", \"64\", \"65\", \"66\", \"67\", \"68\", \"69\", \"70\", \"71\", \"72\"], \"mode\": \"markers\", \"name\": \"f1_score_macro\", \"stepped\": false, \"type\": \"scatter\", \"data\": [0.520574928174174, 0.4985077022912276, 0.4677878338156226, 0.4677878338156226, 0.5158334933386512, 0.5083446863389678, 0.4677878338156226, 0.5136909093652753, 0.5125298536024416, 0.4677878338156226, 0.4677878338156226, 0.4677878338156226, 0.4677878338156226, 0.49354564809714035, 0.4677878338156226, 0.499080096219349, 0.4677878338156226, 0.4677878338156226, 0.4677878338156226, 0.4677878338156226, 0.4677878338156226, 0.5178182476809978, 0.5158525055770922, 0.4677878338156226, 0.4677878338156226, 0.4677878338156226, 0.4677878338156226, 0.5121440858714, 0.4677878338156226, 0.4677878338156226, 0.4677878338156226, 0.4677878338156226, 0.48929679013090804, 0.4677878338156226, 0.4677878338156226, 0.4677878338156226, 0.4677878338156226, 0.4677878338156226, 0.4677878338156226, 0.4677878338156226, 0.4677878338156226, 0.4677878338156226, 0.5095298052767367, 0.4677878338156226, 0.5366739891998815, 0.4677878338156226, 0.5331140569641261, 0.5251831815895459, 0.5390891461968591, 0.4704597628309437, 0.4677878338156226, 0.4677878338156226, 0.4677878338156226, 0.4677878338156226, 0.4677878338156226, 0.4677878338156226, 0.4677878338156226, 0.4677878338156226, 0.4677029504192717, 0.4677878338156226, 0.4677878338156226, 0.4677878338156226, 0.46770281503905425, 0.4677878338156226, 0.4677878338156226, 0.4677878338156226, 0.5219859276739687, 0.4677878338156226, 0.4677878338156226, 0.4677878338156226, 0.4677878338156226, 0.502185249674696, 0.4994240143152345]}, {\"categories\": [\"0\", \"1\", \"2\", \"3\", \"4\", \"5\", \"6\", \"7\", \"8\", \"9\", \"10\", \"11\", \"12\", \"13\", \"14\", \"15\", \"16\", \"17\", \"18\", \"19\", \"20\", \"21\", \"22\", \"23\", \"24\", \"25\", \"26\", \"27\", \"28\", \"29\", \"30\", \"31\", \"32\", \"33\", \"34\", \"35\", \"36\", \"37\", \"38\", \"39\", \"40\", \"41\", \"42\", \"43\", \"44\", \"45\", \"46\", \"47\", \"48\", \"49\", \"50\", \"51\", \"52\", \"53\", \"54\", \"55\", \"56\", \"57\", \"58\", \"59\", \"60\", \"61\", \"62\", \"63\", \"64\", \"65\", \"66\", \"67\", \"68\", \"69\", \"70\", \"71\", \"72\"], \"mode\": \"lines\", \"name\": \"f1_score_macro_max\", \"stepped\": true, \"type\": \"scatter\", \"data\": [0.520574928174174, 0.520574928174174, 0.520574928174174, 0.520574928174174, 0.520574928174174, 0.520574928174174, 0.520574928174174, 0.520574928174174, 0.520574928174174, 0.520574928174174, 0.520574928174174, 0.520574928174174, 0.520574928174174, 0.520574928174174, 0.520574928174174, 0.520574928174174, 0.520574928174174, 0.520574928174174, 0.520574928174174, 0.520574928174174, 0.520574928174174, 0.520574928174174, 0.520574928174174, 0.520574928174174, 0.520574928174174, 0.520574928174174, 0.520574928174174, 0.520574928174174, 0.520574928174174, 0.520574928174174, 0.520574928174174, 0.520574928174174, 0.520574928174174, 0.520574928174174, 0.520574928174174, 0.520574928174174, 0.520574928174174, 0.520574928174174, 0.520574928174174, 0.520574928174174, 0.520574928174174, 0.520574928174174, 0.520574928174174, 0.520574928174174, 0.5366739891998815, 0.5366739891998815, 0.5366739891998815, 0.5366739891998815, 0.5390891461968591, 0.5390891461968591, 0.5390891461968591, 0.5390891461968591, 0.5390891461968591, 0.5390891461968591, 0.5390891461968591, 0.5390891461968591, 0.5390891461968591, 0.5390891461968591, 0.5390891461968591, 0.5390891461968591, 0.5390891461968591, 0.5390891461968591, 0.5390891461968591, 0.5390891461968591, 0.5390891461968591, 0.5390891461968591, 0.5390891461968591, 0.5390891461968591, 0.5390891461968591, 0.5390891461968591, 0.5390891461968591, 0.5390891461968591, 0.5390891461968591]}], \"precision_score_micro\": [{\"categories\": [\"0\", \"1\", \"2\", \"3\", \"4\", \"5\", \"6\", \"7\", \"8\", \"9\", \"10\", \"11\", \"12\", \"13\", \"14\", \"15\", \"16\", \"17\", \"18\", \"19\", \"20\", \"21\", \"22\", \"23\", \"24\", \"25\", \"26\", \"27\", \"28\", \"29\", \"30\", \"31\", \"32\", \"33\", \"34\", \"35\", \"36\", \"37\", \"38\", \"39\", \"40\", \"41\", \"42\", \"43\", \"44\", \"45\", \"46\", \"47\", \"48\", \"49\", \"50\", \"51\", \"52\", \"53\", \"54\", \"55\", \"56\", \"57\", \"58\", \"59\", \"60\", \"61\", \"62\", \"63\", \"64\", \"65\", \"66\", \"67\", \"68\", \"69\", \"70\", \"71\", \"72\"], \"mode\": \"markers\", \"name\": \"precision_score_micro\", \"stepped\": false, \"type\": \"scatter\", \"data\": [0.8723860518037615, 0.8798549851638668, 0.878959462775807, 0.878959462775807, 0.6590018517279076, 0.6431706936171163, 0.878959462775807, 0.8777645405260692, 0.8762702184146531, 0.878959462775807, 0.878959462775807, 0.878959462775807, 0.878959462775807, 0.8792584164379894, 0.878959462775807, 0.8810521384110835, 0.878959462775807, 0.878959462775807, 0.878959462775807, 0.878959462775807, 0.878959462775807, 0.8747745577047498, 0.881648707136961, 0.878959462775807, 0.878959462775807, 0.878959462775807, 0.878959462775807, 0.662587064676617, 0.878959462775807, 0.878959462775807, 0.878959462775807, 0.878959462775807, 0.878959462775807, 0.878959462775807, 0.878959462775807, 0.878959462775807, 0.878959462775807, 0.878959462775807, 0.878959462775807, 0.878959462775807, 0.878959462775807, 0.878959462775807, 0.8810516922115876, 0.878959462775807, 0.858937599000513, 0.878959462775807, 0.8574437230885931, 0.8553523860518037, 0.8592365526626955, 0.8792584164379894, 0.878959462775807, 0.878959462775807, 0.878959462775807, 0.878959462775807, 0.878959462775807, 0.878959462775807, 0.878959462775807, 0.878959462775807, 0.8786605091136247, 0.878959462775807, 0.878959462775807, 0.878959462775807, 0.8786605091136247, 0.878959462775807, 0.878959462775807, 0.878959462775807, 0.8789576779778239, 0.878959462775807, 0.878959462775807, 0.878959462775807, 0.878959462775807, 0.882545568123508, 0.8816491533364568]}, {\"categories\": [\"0\", \"1\", \"2\", \"3\", \"4\", \"5\", \"6\", \"7\", \"8\", \"9\", \"10\", \"11\", \"12\", \"13\", \"14\", \"15\", \"16\", \"17\", \"18\", \"19\", \"20\", \"21\", \"22\", \"23\", \"24\", \"25\", \"26\", \"27\", \"28\", \"29\", \"30\", \"31\", \"32\", \"33\", \"34\", \"35\", \"36\", \"37\", \"38\", \"39\", \"40\", \"41\", \"42\", \"43\", \"44\", \"45\", \"46\", \"47\", \"48\", \"49\", \"50\", \"51\", \"52\", \"53\", \"54\", \"55\", \"56\", \"57\", \"58\", \"59\", \"60\", \"61\", \"62\", \"63\", \"64\", \"65\", \"66\", \"67\", \"68\", \"69\", \"70\", \"71\", \"72\"], \"mode\": \"lines\", \"name\": \"precision_score_micro_max\", \"stepped\": true, \"type\": \"scatter\", \"data\": [0.8723860518037615, 0.8798549851638668, 0.8798549851638668, 0.8798549851638668, 0.8798549851638668, 0.8798549851638668, 0.8798549851638668, 0.8798549851638668, 0.8798549851638668, 0.8798549851638668, 0.8798549851638668, 0.8798549851638668, 0.8798549851638668, 0.8798549851638668, 0.8798549851638668, 0.8810521384110835, 0.8810521384110835, 0.8810521384110835, 0.8810521384110835, 0.8810521384110835, 0.8810521384110835, 0.8810521384110835, 0.881648707136961, 0.881648707136961, 0.881648707136961, 0.881648707136961, 0.881648707136961, 0.881648707136961, 0.881648707136961, 0.881648707136961, 0.881648707136961, 0.881648707136961, 0.881648707136961, 0.881648707136961, 0.881648707136961, 0.881648707136961, 0.881648707136961, 0.881648707136961, 0.881648707136961, 0.881648707136961, 0.881648707136961, 0.881648707136961, 0.881648707136961, 0.881648707136961, 0.881648707136961, 0.881648707136961, 0.881648707136961, 0.881648707136961, 0.881648707136961, 0.881648707136961, 0.881648707136961, 0.881648707136961, 0.881648707136961, 0.881648707136961, 0.881648707136961, 0.881648707136961, 0.881648707136961, 0.881648707136961, 0.881648707136961, 0.881648707136961, 0.881648707136961, 0.881648707136961, 0.881648707136961, 0.881648707136961, 0.881648707136961, 0.881648707136961, 0.881648707136961, 0.881648707136961, 0.881648707136961, 0.881648707136961, 0.881648707136961, 0.882545568123508, 0.882545568123508]}], \"average_precision_score_weighted\": [{\"categories\": [\"0\", \"1\", \"2\", \"3\", \"4\", \"5\", \"6\", \"7\", \"8\", \"9\", \"10\", \"11\", \"12\", \"13\", \"14\", \"15\", \"16\", \"17\", \"18\", \"19\", \"20\", \"21\", \"22\", \"23\", \"24\", \"25\", \"26\", \"27\", \"28\", \"29\", \"30\", \"31\", \"32\", \"33\", \"34\", \"35\", \"36\", \"37\", \"38\", \"39\", \"40\", \"41\", \"42\", \"43\", \"44\", \"45\", \"46\", \"47\", \"48\", \"49\", \"50\", \"51\", \"52\", \"53\", \"54\", \"55\", \"56\", \"57\", \"58\", \"59\", \"60\", \"61\", \"62\", \"63\", \"64\", \"65\", \"66\", \"67\", \"68\", \"69\", \"70\", \"71\", \"72\"], \"mode\": \"markers\", \"name\": \"average_precision_score_weighted\", \"stepped\": false, \"type\": \"scatter\", \"data\": [0.818001567591072, 0.8309574381689986, 0.8288909494547527, 0.8314415643035108, 0.8265100088200874, 0.8311379529133605, 0.8312066152578408, 0.8200543492905549, 0.8233070372937851, 0.828753935169346, 0.8322871572871673, 0.8330048673687361, 0.8297460952851262, 0.8247514889131443, 0.8315445279671563, 0.8262402662893524, 0.8318310948750893, 0.8187298688018654, 0.8292466124128299, 0.834595583365269, 0.8325544494695633, 0.8239823415776772, 0.8277087763568607, 0.8238619595992885, 0.8313287942828058, 0.7872565217938792, 0.8271421589007371, 0.8150394425197363, 0.8293923730935948, 0.8236627203776935, 0.7872565217938792, 0.8266145066038255, 0.8305562839875739, 0.8237898767513651, 0.8320405212219457, 0.7872565217938792, 0.8170532479715471, 0.8313422566050527, 0.8312181274877503, 0.8289548262324564, 0.7872565217938792, 0.8268344967055432, 0.82139913238339, 0.833154750696828, 0.8164809550697589, 0.7872565217938792, 0.8166458542301147, 0.8173811895319687, 0.8173139394306277, 0.8250874729941622, 0.7872565217938792, 0.8256044765494346, 0.8288553808553321, 0.8270962297320903, 0.8337399519612212, 0.7872565217938792, 0.8301511769932677, 0.8299452038559203, 0.8329058513742573, 0.8308127852164013, 0.7872565217938792, 0.8298422694918648, 0.8344797961036994, 0.8314413217742509, 0.8292592171242397, 0.7872565217938792, 0.8276197547308362, 0.8289522829845598, 0.8291444876475982, 0.8301418272104358, 0.7872565217938792, 0.831132124016438, 0.8315139457198726]}, {\"categories\": [\"0\", \"1\", \"2\", \"3\", \"4\", \"5\", \"6\", \"7\", \"8\", \"9\", \"10\", \"11\", \"12\", \"13\", \"14\", \"15\", \"16\", \"17\", \"18\", \"19\", \"20\", \"21\", \"22\", \"23\", \"24\", \"25\", \"26\", \"27\", \"28\", \"29\", \"30\", \"31\", \"32\", \"33\", \"34\", \"35\", \"36\", \"37\", \"38\", \"39\", \"40\", \"41\", \"42\", \"43\", \"44\", \"45\", \"46\", \"47\", \"48\", \"49\", \"50\", \"51\", \"52\", \"53\", \"54\", \"55\", \"56\", \"57\", \"58\", \"59\", \"60\", \"61\", \"62\", \"63\", \"64\", \"65\", \"66\", \"67\", \"68\", \"69\", \"70\", \"71\", \"72\"], \"mode\": \"lines\", \"name\": \"average_precision_score_weighted_max\", \"stepped\": true, \"type\": \"scatter\", \"data\": [0.818001567591072, 0.8309574381689986, 0.8309574381689986, 0.8314415643035108, 0.8314415643035108, 0.8314415643035108, 0.8314415643035108, 0.8314415643035108, 0.8314415643035108, 0.8314415643035108, 0.8322871572871673, 0.8330048673687361, 0.8330048673687361, 0.8330048673687361, 0.8330048673687361, 0.8330048673687361, 0.8330048673687361, 0.8330048673687361, 0.8330048673687361, 0.834595583365269, 0.834595583365269, 0.834595583365269, 0.834595583365269, 0.834595583365269, 0.834595583365269, 0.834595583365269, 0.834595583365269, 0.834595583365269, 0.834595583365269, 0.834595583365269, 0.834595583365269, 0.834595583365269, 0.834595583365269, 0.834595583365269, 0.834595583365269, 0.834595583365269, 0.834595583365269, 0.834595583365269, 0.834595583365269, 0.834595583365269, 0.834595583365269, 0.834595583365269, 0.834595583365269, 0.834595583365269, 0.834595583365269, 0.834595583365269, 0.834595583365269, 0.834595583365269, 0.834595583365269, 0.834595583365269, 0.834595583365269, 0.834595583365269, 0.834595583365269, 0.834595583365269, 0.834595583365269, 0.834595583365269, 0.834595583365269, 0.834595583365269, 0.834595583365269, 0.834595583365269, 0.834595583365269, 0.834595583365269, 0.834595583365269, 0.834595583365269, 0.834595583365269, 0.834595583365269, 0.834595583365269, 0.834595583365269, 0.834595583365269, 0.834595583365269, 0.834595583365269, 0.834595583365269, 0.834595583365269]}], \"AUC_micro\": [{\"categories\": [\"0\", \"1\", \"2\", \"3\", \"4\", \"5\", \"6\", \"7\", \"8\", \"9\", \"10\", \"11\", \"12\", \"13\", \"14\", \"15\", \"16\", \"17\", \"18\", \"19\", \"20\", \"21\", \"22\", \"23\", \"24\", \"25\", \"26\", \"27\", \"28\", \"29\", \"30\", \"31\", \"32\", \"33\", \"34\", \"35\", \"36\", \"37\", \"38\", \"39\", \"40\", \"41\", \"42\", \"43\", \"44\", \"45\", \"46\", \"47\", \"48\", \"49\", \"50\", \"51\", \"52\", \"53\", \"54\", \"55\", \"56\", \"57\", \"58\", \"59\", \"60\", \"61\", \"62\", \"63\", \"64\", \"65\", \"66\", \"67\", \"68\", \"69\", \"70\", \"71\", \"72\"], \"mode\": \"markers\", \"name\": \"AUC_micro\", \"stepped\": false, \"type\": \"scatter\", \"data\": [0.8944236958602897, 0.90665702245026, 0.9056949242921934, 0.9062961063055471, 0.744085323511326, 0.696342144476278, 0.9069030076073382, 0.8992578672402043, 0.9006622412323336, 0.9064009253154, 0.9077616880049358, 0.9076018837594427, 0.9055904735056796, 0.9048337769667565, 0.9077522921463359, 0.9016833497570197, 0.9064528494640204, 0.8992799689696488, 0.9062447189959526, 0.9078785767425073, 0.9070038061519792, 0.9001243763011815, 0.9036257496348508, 0.9026723615402078, 0.9061196983549454, 0.878959462775807, 0.9035508230237201, 0.6445000080481257, 0.9073514729241413, 0.9017770997422898, 0.878959462775807, 0.9030966814048632, 0.9065244220800572, 0.9039083988341735, 0.9076266023733242, 0.878959462775807, 0.8990033009818392, 0.9064786800775643, 0.9066228130059635, 0.9057083622764355, 0.878959462775807, 0.903845318686761, 0.8995394390981462, 0.9071206349085044, 0.8905147169986268, 0.878959462775807, 0.8916948726601536, 0.8920556565128827, 0.8922290253703775, 0.9015444192760276, 0.878959462775807, 0.9054476998387372, 0.9057309875165585, 0.902646530592186, 0.9087475257351741, 0.878959462775807, 0.9059607258614282, 0.9056674301756932, 0.9070764677723231, 0.906135729896777, 0.878959462775807, 0.90597412352416, 0.9072375806257803, 0.9058020466144441, 0.9050252640771609, 0.878959462775807, 0.9017631542445713, 0.9051625037315378, 0.9050859222850078, 0.9063454432287621, 0.878959462775807, 0.9053366833475426, 0.9052326720968488]}, {\"categories\": [\"0\", \"1\", \"2\", \"3\", \"4\", \"5\", \"6\", \"7\", \"8\", \"9\", \"10\", \"11\", \"12\", \"13\", \"14\", \"15\", \"16\", \"17\", \"18\", \"19\", \"20\", \"21\", \"22\", \"23\", \"24\", \"25\", \"26\", \"27\", \"28\", \"29\", \"30\", \"31\", \"32\", \"33\", \"34\", \"35\", \"36\", \"37\", \"38\", \"39\", \"40\", \"41\", \"42\", \"43\", \"44\", \"45\", \"46\", \"47\", \"48\", \"49\", \"50\", \"51\", \"52\", \"53\", \"54\", \"55\", \"56\", \"57\", \"58\", \"59\", \"60\", \"61\", \"62\", \"63\", \"64\", \"65\", \"66\", \"67\", \"68\", \"69\", \"70\", \"71\", \"72\"], \"mode\": \"lines\", \"name\": \"AUC_micro_max\", \"stepped\": true, \"type\": \"scatter\", \"data\": [0.8944236958602897, 0.90665702245026, 0.90665702245026, 0.90665702245026, 0.90665702245026, 0.90665702245026, 0.9069030076073382, 0.9069030076073382, 0.9069030076073382, 0.9069030076073382, 0.9077616880049358, 0.9077616880049358, 0.9077616880049358, 0.9077616880049358, 0.9077616880049358, 0.9077616880049358, 0.9077616880049358, 0.9077616880049358, 0.9077616880049358, 0.9078785767425073, 0.9078785767425073, 0.9078785767425073, 0.9078785767425073, 0.9078785767425073, 0.9078785767425073, 0.9078785767425073, 0.9078785767425073, 0.9078785767425073, 0.9078785767425073, 0.9078785767425073, 0.9078785767425073, 0.9078785767425073, 0.9078785767425073, 0.9078785767425073, 0.9078785767425073, 0.9078785767425073, 0.9078785767425073, 0.9078785767425073, 0.9078785767425073, 0.9078785767425073, 0.9078785767425073, 0.9078785767425073, 0.9078785767425073, 0.9078785767425073, 0.9078785767425073, 0.9078785767425073, 0.9078785767425073, 0.9078785767425073, 0.9078785767425073, 0.9078785767425073, 0.9078785767425073, 0.9078785767425073, 0.9078785767425073, 0.9078785767425073, 0.9087475257351741, 0.9087475257351741, 0.9087475257351741, 0.9087475257351741, 0.9087475257351741, 0.9087475257351741, 0.9087475257351741, 0.9087475257351741, 0.9087475257351741, 0.9087475257351741, 0.9087475257351741, 0.9087475257351741, 0.9087475257351741, 0.9087475257351741, 0.9087475257351741, 0.9087475257351741, 0.9087475257351741, 0.9087475257351741, 0.9087475257351741]}], \"average_precision_score_macro\": [{\"categories\": [\"0\", \"1\", \"2\", \"3\", \"4\", \"5\", \"6\", \"7\", \"8\", \"9\", \"10\", \"11\", \"12\", \"13\", \"14\", \"15\", \"16\", \"17\", \"18\", \"19\", \"20\", \"21\", \"22\", \"23\", \"24\", \"25\", \"26\", \"27\", \"28\", \"29\", \"30\", \"31\", \"32\", \"33\", \"34\", \"35\", \"36\", \"37\", \"38\", \"39\", \"40\", \"41\", \"42\", \"43\", \"44\", \"45\", \"46\", \"47\", \"48\", \"49\", \"50\", \"51\", \"52\", \"53\", \"54\", \"55\", \"56\", \"57\", \"58\", \"59\", \"60\", \"61\", \"62\", \"63\", \"64\", \"65\", \"66\", \"67\", \"68\", \"69\", \"70\", \"71\", \"72\"], \"mode\": \"markers\", \"name\": \"average_precision_score_macro\", \"stepped\": false, \"type\": \"scatter\", \"data\": [0.5502394688010714, 0.5666383423613146, 0.5625818005741874, 0.5577963869191359, 0.5557089164547234, 0.5606514937184311, 0.5552349005149471, 0.5547771054391036, 0.5579345585124995, 0.5564387535036424, 0.5613287232646129, 0.5661403075211882, 0.5608192139334662, 0.5597448606075842, 0.5572715067676148, 0.5620139130764606, 0.5577586881077916, 0.5449701131702904, 0.5593732048198516, 0.5630655084029234, 0.5579131889791329, 0.560147904868697, 0.5662425231338526, 0.551637219092681, 0.5559452623170296, 0.5, 0.5557113277233251, 0.5433039887400049, 0.5578185209889484, 0.5447494309496498, 0.5, 0.5560695077921674, 0.5642792134479647, 0.5499912539981936, 0.5667561907005529, 0.5, 0.5448371163435464, 0.5581248241708541, 0.5571036058192222, 0.5524004528740142, 0.5, 0.5536240924079578, 0.5560507324079096, 0.5619662143548441, 0.550329126520636, 0.5, 0.5510981286804961, 0.5510361736592024, 0.5508694874282885, 0.5521196746360593, 0.5, 0.5505709410673827, 0.5581822557406682, 0.5546356221501043, 0.5603666617721101, 0.5, 0.5578350306724775, 0.5550278300280613, 0.5674098517003145, 0.5594958112887934, 0.5, 0.5539834091524719, 0.5706063639273158, 0.5595954094845945, 0.5569935716673952, 0.5, 0.5658957945953553, 0.5563576463262727, 0.55566513407174, 0.5583524749249913, 0.5, 0.5703630529572051, 0.5715850975175355]}, {\"categories\": [\"0\", \"1\", \"2\", \"3\", \"4\", \"5\", \"6\", \"7\", \"8\", \"9\", \"10\", \"11\", \"12\", \"13\", \"14\", \"15\", \"16\", \"17\", \"18\", \"19\", \"20\", \"21\", \"22\", \"23\", \"24\", \"25\", \"26\", \"27\", \"28\", \"29\", \"30\", \"31\", \"32\", \"33\", \"34\", \"35\", \"36\", \"37\", \"38\", \"39\", \"40\", \"41\", \"42\", \"43\", \"44\", \"45\", \"46\", \"47\", \"48\", \"49\", \"50\", \"51\", \"52\", \"53\", \"54\", \"55\", \"56\", \"57\", \"58\", \"59\", \"60\", \"61\", \"62\", \"63\", \"64\", \"65\", \"66\", \"67\", \"68\", \"69\", \"70\", \"71\", \"72\"], \"mode\": \"lines\", \"name\": \"average_precision_score_macro_max\", \"stepped\": true, \"type\": \"scatter\", \"data\": [0.5502394688010714, 0.5666383423613146, 0.5666383423613146, 0.5666383423613146, 0.5666383423613146, 0.5666383423613146, 0.5666383423613146, 0.5666383423613146, 0.5666383423613146, 0.5666383423613146, 0.5666383423613146, 0.5666383423613146, 0.5666383423613146, 0.5666383423613146, 0.5666383423613146, 0.5666383423613146, 0.5666383423613146, 0.5666383423613146, 0.5666383423613146, 0.5666383423613146, 0.5666383423613146, 0.5666383423613146, 0.5666383423613146, 0.5666383423613146, 0.5666383423613146, 0.5666383423613146, 0.5666383423613146, 0.5666383423613146, 0.5666383423613146, 0.5666383423613146, 0.5666383423613146, 0.5666383423613146, 0.5666383423613146, 0.5666383423613146, 0.5667561907005529, 0.5667561907005529, 0.5667561907005529, 0.5667561907005529, 0.5667561907005529, 0.5667561907005529, 0.5667561907005529, 0.5667561907005529, 0.5667561907005529, 0.5667561907005529, 0.5667561907005529, 0.5667561907005529, 0.5667561907005529, 0.5667561907005529, 0.5667561907005529, 0.5667561907005529, 0.5667561907005529, 0.5667561907005529, 0.5667561907005529, 0.5667561907005529, 0.5667561907005529, 0.5667561907005529, 0.5667561907005529, 0.5667561907005529, 0.5674098517003145, 0.5674098517003145, 0.5674098517003145, 0.5674098517003145, 0.5706063639273158, 0.5706063639273158, 0.5706063639273158, 0.5706063639273158, 0.5706063639273158, 0.5706063639273158, 0.5706063639273158, 0.5706063639273158, 0.5706063639273158, 0.5706063639273158, 0.5715850975175355]}], \"recall_score_macro\": [{\"categories\": [\"0\", \"1\", \"2\", \"3\", \"4\", \"5\", \"6\", \"7\", \"8\", \"9\", \"10\", \"11\", \"12\", \"13\", \"14\", \"15\", \"16\", \"17\", \"18\", \"19\", \"20\", \"21\", \"22\", \"23\", \"24\", \"25\", \"26\", \"27\", \"28\", \"29\", \"30\", \"31\", \"32\", \"33\", \"34\", \"35\", \"36\", \"37\", \"38\", \"39\", \"40\", \"41\", \"42\", \"43\", \"44\", \"45\", \"46\", \"47\", \"48\", \"49\", \"50\", \"51\", \"52\", \"53\", \"54\", \"55\", \"56\", \"57\", \"58\", \"59\", \"60\", \"61\", \"62\", \"63\", \"64\", \"65\", \"66\", \"67\", \"68\", \"69\", \"70\", \"71\", \"72\"], \"mode\": \"markers\", \"name\": \"recall_score_macro\", \"stepped\": false, \"type\": \"scatter\", \"data\": [0.5243049052911477, 0.514603010539244, 0.5, 0.5, 0.5824421529126155, 0.5797301543785227, 0.5, 0.5222044122766094, 0.5211310389648733, 0.5, 0.5, 0.5, 0.5, 0.5119932683191303, 0.5, 0.5153326689966883, 0.5, 0.5, 0.5, 0.5, 0.5, 0.5234384137848489, 0.5242765665873382, 0.5, 0.5, 0.5, 0.5, 0.5682054313131684, 0.5, 0.5, 0.5, 0.5, 0.5099065775701438, 0.5, 0.5, 0.5, 0.5, 0.5, 0.5, 0.5, 0.5, 0.5, 0.5206897892938857, 0.5, 0.5336196742092583, 0.5, 0.5305833984202086, 0.5252701191300111, 0.5347078170078063, 0.5013157894736843, 0.5, 0.5, 0.5, 0.5, 0.5, 0.5, 0.5, 0.5, 0.4998296422487223, 0.5, 0.5, 0.5, 0.4998293515358362, 0.5, 0.5, 0.5, 0.5268632096381245, 0.5, 0.5, 0.5, 0.5, 0.5172782372266566, 0.515747911759479]}, {\"categories\": [\"0\", \"1\", \"2\", \"3\", \"4\", \"5\", \"6\", \"7\", \"8\", \"9\", \"10\", \"11\", \"12\", \"13\", \"14\", \"15\", \"16\", \"17\", \"18\", \"19\", \"20\", \"21\", \"22\", \"23\", \"24\", \"25\", \"26\", \"27\", \"28\", \"29\", \"30\", \"31\", \"32\", \"33\", \"34\", \"35\", \"36\", \"37\", \"38\", \"39\", \"40\", \"41\", \"42\", \"43\", \"44\", \"45\", \"46\", \"47\", \"48\", \"49\", \"50\", \"51\", \"52\", \"53\", \"54\", \"55\", \"56\", \"57\", \"58\", \"59\", \"60\", \"61\", \"62\", \"63\", \"64\", \"65\", \"66\", \"67\", \"68\", \"69\", \"70\", \"71\", \"72\"], \"mode\": \"lines\", \"name\": \"recall_score_macro_max\", \"stepped\": true, \"type\": \"scatter\", \"data\": [0.5243049052911477, 0.5243049052911477, 0.5243049052911477, 0.5243049052911477, 0.5824421529126155, 0.5824421529126155, 0.5824421529126155, 0.5824421529126155, 0.5824421529126155, 0.5824421529126155, 0.5824421529126155, 0.5824421529126155, 0.5824421529126155, 0.5824421529126155, 0.5824421529126155, 0.5824421529126155, 0.5824421529126155, 0.5824421529126155, 0.5824421529126155, 0.5824421529126155, 0.5824421529126155, 0.5824421529126155, 0.5824421529126155, 0.5824421529126155, 0.5824421529126155, 0.5824421529126155, 0.5824421529126155, 0.5824421529126155, 0.5824421529126155, 0.5824421529126155, 0.5824421529126155, 0.5824421529126155, 0.5824421529126155, 0.5824421529126155, 0.5824421529126155, 0.5824421529126155, 0.5824421529126155, 0.5824421529126155, 0.5824421529126155, 0.5824421529126155, 0.5824421529126155, 0.5824421529126155, 0.5824421529126155, 0.5824421529126155, 0.5824421529126155, 0.5824421529126155, 0.5824421529126155, 0.5824421529126155, 0.5824421529126155, 0.5824421529126155, 0.5824421529126155, 0.5824421529126155, 0.5824421529126155, 0.5824421529126155, 0.5824421529126155, 0.5824421529126155, 0.5824421529126155, 0.5824421529126155, 0.5824421529126155, 0.5824421529126155, 0.5824421529126155, 0.5824421529126155, 0.5824421529126155, 0.5824421529126155, 0.5824421529126155, 0.5824421529126155, 0.5824421529126155, 0.5824421529126155, 0.5824421529126155, 0.5824421529126155, 0.5824421529126155, 0.5824421529126155, 0.5824421529126155]}], \"weighted_accuracy\": [{\"categories\": [\"0\", \"1\", \"2\", \"3\", \"4\", \"5\", \"6\", \"7\", \"8\", \"9\", \"10\", \"11\", \"12\", \"13\", \"14\", \"15\", \"16\", \"17\", \"18\", \"19\", \"20\", \"21\", \"22\", \"23\", \"24\", \"25\", \"26\", \"27\", \"28\", \"29\", \"30\", \"31\", \"32\", \"33\", \"34\", \"35\", \"36\", \"37\", \"38\", \"39\", \"40\", \"41\", \"42\", \"43\", \"44\", \"45\", \"46\", \"47\", \"48\", \"49\", \"50\", \"51\", \"52\", \"53\", \"54\", \"55\", \"56\", \"57\", \"58\", \"59\", \"60\", \"61\", \"62\", \"63\", \"64\", \"65\", \"66\", \"67\", \"68\", \"69\", \"70\", \"71\", \"72\"], \"mode\": \"markers\", \"name\": \"weighted_accuracy\", \"stepped\": false, \"type\": \"scatter\", \"data\": [0.9665117770787506, 0.9786065299501534, 0.9813554620305336, 0.9813554620305336, 0.6800046113620611, 0.6602642443330785, 0.9813554620305336, 0.9739587758360594, 0.9722957335168619, 0.9813554620305336, 0.9813554620305336, 0.9813554620305336, 0.9813554620305336, 0.9785204980824249, 0.9813554620305336, 0.9799396799983896, 0.9813554620305336, 0.9813554620305336, 0.9813554620305336, 0.9813554620305336, 0.9813554620305336, 0.9697676127245598, 0.9783028769998767, 0.9813554620305336, 0.9813554620305336, 0.9813554620305336, 0.9813554620305336, 0.6880235943961797, 0.9813554620305336, 0.9813554620305336, 0.9813554620305336, 0.9813554620305336, 0.9787509002051739, 0.9813554620305336, 0.9813554620305336, 0.9813554620305336, 0.9813554620305336, 0.9813554620305336, 0.9813554620305336, 0.9813554620305336, 0.9813554620305336, 0.9813554620305336, 0.9785022281941915, 0.9813554620305336, 0.9469013664584534, 0.9813554620305336, 0.9458047701386455, 0.9446171435536629, 0.9469472863849047, 0.9813979884346743, 0.9813554620305336, 0.9813554620305336, 0.9813554620305336, 0.9813554620305336, 0.9813554620305336, 0.9813554620305336, 0.9813554620305336, 0.9813554620305336, 0.9810212680670899, 0.9813554620305336, 0.9813554620305336, 0.9813554620305336, 0.981020877335214, 0.9813554620305336, 0.9813554620305336, 0.9813554620305336, 0.9741516231161107, 0.9813554620305336, 0.9813554620305336, 0.9813554620305336, 0.9813554620305336, 0.9813178209925848, 0.9806026650328576]}, {\"categories\": [\"0\", \"1\", \"2\", \"3\", \"4\", \"5\", \"6\", \"7\", \"8\", \"9\", \"10\", \"11\", \"12\", \"13\", \"14\", \"15\", \"16\", \"17\", \"18\", \"19\", \"20\", \"21\", \"22\", \"23\", \"24\", \"25\", \"26\", \"27\", \"28\", \"29\", \"30\", \"31\", \"32\", \"33\", \"34\", \"35\", \"36\", \"37\", \"38\", \"39\", \"40\", \"41\", \"42\", \"43\", \"44\", \"45\", \"46\", \"47\", \"48\", \"49\", \"50\", \"51\", \"52\", \"53\", \"54\", \"55\", \"56\", \"57\", \"58\", \"59\", \"60\", \"61\", \"62\", \"63\", \"64\", \"65\", \"66\", \"67\", \"68\", \"69\", \"70\", \"71\", \"72\"], \"mode\": \"lines\", \"name\": \"weighted_accuracy_max\", \"stepped\": true, \"type\": \"scatter\", \"data\": [0.9665117770787506, 0.9786065299501534, 0.9813554620305336, 0.9813554620305336, 0.9813554620305336, 0.9813554620305336, 0.9813554620305336, 0.9813554620305336, 0.9813554620305336, 0.9813554620305336, 0.9813554620305336, 0.9813554620305336, 0.9813554620305336, 0.9813554620305336, 0.9813554620305336, 0.9813554620305336, 0.9813554620305336, 0.9813554620305336, 0.9813554620305336, 0.9813554620305336, 0.9813554620305336, 0.9813554620305336, 0.9813554620305336, 0.9813554620305336, 0.9813554620305336, 0.9813554620305336, 0.9813554620305336, 0.9813554620305336, 0.9813554620305336, 0.9813554620305336, 0.9813554620305336, 0.9813554620305336, 0.9813554620305336, 0.9813554620305336, 0.9813554620305336, 0.9813554620305336, 0.9813554620305336, 0.9813554620305336, 0.9813554620305336, 0.9813554620305336, 0.9813554620305336, 0.9813554620305336, 0.9813554620305336, 0.9813554620305336, 0.9813554620305336, 0.9813554620305336, 0.9813554620305336, 0.9813554620305336, 0.9813554620305336, 0.9813979884346743, 0.9813979884346743, 0.9813979884346743, 0.9813979884346743, 0.9813979884346743, 0.9813979884346743, 0.9813979884346743, 0.9813979884346743, 0.9813979884346743, 0.9813979884346743, 0.9813979884346743, 0.9813979884346743, 0.9813979884346743, 0.9813979884346743, 0.9813979884346743, 0.9813979884346743, 0.9813979884346743, 0.9813979884346743, 0.9813979884346743, 0.9813979884346743, 0.9813979884346743, 0.9813979884346743, 0.9813979884346743, 0.9813979884346743]}]}, \"metricName\": null, \"primaryMetricName\": \"accuracy\", \"showLegend\": false}, \"run_metrics\": [{\"name\": \"experiment_status\", \"run_id\": \"AutoML_4cd1cc7a-8222-45fe-81c2-518b7e62c720\", \"categories\": [0, 1, 2, 3, 4, 5, 6, 7, 8, 9, 10, 11, 12, 13, 14], \"series\": [{\"data\": [\"DatasetEvaluation\", \"FeaturesGeneration\", \"DatasetFeaturization\", \"DatasetFeaturizationCompleted\", \"DatasetBalancing\", \"DatasetCrossValidationSplit\", \"ModelSelection\", \"BestRunExplainModel\", \"ModelExplanationDataSetSetup\", \"PickSurrogateModel\", \"EngineeredFeatureExplanations\", \"EngineeredFeatureExplanations\", \"RawFeaturesExplanations\", \"RawFeaturesExplanations\", \"BestRunExplainModel\"]}]}, {\"name\": \"experiment_status_description\", \"run_id\": \"AutoML_4cd1cc7a-8222-45fe-81c2-518b7e62c720\", \"categories\": [0, 1, 2, 3, 4, 5, 6, 7, 8, 9, 10, 11, 12, 13, 14], \"series\": [{\"data\": [\"Gathering dataset statistics.\", \"Generating features for the dataset.\", \"Beginning to fit featurizers and featurize the dataset.\", \"Completed fit featurizers and featurizing the dataset.\", \"Performing class balancing sweeping\", \"Generating individually featurized CV splits.\", \"Beginning model selection.\", \"Best run model explanations started\", \"Model explanations data setup completed\", \"Choosing LightGBM as the surrogate model for explanations\", \"Computation of engineered features started\", \"Computation of engineered features completed\", \"Computation of raw features started\", \"Computation of raw features completed\", \"Best run model explanations completed\"]}]}, {\"name\": \"recall_score_macro\", \"run_id\": \"AutoML_4cd1cc7a-8222-45fe-81c2-518b7e62c720\", \"categories\": [0], \"series\": [{\"data\": [0.5172782372266566]}]}, {\"name\": \"recall_score_micro\", \"run_id\": \"AutoML_4cd1cc7a-8222-45fe-81c2-518b7e62c720\", \"categories\": [0], \"series\": [{\"data\": [0.882545568123508]}]}, {\"name\": \"balanced_accuracy\", \"run_id\": \"AutoML_4cd1cc7a-8222-45fe-81c2-518b7e62c720\", \"categories\": [0], \"series\": [{\"data\": [0.5172782372266566]}]}, {\"name\": \"precision_score_macro\", \"run_id\": \"AutoML_4cd1cc7a-8222-45fe-81c2-518b7e62c720\", \"categories\": [0], \"series\": [{\"data\": [0.887964234405165]}]}, {\"name\": \"average_precision_score_weighted\", \"run_id\": \"AutoML_4cd1cc7a-8222-45fe-81c2-518b7e62c720\", \"categories\": [0], \"series\": [{\"data\": [0.831132124016438]}]}, {\"name\": \"f1_score_micro\", \"run_id\": \"AutoML_4cd1cc7a-8222-45fe-81c2-518b7e62c720\", \"categories\": [0], \"series\": [{\"data\": [0.882545568123508]}]}, {\"name\": \"recall_score_weighted\", \"run_id\": \"AutoML_4cd1cc7a-8222-45fe-81c2-518b7e62c720\", \"categories\": [0], \"series\": [{\"data\": [0.882545568123508]}]}, {\"name\": \"average_precision_score_micro\", \"run_id\": \"AutoML_4cd1cc7a-8222-45fe-81c2-518b7e62c720\", \"categories\": [0], \"series\": [{\"data\": [0.8885182477326646]}]}, {\"name\": \"norm_macro_recall\", \"run_id\": \"AutoML_4cd1cc7a-8222-45fe-81c2-518b7e62c720\", \"categories\": [0], \"series\": [{\"data\": [0.0345564744533132]}]}, {\"name\": \"f1_score_macro\", \"run_id\": \"AutoML_4cd1cc7a-8222-45fe-81c2-518b7e62c720\", \"categories\": [0], \"series\": [{\"data\": [0.502185249674696]}]}, {\"name\": \"accuracy\", \"run_id\": \"AutoML_4cd1cc7a-8222-45fe-81c2-518b7e62c720\", \"categories\": [0], \"series\": [{\"data\": [0.882545568123508]}]}, {\"name\": \"f1_score_weighted\", \"run_id\": \"AutoML_4cd1cc7a-8222-45fe-81c2-518b7e62c720\", \"categories\": [0], \"series\": [{\"data\": [0.8318511379493969]}]}, {\"name\": \"average_precision_score_macro\", \"run_id\": \"AutoML_4cd1cc7a-8222-45fe-81c2-518b7e62c720\", \"categories\": [0], \"series\": [{\"data\": [0.5703630529572051]}]}, {\"name\": \"matthews_correlation\", \"run_id\": \"AutoML_4cd1cc7a-8222-45fe-81c2-518b7e62c720\", \"categories\": [0], \"series\": [{\"data\": [0.156669990924085]}]}, {\"name\": \"precision_score_micro\", \"run_id\": \"AutoML_4cd1cc7a-8222-45fe-81c2-518b7e62c720\", \"categories\": [0], \"series\": [{\"data\": [0.882545568123508]}]}, {\"name\": \"log_loss\", \"run_id\": \"AutoML_4cd1cc7a-8222-45fe-81c2-518b7e62c720\", \"categories\": [0], \"series\": [{\"data\": [0.35715977668467025]}]}, {\"name\": \"AUC_weighted\", \"run_id\": \"AutoML_4cd1cc7a-8222-45fe-81c2-518b7e62c720\", \"categories\": [0], \"series\": [{\"data\": [0.6245011380397539]}]}, {\"name\": \"AUC_micro\", \"run_id\": \"AutoML_4cd1cc7a-8222-45fe-81c2-518b7e62c720\", \"categories\": [0], \"series\": [{\"data\": [0.9053366833475426]}]}, {\"name\": \"precision_score_weighted\", \"run_id\": \"AutoML_4cd1cc7a-8222-45fe-81c2-518b7e62c720\", \"categories\": [0], \"series\": [{\"data\": [0.8838844330086608]}]}, {\"name\": \"AUC_macro\", \"run_id\": \"AutoML_4cd1cc7a-8222-45fe-81c2-518b7e62c720\", \"categories\": [0], \"series\": [{\"data\": [0.6245011380397539]}]}, {\"name\": \"weighted_accuracy\", \"run_id\": \"AutoML_4cd1cc7a-8222-45fe-81c2-518b7e62c720\", \"categories\": [0], \"series\": [{\"data\": [0.9813178209925848]}]}], \"run_logs\": \"\\nRun is completed.\", \"graph\": {}, \"widget_settings\": {\"childWidgetDisplay\": \"popup\", \"send_telemetry\": false, \"log_level\": \"INFO\", \"sdk_version\": \"1.19.0\"}, \"loading\": false}"
     },
     "metadata": {},
     "output_type": "display_data"
    },
    {
     "name": "stdout",
     "output_type": "stream",
     "text": [
      "\n",
      "Current status: FeaturesGeneration. Generating features for the dataset.\n",
      "Current status: DatasetBalancing. Performing class balancing sweeping\n",
      "Current status: DatasetCrossValidationSplit. Generating individually featurized CV splits.\n",
      "Current status: ModelSelection. Beginning model selection.\n",
      "\n",
      "****************************************************************************************************\n",
      "DATA GUARDRAILS: \n",
      "\n",
      "TYPE:         Class balancing detection\n",
      "STATUS:       ALERTED\n",
      "DESCRIPTION:  To decrease model bias, please cancel the current run and fix balancing problem.\n",
      "              Learn more about imbalanced data: https://aka.ms/AutomatedMLImbalancedData\n",
      "DETAILS:      Imbalanced data can lead to a falsely perceived positive effect of a model's accuracy because the input data has bias towards one class.\n",
      "+---------------------------------+---------------------------------+--------------------------------------+\n",
      "|Size of the smallest class       |Name/Label of the smallest class |Number of samples in the training data|\n",
      "+=================================+=================================+======================================+\n",
      "|405                              |1                                |3346                                  |\n",
      "+---------------------------------+---------------------------------+--------------------------------------+\n",
      "\n",
      "****************************************************************************************************\n",
      "\n",
      "TYPE:         Missing feature values imputation\n",
      "STATUS:       PASSED\n",
      "DESCRIPTION:  No feature missing values were detected in the training data.\n",
      "              Learn more about missing value imputation: https://aka.ms/AutomatedMLFeaturization\n",
      "\n",
      "****************************************************************************************************\n",
      "\n",
      "TYPE:         High cardinality feature detection\n",
      "STATUS:       PASSED\n",
      "DESCRIPTION:  Your inputs were analyzed, and no high cardinality features were detected.\n",
      "              Learn more about high cardinality feature handling: https://aka.ms/AutomatedMLFeaturization\n",
      "\n",
      "****************************************************************************************************\n",
      "\n",
      "****************************************************************************************************\n",
      "ITERATION: The iteration being evaluated.\n",
      "PIPELINE: A summary description of the pipeline being evaluated.\n",
      "DURATION: Time taken for the current iteration.\n",
      "METRIC: The result of computing score on the fitted pipeline.\n",
      "BEST: The best observed score thus far.\n",
      "****************************************************************************************************\n",
      "\n",
      " ITERATION   PIPELINE                                       DURATION      METRIC      BEST\n",
      "         3   MaxAbsScaler RandomForest                      0:00:48       0.8790    0.8790\n",
      "         4   MaxAbsScaler RandomForest                      0:00:50       0.6590    0.8790\n",
      "         0   MaxAbsScaler LightGBM                          0:00:50       0.8724    0.8790\n",
      "         2   MaxAbsScaler RandomForest                      0:00:49       0.8790    0.8790\n",
      "         8   SparseNormalizer XGBoostClassifier             0:00:54       0.8763    0.8790\n",
      "         9   MaxAbsScaler LightGBM                          0:00:47       0.8790    0.8790\n",
      "         1   MaxAbsScaler XGBoostClassifier                 0:03:20       0.8799    0.8799\n",
      "         7   SparseNormalizer XGBoostClassifier             0:03:21       0.8778    0.8799\n",
      "         5   MaxAbsScaler RandomForest                      0:03:27       0.6432    0.8799\n",
      "        10   MaxAbsScaler RandomForest                      0:00:52       0.8790    0.8799\n",
      "         6   StandardScalerWrapper LightGBM                 0:03:49       0.8790    0.8799\n",
      "        11   StandardScalerWrapper RandomForest             0:00:55       0.8790    0.8799\n",
      "        12   SparseNormalizer RandomForest                  0:00:49       0.8790    0.8799\n",
      "        13   MaxAbsScaler LogisticRegression                0:00:46       0.8793    0.8799\n",
      "        14   MaxAbsScaler LightGBM                          0:00:47       0.8790    0.8799\n",
      "        15   SparseNormalizer XGBoostClassifier             0:00:48       0.8811    0.8811\n",
      "        16   StandardScalerWrapper LightGBM                 0:00:52       0.8790    0.8811\n",
      "        17   SparseNormalizer LightGBM                      0:00:45       0.8790    0.8811\n",
      "        18   StandardScalerWrapper ExtremeRandomTrees       0:00:47       0.8790    0.8811\n",
      "        19   MaxAbsScaler ExtremeRandomTrees                0:00:52       0.8790    0.8811\n",
      "        20   StandardScalerWrapper LightGBM                 0:00:43       0.8790    0.8811\n",
      "        21   SparseNormalizer XGBoostClassifier             0:00:46       0.8748    0.8811\n",
      "        22   SparseNormalizer XGBoostClassifier             0:00:52       0.8816    0.8816\n",
      "        23   SparseNormalizer LightGBM                      0:00:53       0.8790    0.8816\n",
      "        24   MaxAbsScaler LightGBM                          0:00:46       0.8790    0.8816\n",
      "        26   SparseNormalizer LightGBM                      0:00:43       0.8790    0.8816\n",
      "        25   SparseNormalizer XGBoostClassifier             0:01:23       0.8790    0.8816\n",
      "        27   SparseNormalizer ExtremeRandomTrees            0:00:50       0.6626    0.8816\n",
      "        29   StandardScalerWrapper LightGBM                 0:00:44       0.8790    0.8816\n",
      "        28   StandardScalerWrapper LightGBM                 0:01:01       0.8790    0.8816\n",
      "        30   SparseNormalizer XGBoostClassifier             0:00:45       0.8790    0.8816\n",
      "        31   SparseNormalizer LightGBM                      0:00:50       0.8790    0.8816\n",
      "        34   StandardScalerWrapper LightGBM                 0:00:40       0.8790    0.8816\n",
      "        33   MaxAbsScaler LightGBM                          0:01:14       0.8790    0.8816\n",
      "        32   StandardScalerWrapper XGBoostClassifier        0:01:28       0.8790    0.8816\n",
      "        35   StandardScalerWrapper XGBoostClassifier        0:00:53       0.8790    0.8816\n",
      "        36   MaxAbsScaler GradientBoosting                  0:00:52       0.8790    0.8816\n",
      "        37   StandardScalerWrapper LightGBM                 0:00:51       0.8790    0.8816\n",
      "        38   StandardScalerWrapper LightGBM                 0:00:45       0.8790    0.8816\n",
      "        39   StandardScalerWrapper LightGBM                 0:00:46       0.8790    0.8816\n",
      "        40   StandardScalerWrapper XGBoostClassifier        0:00:53       0.8790    0.8816\n",
      "        41   MaxAbsScaler LightGBM                          0:00:52       0.8790    0.8816\n",
      "        42   SparseNormalizer XGBoostClassifier             0:00:48       0.8811    0.8816\n",
      "        43   StandardScalerWrapper ExtremeRandomTrees       0:00:46       0.8790    0.8816\n",
      "        44   StandardScalerWrapper XGBoostClassifier        0:00:52       0.8589    0.8816\n",
      "        45   SparseNormalizer XGBoostClassifier             0:00:46       0.8790    0.8816\n",
      "        46   StandardScalerWrapper XGBoostClassifier        0:01:03       0.8574    0.8816\n",
      "        47   StandardScalerWrapper XGBoostClassifier        0:01:01       0.8554    0.8816\n",
      "        48   StandardScalerWrapper XGBoostClassifier        0:00:56       0.8592    0.8816\n",
      "        49   SparseNormalizer LightGBM                      0:00:45       0.8793    0.8816\n",
      "        50   TruncatedSVDWrapper XGBoostClassifier          0:00:52       0.8790    0.8816\n",
      "        52   StandardScalerWrapper ExtremeRandomTrees       0:00:47       0.8790    0.8816\n",
      "        51   StandardScalerWrapper XGBoostClassifier        0:01:01       0.8790    0.8816\n",
      "        53   SparseNormalizer LightGBM                      0:00:43       0.8790    0.8816\n",
      "        54   MaxAbsScaler LightGBM                          0:00:45       0.8790    0.8816\n",
      "        55   StandardScalerWrapper XGBoostClassifier        0:00:46       0.8790    0.8816\n",
      "        56   MaxAbsScaler LightGBM                          0:00:50       0.8790    0.8816\n",
      "        57   StandardScalerWrapper LightGBM                 0:00:48       0.8790    0.8816\n",
      "        58   StandardScalerWrapper XGBoostClassifier        0:00:50       0.8787    0.8816\n",
      "        59   SparseNormalizer XGBoostClassifier             0:00:46       0.8790    0.8816\n"
     ]
    },
    {
     "name": "stdout",
     "output_type": "stream",
     "text": [
      "        60   StandardScalerWrapper XGBoostClassifier        0:00:49       0.8790    0.8816\n",
      "        61   MaxAbsScaler LightGBM                          0:00:50       0.8790    0.8816\n",
      "        62   StandardScalerWrapper XGBoostClassifier        0:00:47       0.8787    0.8816\n",
      "        63   SparseNormalizer LightGBM                      0:00:49       0.8790    0.8816\n",
      "        64   StandardScalerWrapper LightGBM                 0:01:01       0.8790    0.8816\n",
      "        65   SparseNormalizer XGBoostClassifier             0:00:46       0.8790    0.8816\n",
      "        66   SparseNormalizer XGBoostClassifier             0:00:51       0.8790    0.8816\n",
      "        67   MaxAbsScaler LightGBM                          0:00:55       0.8790    0.8816\n",
      "        68   SparseNormalizer LightGBM                      0:00:47       0.8790    0.8816\n",
      "        69   StandardScalerWrapper LightGBM                 0:00:36       0.8790    0.8816\n",
      "        70   StandardScalerWrapper XGBoostClassifier        0:00:31       0.8790    0.8816\n",
      "        71    VotingEnsemble                                0:01:46       0.8825    0.8825\n",
      "        72    StackEnsemble                                 0:01:46       0.8816    0.8825\n"
     ]
    },
    {
     "data": {
      "text/plain": [
       "{'runId': 'AutoML_4cd1cc7a-8222-45fe-81c2-518b7e62c720',\n",
       " 'target': 'ccp03aml',\n",
       " 'status': 'Completed',\n",
       " 'startTimeUtc': '2021-01-23T18:50:27.824415Z',\n",
       " 'endTimeUtc': '2021-01-23T19:21:45.479675Z',\n",
       " 'properties': {'num_iterations': '1000',\n",
       "  'training_type': 'TrainFull',\n",
       "  'acquisition_function': 'EI',\n",
       "  'primary_metric': 'accuracy',\n",
       "  'train_split': '0',\n",
       "  'acquisition_parameter': '0',\n",
       "  'num_cross_validation': '5',\n",
       "  'target': 'ccp03aml',\n",
       "  'AMLSettingsJsonString': '{\"path\":null,\"name\":\"expp03ht\",\"subscription_id\":\"aa7cf8e8-d23f-4bce-a7b9-1f0b4e0ac8ee\",\"resource_group\":\"aml-quickstarts-135796\",\"workspace_name\":\"quick-starts-ws-135796\",\"region\":\"southcentralus\",\"compute_target\":\"ccp03aml\",\"spark_service\":null,\"azure_service\":\"remote\",\"many_models\":false,\"pipeline_fetch_max_batch_size\":1,\"iterations\":1000,\"primary_metric\":\"accuracy\",\"task_type\":\"classification\",\"data_script\":null,\"validation_size\":0.0,\"n_cross_validations\":5,\"y_min\":null,\"y_max\":null,\"num_classes\":null,\"featurization\":\"auto\",\"_ignore_package_version_incompatibilities\":false,\"is_timeseries\":false,\"max_cores_per_iteration\":1,\"max_concurrent_iterations\":5,\"iteration_timeout_minutes\":null,\"mem_in_mb\":null,\"enforce_time_on_windows\":false,\"experiment_timeout_minutes\":20,\"experiment_exit_score\":null,\"whitelist_models\":null,\"blacklist_algos\":[\"TensorFlowLinearClassifier\",\"TensorFlowDNN\"],\"supported_models\":[\"MultinomialNaiveBayes\",\"XGBoostClassifier\",\"SGD\",\"ExtremeRandomTrees\",\"AveragedPerceptronClassifier\",\"TensorFlowLinearClassifier\",\"RandomForest\",\"LinearSVM\",\"SVM\",\"LightGBM\",\"DecisionTree\",\"KNN\",\"GradientBoosting\",\"LogisticRegression\",\"TensorFlowDNN\",\"BernoulliNaiveBayes\"],\"auto_blacklist\":true,\"blacklist_samples_reached\":false,\"exclude_nan_labels\":true,\"verbosity\":20,\"_debug_log\":\"azureml_automl.log\",\"show_warnings\":false,\"model_explainability\":true,\"service_url\":null,\"sdk_url\":null,\"sdk_packages\":null,\"enable_onnx_compatible_models\":false,\"enable_split_onnx_featurizer_estimator_models\":false,\"vm_type\":\"STANDARD_D2_V2\",\"telemetry_verbosity\":20,\"send_telemetry\":true,\"enable_dnn\":false,\"scenario\":\"SDK-1.13.0\",\"environment_label\":null,\"force_text_dnn\":false,\"enable_feature_sweeping\":true,\"enable_early_stopping\":false,\"early_stopping_n_iters\":10,\"metrics\":null,\"enable_ensembling\":true,\"enable_stack_ensembling\":true,\"ensemble_iterations\":15,\"enable_tf\":false,\"enable_subsampling\":null,\"subsample_seed\":null,\"enable_nimbusml\":false,\"enable_streaming\":false,\"force_streaming\":false,\"track_child_runs\":true,\"allowed_private_models\":[],\"label_column_name\":\"sexo\",\"weight_column_name\":null,\"cv_split_column_names\":null,\"enable_local_managed\":false,\"_local_managed_run_id\":null,\"cost_mode\":1,\"lag_length\":0,\"metric_operation\":\"maximize\",\"preprocess\":true}',\n",
       "  'DataPrepJsonString': '{\\\\\"training_data\\\\\": \\\\\"{\\\\\\\\\\\\\"blocks\\\\\\\\\\\\\": [{\\\\\\\\\\\\\"id\\\\\\\\\\\\\": \\\\\\\\\\\\\"7e807f97-973b-48bc-beeb-0cd67d8e8168\\\\\\\\\\\\\", \\\\\\\\\\\\\"type\\\\\\\\\\\\\": \\\\\\\\\\\\\"Microsoft.DPrep.GetFilesBlock\\\\\\\\\\\\\", \\\\\\\\\\\\\"arguments\\\\\\\\\\\\\": {\\\\\\\\\\\\\"isArchive\\\\\\\\\\\\\": false, \\\\\\\\\\\\\"path\\\\\\\\\\\\\": {\\\\\\\\\\\\\"target\\\\\\\\\\\\\": 4, \\\\\\\\\\\\\"resourceDetails\\\\\\\\\\\\\": [{\\\\\\\\\\\\\"path\\\\\\\\\\\\\": \\\\\\\\\\\\\"https://raw.githubusercontent.com/hftamayo/azuremlproj03/main/cad2018.csv\\\\\\\\\\\\\"}]}}, \\\\\\\\\\\\\"localData\\\\\\\\\\\\\": {}, \\\\\\\\\\\\\"isEnabled\\\\\\\\\\\\\": true, \\\\\\\\\\\\\"name\\\\\\\\\\\\\": null, \\\\\\\\\\\\\"annotation\\\\\\\\\\\\\": null}, {\\\\\\\\\\\\\"id\\\\\\\\\\\\\": \\\\\\\\\\\\\"e76a4dbb-ee24-4d3e-85bb-0dca6ee574b0\\\\\\\\\\\\\", \\\\\\\\\\\\\"type\\\\\\\\\\\\\": \\\\\\\\\\\\\"Microsoft.DPrep.ParseDelimitedBlock\\\\\\\\\\\\\", \\\\\\\\\\\\\"arguments\\\\\\\\\\\\\": {\\\\\\\\\\\\\"columnHeadersMode\\\\\\\\\\\\\": 3, \\\\\\\\\\\\\"fileEncoding\\\\\\\\\\\\\": 0, \\\\\\\\\\\\\"handleQuotedLineBreaks\\\\\\\\\\\\\": false, \\\\\\\\\\\\\"preview\\\\\\\\\\\\\": false, \\\\\\\\\\\\\"separator\\\\\\\\\\\\\": \\\\\\\\\\\\\",\\\\\\\\\\\\\", \\\\\\\\\\\\\"skipRows\\\\\\\\\\\\\": 0, \\\\\\\\\\\\\"skipRowsMode\\\\\\\\\\\\\": 0}, \\\\\\\\\\\\\"localData\\\\\\\\\\\\\": {}, \\\\\\\\\\\\\"isEnabled\\\\\\\\\\\\\": true, \\\\\\\\\\\\\"name\\\\\\\\\\\\\": null, \\\\\\\\\\\\\"annotation\\\\\\\\\\\\\": null}, {\\\\\\\\\\\\\"id\\\\\\\\\\\\\": \\\\\\\\\\\\\"3318b9b9-0f40-43cb-9638-5b83dfe8b1ac\\\\\\\\\\\\\", \\\\\\\\\\\\\"type\\\\\\\\\\\\\": \\\\\\\\\\\\\"Microsoft.DPrep.DropColumnsBlock\\\\\\\\\\\\\", \\\\\\\\\\\\\"arguments\\\\\\\\\\\\\": {\\\\\\\\\\\\\"columns\\\\\\\\\\\\\": {\\\\\\\\\\\\\"type\\\\\\\\\\\\\": 0, \\\\\\\\\\\\\"details\\\\\\\\\\\\\": {\\\\\\\\\\\\\"selectedColumns\\\\\\\\\\\\\": [\\\\\\\\\\\\\"Path\\\\\\\\\\\\\"]}}}, \\\\\\\\\\\\\"localData\\\\\\\\\\\\\": {}, \\\\\\\\\\\\\"isEnabled\\\\\\\\\\\\\": true, \\\\\\\\\\\\\"name\\\\\\\\\\\\\": null, \\\\\\\\\\\\\"annotation\\\\\\\\\\\\\": null}, {\\\\\\\\\\\\\"id\\\\\\\\\\\\\": \\\\\\\\\\\\\"696ad408-1c2f-413c-b185-7b7a6c6d947f\\\\\\\\\\\\\", \\\\\\\\\\\\\"type\\\\\\\\\\\\\": \\\\\\\\\\\\\"Microsoft.DPrep.SetColumnTypesBlock\\\\\\\\\\\\\", \\\\\\\\\\\\\"arguments\\\\\\\\\\\\\": {\\\\\\\\\\\\\"columnConversion\\\\\\\\\\\\\": [{\\\\\\\\\\\\\"column\\\\\\\\\\\\\": {\\\\\\\\\\\\\"type\\\\\\\\\\\\\": 2, \\\\\\\\\\\\\"details\\\\\\\\\\\\\": {\\\\\\\\\\\\\"selectedColumn\\\\\\\\\\\\\": \\\\\\\\\\\\\"id\\\\\\\\\\\\\"}}, \\\\\\\\\\\\\"typeProperty\\\\\\\\\\\\\": 2}, {\\\\\\\\\\\\\"column\\\\\\\\\\\\\": {\\\\\\\\\\\\\"type\\\\\\\\\\\\\": 2, \\\\\\\\\\\\\"details\\\\\\\\\\\\\": {\\\\\\\\\\\\\"selectedColumn\\\\\\\\\\\\\": \\\\\\\\\\\\\"regfalle\\\\\\\\\\\\\"}}, \\\\\\\\\\\\\"typeProperty\\\\\\\\\\\\\": 2}, {\\\\\\\\\\\\\"column\\\\\\\\\\\\\": {\\\\\\\\\\\\\"type\\\\\\\\\\\\\": 2, \\\\\\\\\\\\\"details\\\\\\\\\\\\\": {\\\\\\\\\\\\\"selectedColumn\\\\\\\\\\\\\": \\\\\\\\\\\\\"edad\\\\\\\\\\\\\"}}, \\\\\\\\\\\\\"typeProperty\\\\\\\\\\\\\": 2}, {\\\\\\\\\\\\\"column\\\\\\\\\\\\\": {\\\\\\\\\\\\\"type\\\\\\\\\\\\\": 2, \\\\\\\\\\\\\"details\\\\\\\\\\\\\": {\\\\\\\\\\\\\"selectedColumn\\\\\\\\\\\\\": \\\\\\\\\\\\\"sexo\\\\\\\\\\\\\"}}, \\\\\\\\\\\\\"typeProperty\\\\\\\\\\\\\": 2}, {\\\\\\\\\\\\\"column\\\\\\\\\\\\\": {\\\\\\\\\\\\\"type\\\\\\\\\\\\\": 2, \\\\\\\\\\\\\"details\\\\\\\\\\\\\": {\\\\\\\\\\\\\"selectedColumn\\\\\\\\\\\\\": \\\\\\\\\\\\\"deptoocuhe\\\\\\\\\\\\\"}}, \\\\\\\\\\\\\"typeProperty\\\\\\\\\\\\\": 2}, {\\\\\\\\\\\\\"column\\\\\\\\\\\\\": {\\\\\\\\\\\\\"type\\\\\\\\\\\\\": 2, \\\\\\\\\\\\\"details\\\\\\\\\\\\\": {\\\\\\\\\\\\\"selectedColumn\\\\\\\\\\\\\": \\\\\\\\\\\\\"tipoarma\\\\\\\\\\\\\"}}, \\\\\\\\\\\\\"typeProperty\\\\\\\\\\\\\": 2}, {\\\\\\\\\\\\\"column\\\\\\\\\\\\\": {\\\\\\\\\\\\\"type\\\\\\\\\\\\\": 2, \\\\\\\\\\\\\"details\\\\\\\\\\\\\": {\\\\\\\\\\\\\"selectedColumn\\\\\\\\\\\\\": \\\\\\\\\\\\\"pracaut\\\\\\\\\\\\\"}}, \\\\\\\\\\\\\"typeProperty\\\\\\\\\\\\\": 2}]}, \\\\\\\\\\\\\"localData\\\\\\\\\\\\\": {}, \\\\\\\\\\\\\"isEnabled\\\\\\\\\\\\\": true, \\\\\\\\\\\\\"name\\\\\\\\\\\\\": null, \\\\\\\\\\\\\"annotation\\\\\\\\\\\\\": null}], \\\\\\\\\\\\\"inspectors\\\\\\\\\\\\\": [], \\\\\\\\\\\\\"meta\\\\\\\\\\\\\": {\\\\\\\\\\\\\"savedDatasetId\\\\\\\\\\\\\": \\\\\\\\\\\\\"905ddc3d-b515-4ddb-905e-db73d2ca3322\\\\\\\\\\\\\", \\\\\\\\\\\\\"datasetType\\\\\\\\\\\\\": \\\\\\\\\\\\\"tabular\\\\\\\\\\\\\", \\\\\\\\\\\\\"subscriptionId\\\\\\\\\\\\\": \\\\\\\\\\\\\"aa7cf8e8-d23f-4bce-a7b9-1f0b4e0ac8ee\\\\\\\\\\\\\", \\\\\\\\\\\\\"workspaceId\\\\\\\\\\\\\": \\\\\\\\\\\\\"9bb8d940-5868-4481-ba3b-9a38247970a5\\\\\\\\\\\\\", \\\\\\\\\\\\\"workspaceLocation\\\\\\\\\\\\\": \\\\\\\\\\\\\"southcentralus\\\\\\\\\\\\\"}}\\\\\", \\\\\"activities\\\\\": 0}',\n",
       "  'EnableSubsampling': None,\n",
       "  'runTemplate': 'AutoML',\n",
       "  'azureml.runsource': 'automl',\n",
       "  'display_task_type': 'classification',\n",
       "  'dependencies_versions': '{\"azureml-widgets\": \"1.19.0\", \"azureml-train\": \"1.19.0\", \"azureml-train-restclients-hyperdrive\": \"1.19.0\", \"azureml-train-core\": \"1.19.0\", \"azureml-train-automl\": \"1.19.0\", \"azureml-train-automl-runtime\": \"1.19.0\", \"azureml-train-automl-client\": \"1.19.0\", \"azureml-tensorboard\": \"1.19.0\", \"azureml-telemetry\": \"1.19.0\", \"azureml-sdk\": \"1.19.0\", \"azureml-samples\": \"0+unknown\", \"azureml-pipeline\": \"1.19.0\", \"azureml-pipeline-steps\": \"1.19.0\", \"azureml-pipeline-core\": \"1.19.0\", \"azureml-opendatasets\": \"1.19.0\", \"azureml-model-management-sdk\": \"1.0.1b6.post1\", \"azureml-mlflow\": \"1.19.0\", \"azureml-interpret\": \"1.19.0\", \"azureml-explain-model\": \"1.19.0\", \"azureml-defaults\": \"1.19.0\", \"azureml-dataset-runtime\": \"1.19.0.post1\", \"azureml-dataprep\": \"2.6.1\", \"azureml-dataprep-rslex\": \"1.4.0\", \"azureml-dataprep-native\": \"26.0.0\", \"azureml-datadrift\": \"1.19.0\", \"azureml-core\": \"1.19.0\", \"azureml-contrib-services\": \"1.19.0\", \"azureml-contrib-server\": \"1.19.0\", \"azureml-contrib-reinforcementlearning\": \"1.19.0\", \"azureml-contrib-pipeline-steps\": \"1.19.0\", \"azureml-contrib-notebook\": \"1.19.0\", \"azureml-contrib-interpret\": \"1.19.0\", \"azureml-contrib-gbdt\": \"1.19.0\", \"azureml-contrib-fairness\": \"1.19.0\", \"azureml-contrib-dataset\": \"1.19.0\", \"azureml-cli-common\": \"1.19.0\", \"azureml-automl-runtime\": \"1.19.0\", \"azureml-automl-core\": \"1.19.0\", \"azureml-accel-models\": \"1.19.0\"}',\n",
       "  '_aml_system_scenario_identification': 'Remote.Parent',\n",
       "  'ClientType': 'SDK',\n",
       "  'environment_cpu_name': 'AzureML-AutoML',\n",
       "  'environment_cpu_label': 'prod',\n",
       "  'environment_gpu_name': 'AzureML-AutoML-GPU',\n",
       "  'environment_gpu_label': 'prod',\n",
       "  'root_attribution': 'automl',\n",
       "  'attribution': 'AutoML',\n",
       "  'Orchestrator': 'AutoML',\n",
       "  'CancelUri': 'https://southcentralus.experiments.azureml.net/jasmine/v1.0/subscriptions/aa7cf8e8-d23f-4bce-a7b9-1f0b4e0ac8ee/resourceGroups/aml-quickstarts-135796/providers/Microsoft.MachineLearningServices/workspaces/quick-starts-ws-135796/experimentids/f93c84ed-ce2b-4572-b414-b43e423486b6/cancel/AutoML_4cd1cc7a-8222-45fe-81c2-518b7e62c720',\n",
       "  'ClientSdkVersion': '1.20.0',\n",
       "  'snapshotId': '00000000-0000-0000-0000-000000000000',\n",
       "  'SetupRunId': 'AutoML_4cd1cc7a-8222-45fe-81c2-518b7e62c720_setup',\n",
       "  'SetupRunContainerId': 'dcid.AutoML_4cd1cc7a-8222-45fe-81c2-518b7e62c720_setup',\n",
       "  'FeaturizationRunJsonPath': 'featurizer_container.json',\n",
       "  'FeaturizationRunId': 'AutoML_4cd1cc7a-8222-45fe-81c2-518b7e62c720_featurize',\n",
       "  'ProblemInfoJsonString': '{\"dataset_num_categorical\": 0, \"is_sparse\": true, \"subsampling\": false, \"dataset_classes\": 2, \"dataset_features\": 34, \"dataset_samples\": 3346, \"single_frequency_class_detected\": false}',\n",
       "  'ModelExplainRunId': 'AutoML_4cd1cc7a-8222-45fe-81c2-518b7e62c720_ModelExplain'},\n",
       " 'inputDatasets': [{'dataset': {'id': '905ddc3d-b515-4ddb-905e-db73d2ca3322'}, 'consumptionDetails': {'type': 'RunInput', 'inputName': 'training_data', 'mechanism': 'Direct'}}],\n",
       " 'outputDatasets': [],\n",
       " 'logFiles': {}}"
      ]
     },
     "execution_count": 31,
     "metadata": {},
     "output_type": "execute_result"
    }
   ],
   "source": [
    "RunDetails(exprun).show()\n",
    "exprun.wait_for_completion(show_output=True)"
   ]
  },
  {
   "cell_type": "markdown",
   "metadata": {},
   "source": [
    "## Best Model\n",
    "\n",
    "TODO: In the cell below, get the best model from the automl experiments and display all the properties of the model.\n",
    "\n"
   ]
  },
  {
   "cell_type": "code",
   "execution_count": 32,
   "metadata": {
    "gather": {
     "logged": 1598431425670
    },
    "jupyter": {
     "outputs_hidden": false,
     "source_hidden": false
    },
    "nteract": {
     "transient": {
      "deleting": false
     }
    },
    "scrolled": true
   },
   "outputs": [
    {
     "name": "stderr",
     "output_type": "stream",
     "text": [
      "WARNING:root:The version of the SDK does not match the version the model was trained on.\n",
      "WARNING:root:The consistency in the result may not be guaranteed.\n",
      "WARNING:root:Package:azureml-automl-core, training version:1.20.0, current version:1.19.0\n",
      "Package:azureml-automl-runtime, training version:1.20.0, current version:1.19.0\n",
      "Package:azureml-core, training version:1.20.0, current version:1.19.0\n",
      "Package:azureml-dataprep, training version:2.7.2, current version:2.6.1\n",
      "Package:azureml-dataprep-native, training version:27.0.0, current version:26.0.0\n",
      "Package:azureml-dataprep-rslex, training version:1.5.0, current version:1.4.0\n",
      "Package:azureml-dataset-runtime, training version:1.20.0, current version:1.19.0.post1\n",
      "Package:azureml-defaults, training version:1.20.0, current version:1.19.0\n",
      "Package:azureml-interpret, training version:1.20.0, current version:1.19.0\n",
      "Package:azureml-pipeline-core, training version:1.20.0, current version:1.19.0\n",
      "Package:azureml-telemetry, training version:1.20.0, current version:1.19.0\n",
      "Package:azureml-train-automl-client, training version:1.20.0, current version:1.19.0\n",
      "Package:azureml-train-automl-runtime, training version:1.20.0, current version:1.19.0\n",
      "WARNING:root:Please ensure the version of your local conda dependencies match the version on which your model was trained in order to properly retrieve your model.\n"
     ]
    },
    {
     "name": "stdout",
     "output_type": "stream",
     "text": [
      "Run(Experiment: expp03ht,\n",
      "Id: AutoML_4cd1cc7a-8222-45fe-81c2-518b7e62c720_71,\n",
      "Type: azureml.scriptrun,\n",
      "Status: Completed)\n",
      "precision_score_weighted 0.8838844330086608\n",
      "weighted_accuracy 0.9813178209925848\n",
      "recall_score_weighted 0.882545568123508\n",
      "log_loss 0.35715977668467025\n",
      "average_precision_score_micro 0.8885182477326646\n",
      "f1_score_micro 0.882545568123508\n",
      "AUC_macro 0.6245011380397539\n",
      "average_precision_score_macro 0.5703630529572051\n",
      "accuracy 0.882545568123508\n",
      "f1_score_weighted 0.8318511379493969\n",
      "f1_score_macro 0.502185249674696\n",
      "precision_score_macro 0.887964234405165\n",
      "AUC_weighted 0.6245011380397539\n",
      "norm_macro_recall 0.0345564744533132\n",
      "AUC_micro 0.9053366833475426\n",
      "recall_score_micro 0.882545568123508\n",
      "balanced_accuracy 0.5172782372266566\n",
      "recall_score_macro 0.5172782372266566\n",
      "precision_score_micro 0.882545568123508\n",
      "average_precision_score_weighted 0.831132124016438\n",
      "matthews_correlation 0.156669990924085\n",
      "accuracy_table aml://artifactId/ExperimentRun/dcid.AutoML_4cd1cc7a-8222-45fe-81c2-518b7e62c720_71/accuracy_table\n",
      "confusion_matrix aml://artifactId/ExperimentRun/dcid.AutoML_4cd1cc7a-8222-45fe-81c2-518b7e62c720_71/confusion_matrix\n"
     ]
    }
   ],
   "source": [
    "#import azureml.train.automl\n",
    "# obtaining best run and fitted model\n",
    "brmodel, fmodel = exprun.get_output()\n",
    "\n",
    "# Print the best run\n",
    "print(brmodel)\n",
    "\n",
    "# Get all metrics of the best run model\n",
    "brmetrics = brmodel.get_metrics()\n",
    "\n",
    "# Print all metrics of the best run model\n",
    "for metric_name in brmetrics:\n",
    "    metric = brmetrics[metric_name]\n",
    "    print(metric_name, metric)\n",
    "    "
   ]
  },
  {
   "cell_type": "code",
   "execution_count": 33,
   "metadata": {},
   "outputs": [
    {
     "data": {
      "text/plain": [
       "['model.pkl']"
      ]
     },
     "execution_count": 33,
     "metadata": {},
     "output_type": "execute_result"
    }
   ],
   "source": [
    "import joblib\n",
    "joblib.dump(value=fmodel, filename='model.pkl')"
   ]
  },
  {
   "cell_type": "code",
   "execution_count": 35,
   "metadata": {
    "scrolled": true
   },
   "outputs": [
    {
     "name": "stdout",
     "output_type": "stream",
     "text": [
      "Model(workspace=Workspace.create(name='quick-starts-ws-135796', subscription_id='aa7cf8e8-d23f-4bce-a7b9-1f0b4e0ac8ee', resource_group='aml-quickstarts-135796'), name=p3automl_ht, id=p3automl_ht:3, version=3, tags={'Method of execution': 'Auto ML'}, properties={'Accuracy': '0.882545568123508'})\n"
     ]
    }
   ],
   "source": [
    "#TODO: Save the best model\n",
    "autobmlp3ht = brmodel.register_model(model_path='outputs/model.pkl', model_name='p3automl_ht',\n",
    "                        tags={'Method of execution':'Auto ML'},\n",
    "                        properties={'Accuracy': brmetrics['accuracy']})\n",
    "\n",
    "print(autobmlp3ht)"
   ]
  },
  {
   "cell_type": "markdown",
   "metadata": {},
   "source": [
    "## Model Deployment\n",
    "\n",
    "Remember you have to deploy only one of the two models you trained.. Perform the steps in the rest of this notebook only if you wish to deploy this model.\n",
    "\n",
    "TODO: In the cell below, register the model, create an inference config and deploy the model as a web service."
   ]
  },
  {
   "cell_type": "code",
   "execution_count": 36,
   "metadata": {},
   "outputs": [],
   "source": [
    "# Download scoring file \n",
    "brmodel.download_file('outputs/scoring_file_v_1_0_0.py', 'scoring.py')\n",
    "\n",
    "# Download environment file\n",
    "brmodel.download_file('outputs/conda_env_v_1_0_0.yml', 'enviro.yml')"
   ]
  },
  {
   "cell_type": "code",
   "execution_count": 37,
   "metadata": {},
   "outputs": [
    {
     "name": "stdout",
     "output_type": "stream",
     "text": [
      "Tips: You can try get_logs(): https://aka.ms/debugimage#dockerlog or local deployment: https://aka.ms/debugimage#debug-locally to debug if deployment takes longer than 10 minutes.\n",
      "Running............................................\n",
      "Succeeded\n",
      "ACI service creation operation finished, operation \"Succeeded\"\n",
      "Healthy\n",
      "http://b1be3db3-8fa5-43ca-a6fe-a6b74b0e3e45.southcentralus.azurecontainer.io/score\n",
      "http://b1be3db3-8fa5-43ca-a6fe-a6b74b0e3e45.southcentralus.azurecontainer.io/swagger.json\n"
     ]
    }
   ],
   "source": [
    "from azureml.core.environment import Environment\n",
    "from azureml.core.model import InferenceConfig\n",
    "\n",
    "infcfg = InferenceConfig(entry_script='scoring.py',\n",
    "                                    environment=Environment.from_conda_specification(name='myenv',file_path='enviro.yml'))\n",
    "\n",
    "# deploying the model via WebService\n",
    "from azureml.core.webservice import AciWebservice\n",
    "\n",
    "depcfg = AciWebservice.deploy_configuration(cpu_cores = 1, memory_gb = 1)\n",
    "webservice = Model.deploy(ws, \"wsp03ht01\", [autobmlp3ht], infcfg, depcfg)\n",
    "webservice.wait_for_deployment(show_output = True)\n",
    "print(webservice.state)\n",
    "\n",
    "print(webservice.scoring_uri)\n",
    "\n",
    "print(webservice.swagger_uri)"
   ]
  },
  {
   "cell_type": "code",
   "execution_count": 58,
   "metadata": {
    "scrolled": false
   },
   "outputs": [
    {
     "name": "stdout",
     "output_type": "stream",
     "text": [
      "{\"data\": [{\"id\": 3017, \"regfalle\": 18870, \"edad\": 38, \"deptoocuhe\": 9, \"tipoarma\": 1, \"pracaut\": 1}, {\"id\": 791, \"regfalle\": 19210, \"edad\": 74, \"deptoocuhe\": 6, \"tipoarma\": 1, \"pracaut\": 0}, {\"id\": 2311, \"regfalle\": 23051, \"edad\": 30, \"deptoocuhe\": 11, \"tipoarma\": 9, \"pracaut\": 1}, {\"id\": 1280, \"regfalle\": 21746, \"edad\": 20, \"deptoocuhe\": 2, \"tipoarma\": 9, \"pracaut\": 1}, {\"id\": 1042, \"regfalle\": 21711, \"edad\": 39, \"deptoocuhe\": 4, \"tipoarma\": 1, \"pracaut\": 0}, {\"id\": 2503, \"regfalle\": 24465, \"edad\": 44, \"deptoocuhe\": 8, \"tipoarma\": 1, \"pracaut\": 1}, {\"id\": 3001, \"regfalle\": 22176, \"edad\": 25, \"deptoocuhe\": 8, \"tipoarma\": 1, \"pracaut\": 1}, {\"id\": 838, \"regfalle\": 20172, \"edad\": 25, \"deptoocuhe\": 6, \"tipoarma\": 1, \"pracaut\": 0}, {\"id\": 302, \"regfalle\": 21003, \"edad\": 36, \"deptoocuhe\": 11, \"tipoarma\": 13, \"pracaut\": 1}, {\"id\": 481, \"regfalle\": 20327, \"edad\": 18, \"deptoocuhe\": 6, \"tipoarma\": 2, \"pracaut\": 1}]}\n"
     ]
    }
   ],
   "source": [
    "import json\n",
    "\n",
    "#Importing the data set for testing \n",
    "tsthomic2018 = pdhomic2018.sample(10) \n",
    "lblhomic2018 = tsthomic2018.pop('sexo')\n",
    "\n",
    "tstdatahomic2018 = json.dumps({'data': tsthomic2018.to_dict(orient='records')})\n",
    "\n",
    "print(tstdatahomic2018)"
   ]
  },
  {
   "cell_type": "markdown",
   "metadata": {
    "collapsed": true,
    "gather": {
     "logged": 1598431657736
    },
    "jupyter": {
     "outputs_hidden": false,
     "source_hidden": false
    },
    "nteract": {
     "transient": {
      "deleting": false
     }
    }
   },
   "source": [
    "TODO: In the cell below, send a request to the web service you deployed to test it."
   ]
  },
  {
   "cell_type": "code",
   "execution_count": 59,
   "metadata": {},
   "outputs": [],
   "source": [
    "import requests\n",
    "\n",
    "headers = {'Content-type': 'application/json'}\n",
    "\n",
    "response = requests.post(webservice.scoring_uri, tstdatahomic2018, headers=headers)"
   ]
  },
  {
   "cell_type": "code",
   "execution_count": 60,
   "metadata": {},
   "outputs": [
    {
     "name": "stdout",
     "output_type": "stream",
     "text": [
      "\"{\\\"result\\\": [0, 0, 0, 0, 0, 0, 0, 0, 0, 0]}\"\n"
     ]
    }
   ],
   "source": [
    "# Print results from the inference\n",
    "print(response.text)"
   ]
  },
  {
   "cell_type": "code",
   "execution_count": 61,
   "metadata": {
    "scrolled": false
   },
   "outputs": [
    {
     "name": "stdout",
     "output_type": "stream",
     "text": [
      "3016    0\n",
      "790     1\n",
      "2310    1\n",
      "1279    0\n",
      "1041    0\n",
      "2502    0\n",
      "3000    0\n",
      "837     0\n",
      "301     0\n",
      "480     1\n",
      "Name: sexo, dtype: int64\n"
     ]
    }
   ],
   "source": [
    "# Print original labels\n",
    "print(lblhomic2018)"
   ]
  },
  {
   "cell_type": "markdown",
   "metadata": {
    "collapsed": true,
    "gather": {
     "logged": 1598432765711
    },
    "jupyter": {
     "outputs_hidden": false,
     "source_hidden": false
    },
    "nteract": {
     "transient": {
      "deleting": false
     }
    }
   },
   "source": [
    "TODO: In the cell below, print the logs of the web service and delete the service"
   ]
  },
  {
   "cell_type": "code",
   "execution_count": 62,
   "metadata": {
    "scrolled": false
   },
   "outputs": [
    {
     "name": "stdout",
     "output_type": "stream",
     "text": [
      "2021-01-23T19:27:32,500497108+00:00 - iot-server/run \n",
      "2021-01-23T19:27:32,500722307+00:00 - gunicorn/run \n",
      "2021-01-23T19:27:32,502142501+00:00 - nginx/run \n",
      "2021-01-23T19:27:32,502862599+00:00 - rsyslog/run \n",
      "/usr/sbin/nginx: /azureml-envs/azureml_fc7e1840225416a471556263041ca33e/lib/libcrypto.so.1.0.0: no version information available (required by /usr/sbin/nginx)\n",
      "/usr/sbin/nginx: /azureml-envs/azureml_fc7e1840225416a471556263041ca33e/lib/libcrypto.so.1.0.0: no version information available (required by /usr/sbin/nginx)\n",
      "/usr/sbin/nginx: /azureml-envs/azureml_fc7e1840225416a471556263041ca33e/lib/libssl.so.1.0.0: no version information available (required by /usr/sbin/nginx)\n",
      "/usr/sbin/nginx: /azureml-envs/azureml_fc7e1840225416a471556263041ca33e/lib/libssl.so.1.0.0: no version information available (required by /usr/sbin/nginx)\n",
      "/usr/sbin/nginx: /azureml-envs/azureml_fc7e1840225416a471556263041ca33e/lib/libssl.so.1.0.0: no version information available (required by /usr/sbin/nginx)\n",
      "rsyslogd: /azureml-envs/azureml_fc7e1840225416a471556263041ca33e/lib/libuuid.so.1: no version information available (required by rsyslogd)\n",
      "EdgeHubConnectionString and IOTEDGE_IOTHUBHOSTNAME are not set. Exiting...\n",
      "2021-01-23T19:27:32,674681921+00:00 - iot-server/finish 1 0\n",
      "2021-01-23T19:27:32,676402914+00:00 - Exit code 1 is normal. Not restarting iot-server.\n",
      "Starting gunicorn 19.9.0\n",
      "Listening at: http://127.0.0.1:31311 (14)\n",
      "Using worker: sync\n",
      "worker timeout is set to 300\n",
      "Booting worker with pid: 42\n",
      "SPARK_HOME not set. Skipping PySpark Initialization.\n",
      "Generating new fontManager, this may take some time...\n",
      "Initializing logger\n",
      "2021-01-23 19:27:34,135 | root | INFO | Starting up app insights client\n",
      "Starting up app insights client\n",
      "2021-01-23 19:27:34,135 | root | INFO | Starting up request id generator\n",
      "Starting up request id generator\n",
      "2021-01-23 19:27:34,135 | root | INFO | Starting up app insight hooks\n",
      "Starting up app insight hooks\n",
      "2021-01-23 19:27:34,135 | root | INFO | Invoking user's init function\n",
      "Invoking user's init function\n",
      "2021-01-23 19:27:36,925 | azureml.core | WARNING | Failure while loading azureml_run_type_providers. Failed to load entrypoint automl = azureml.train.automl.run:AutoMLRun._from_run_dto with exception cannot import name 'RunType'.\n",
      "Failure while loading azureml_run_type_providers. Failed to load entrypoint automl = azureml.train.automl.run:AutoMLRun._from_run_dto with exception cannot import name 'RunType'.\n",
      "2021-01-23 19:27:36,972 | root | INFO | Users's init has completed successfully\n",
      "Users's init has completed successfully\n",
      "2021-01-23 19:27:37,039 | root | INFO | Skipping middleware: dbg_model_info as it's not enabled.\n",
      "Skipping middleware: dbg_model_info as it's not enabled.\n",
      "2021-01-23 19:27:37,039 | root | INFO | Skipping middleware: dbg_resource_usage as it's not enabled.\n",
      "Skipping middleware: dbg_resource_usage as it's not enabled.\n",
      "2021-01-23 19:27:37,040 | root | INFO | Scoring timeout is found from os.environ: 60000 ms\n",
      "Scoring timeout is found from os.environ: 60000 ms\n",
      "2021-01-23 19:27:45,116 | root | INFO | 200\n",
      "200\n",
      "127.0.0.1 - - [23/Jan/2021:19:27:45 +0000] \"GET /swagger.json HTTP/1.0\" 200 2338 \"-\" \"Go-http-client/1.1\"\n",
      "2021-01-23 19:27:56,730 | root | INFO | 200\n",
      "200\n",
      "127.0.0.1 - - [23/Jan/2021:19:27:56 +0000] \"GET /swagger.json HTTP/1.0\" 200 2338 \"-\" \"Go-http-client/1.1\"\n",
      "2021-01-23 19:28:21,425 | root | INFO | Validation Request Content-Type\n",
      "Validation Request Content-Type\n",
      "2021-01-23 19:28:21,425 | root | INFO | \tHost: localhost:5001\n",
      "\tHost: localhost:5001\n",
      "2021-01-23 19:28:21,425 | root | INFO | \tX-Real-Ip: 127.0.0.1\n",
      "\tX-Real-Ip: 127.0.0.1\n",
      "2021-01-23 19:28:21,425 | root | INFO | \tX-Forwarded-For: 127.0.0.1\n",
      "\tX-Forwarded-For: 127.0.0.1\n",
      "2021-01-23 19:28:21,426 | root | INFO | \tX-Forwarded-Proto: http\n",
      "\tX-Forwarded-Proto: http\n",
      "2021-01-23 19:28:21,426 | root | INFO | \tConnection: close\n",
      "\tConnection: close\n",
      "2021-01-23 19:28:21,426 | root | INFO | \tContent-Length: 470\n",
      "\tContent-Length: 470\n",
      "2021-01-23 19:28:21,426 | root | INFO | \tUser-Agent: python-requests/2.25.0\n",
      "\tUser-Agent: python-requests/2.25.0\n",
      "2021-01-23 19:28:21,426 | root | INFO | \tAccept: */*\n",
      "\tAccept: */*\n",
      "2021-01-23 19:28:21,426 | root | INFO | \tAccept-Encoding: gzip, deflate\n",
      "\tAccept-Encoding: gzip, deflate\n",
      "2021-01-23 19:28:21,426 | root | INFO | \tContent-Type: application/json\n",
      "\tContent-Type: application/json\n",
      "2021-01-23 19:28:21,426 | root | INFO | \tX-Ms-Request-Id: 2b0ea020-15b8-4b24-96a0-8bfa222b3b11\n",
      "\tX-Ms-Request-Id: 2b0ea020-15b8-4b24-96a0-8bfa222b3b11\n",
      "2021-01-23 19:28:21,426 | root | INFO | Scoring Timer is set to 60.0 seconds\n",
      "Scoring Timer is set to 60.0 seconds\n",
      "2021-01-23 19:28:21,428 | root | ERROR | Encountered Exception: Traceback (most recent call last):\n",
      "  File \"/var/azureml-server/app.py\", line 239, in run_scoring\n",
      "    response = invoke_user_with_timer(service_input, request_headers)\n",
      "  File \"/var/azureml-server/app.py\", line 309, in invoke_user_with_timer\n",
      "    result = user_main.run(**params)\n",
      "  File \"/azureml-envs/azureml_fc7e1840225416a471556263041ca33e/lib/python3.6/site-packages/wrapt/wrappers.py\", line 564, in __call__\n",
      "    args, kwargs)\n",
      "  File \"/azureml-envs/azureml_fc7e1840225416a471556263041ca33e/lib/python3.6/site-packages/inference_schema/schema_decorators.py\", line 55, in decorator_input\n",
      "    args[param_position] = _deserialize_input_argument(args[param_position], param_type, param_name)\n",
      "IndexError: list index out of range\n",
      "\n",
      "During handling of the above exception, another exception occurred:\n",
      "\n",
      "Traceback (most recent call last):\n",
      "  File \"/azureml-envs/azureml_fc7e1840225416a471556263041ca33e/lib/python3.6/site-packages/flask/app.py\", line 1832, in full_dispatch_request\n",
      "    rv = self.dispatch_request()\n",
      "  File \"/azureml-envs/azureml_fc7e1840225416a471556263041ca33e/lib/python3.6/site-packages/flask/app.py\", line 1818, in dispatch_request\n",
      "    return self.view_functions[rule.endpoint](**req.view_args)\n",
      "  File \"/var/azureml-server/app.py\", line 142, in score_realtime\n",
      "    return run_scoring(service_input, request.headers, request.environ.get('REQUEST_ID', '00000000-0000-0000-0000-000000000000'))\n",
      "  File \"/var/azureml-server/app.py\", line 252, in run_scoring\n",
      "    raise RunFunctionException(str(exc))\n",
      "run_function_exception.RunFunctionException\n",
      "\n",
      "Encountered Exception: Traceback (most recent call last):\n",
      "  File \"/var/azureml-server/app.py\", line 239, in run_scoring\n",
      "    response = invoke_user_with_timer(service_input, request_headers)\n",
      "  File \"/var/azureml-server/app.py\", line 309, in invoke_user_with_timer\n",
      "    result = user_main.run(**params)\n",
      "  File \"/azureml-envs/azureml_fc7e1840225416a471556263041ca33e/lib/python3.6/site-packages/wrapt/wrappers.py\", line 564, in __call__\n",
      "    args, kwargs)\n",
      "  File \"/azureml-envs/azureml_fc7e1840225416a471556263041ca33e/lib/python3.6/site-packages/inference_schema/schema_decorators.py\", line 55, in decorator_input\n",
      "    args[param_position] = _deserialize_input_argument(args[param_position], param_type, param_name)\n",
      "IndexError: list index out of range\n",
      "\n",
      "During handling of the above exception, another exception occurred:\n",
      "\n",
      "Traceback (most recent call last):\n",
      "  File \"/azureml-envs/azureml_fc7e1840225416a471556263041ca33e/lib/python3.6/site-packages/flask/app.py\", line 1832, in full_dispatch_request\n",
      "    rv = self.dispatch_request()\n",
      "  File \"/azureml-envs/azureml_fc7e1840225416a471556263041ca33e/lib/python3.6/site-packages/flask/app.py\", line 1818, in dispatch_request\n",
      "    return self.view_functions[rule.endpoint](**req.view_args)\n",
      "  File \"/var/azureml-server/app.py\", line 142, in score_realtime\n",
      "    return run_scoring(service_input, request.headers, request.environ.get('REQUEST_ID', '00000000-0000-0000-0000-000000000000'))\n",
      "  File \"/var/azureml-server/app.py\", line 252, in run_scoring\n",
      "    raise RunFunctionException(str(exc))\n",
      "run_function_exception.RunFunctionException\n",
      "\n",
      "2021-01-23 19:28:21,428 | root | INFO | 500\n",
      "500\n",
      "127.0.0.1 - - [23/Jan/2021:19:28:21 +0000] \"POST /score HTTP/1.0\" 500 23 \"-\" \"python-requests/2.25.0\"\n",
      "Exception in worker process\n",
      "Traceback (most recent call last):\n",
      "  File \"/azureml-envs/azureml_fc7e1840225416a471556263041ca33e/lib/python3.6/site-packages/gunicorn/arbiter.py\", line 583, in spawn_worker\n",
      "    worker.init_process()\n",
      "  File \"/azureml-envs/azureml_fc7e1840225416a471556263041ca33e/lib/python3.6/site-packages/gunicorn/workers/base.py\", line 134, in init_process\n",
      "    self.run()\n",
      "  File \"/azureml-envs/azureml_fc7e1840225416a471556263041ca33e/lib/python3.6/site-packages/gunicorn/workers/sync.py\", line 124, in run\n",
      "    self.run_for_one(timeout)\n",
      "  File \"/azureml-envs/azureml_fc7e1840225416a471556263041ca33e/lib/python3.6/site-packages/gunicorn/workers/sync.py\", line 83, in run_for_one\n",
      "    self.wait(timeout)\n",
      "  File \"/azureml-envs/azureml_fc7e1840225416a471556263041ca33e/lib/python3.6/site-packages/gunicorn/workers/sync.py\", line 35, in wait\n",
      "    ret = select.select(self.wait_fds, [], [], timeout)\n",
      "  File \"/var/azureml-server/app.py\", line 279, in alarm_handler\n",
      "    raise TimeoutException(error_message)\n",
      "timeout_exception.TimeoutException\n",
      "Worker exiting (pid: 42)\n",
      "worker timeout is set to 300\n",
      "Booting worker with pid: 65\n",
      "SPARK_HOME not set. Skipping PySpark Initialization.\n",
      "Initializing logger\n",
      "2021-01-23 19:29:23,582 | root | INFO | Starting up app insights client\n",
      "Starting up app insights client\n",
      "2021-01-23 19:29:23,582 | root | INFO | Starting up request id generator\n",
      "Starting up request id generator\n",
      "2021-01-23 19:29:23,582 | root | INFO | Starting up app insight hooks\n",
      "Starting up app insight hooks\n",
      "2021-01-23 19:29:23,582 | root | INFO | Invoking user's init function\n",
      "Invoking user's init function\n",
      "2021-01-23 19:29:25,620 | azureml.core | WARNING | Failure while loading azureml_run_type_providers. Failed to load entrypoint automl = azureml.train.automl.run:AutoMLRun._from_run_dto with exception cannot import name 'RunType'.\n",
      "Failure while loading azureml_run_type_providers. Failed to load entrypoint automl = azureml.train.automl.run:AutoMLRun._from_run_dto with exception cannot import name 'RunType'.\n",
      "2021-01-23 19:29:25,653 | root | INFO | Users's init has completed successfully\n",
      "Users's init has completed successfully\n",
      "2021-01-23 19:29:25,656 | root | INFO | Skipping middleware: dbg_model_info as it's not enabled.\n",
      "Skipping middleware: dbg_model_info as it's not enabled.\n",
      "2021-01-23 19:29:25,656 | root | INFO | Skipping middleware: dbg_resource_usage as it's not enabled.\n",
      "Skipping middleware: dbg_resource_usage as it's not enabled.\n",
      "2021-01-23 19:29:25,659 | root | INFO | Scoring timeout is found from os.environ: 60000 ms\n",
      "Scoring timeout is found from os.environ: 60000 ms\n",
      "2021-01-23 19:32:14,983 | root | INFO | 200\n",
      "200\n",
      "127.0.0.1 - - [23/Jan/2021:19:32:14 +0000] \"GET /swagger.json HTTP/1.0\" 200 2338 \"-\" \"Go-http-client/1.1\"\n",
      "2021-01-23 19:32:15,611 | root | INFO | 200\n",
      "200\n",
      "127.0.0.1 - - [23/Jan/2021:19:32:15 +0000] \"GET /swagger.json HTTP/1.0\" 200 2338 \"-\" \"Go-http-client/1.1\"\n",
      "127.0.0.1 - - [23/Jan/2021:19:51:36 +0000] \"POST /boaform/admin/formLogin HTTP/1.0\" 404 232 \"http://13.85.195.109:80/admin/login.asp\" \"Mozilla/5.0 (X11; Ubuntu; Linux x86_64; rv:71.0) Gecko/20100101 Firefox/71.0\"\n",
      "2021-01-23 20:04:55,505 | root | INFO | Validation Request Content-Type\n",
      "Validation Request Content-Type\n",
      "2021-01-23 20:04:55,505 | root | INFO | \tHost: localhost:5001\n",
      "\tHost: localhost:5001\n",
      "2021-01-23 20:04:55,505 | root | INFO | \tX-Real-Ip: 127.0.0.1\n",
      "\tX-Real-Ip: 127.0.0.1\n",
      "2021-01-23 20:04:55,506 | root | INFO | \tX-Forwarded-For: 127.0.0.1\n",
      "\tX-Forwarded-For: 127.0.0.1\n",
      "2021-01-23 20:04:55,506 | root | INFO | \tX-Forwarded-Proto: http\n",
      "\tX-Forwarded-Proto: http\n",
      "2021-01-23 20:04:55,506 | root | INFO | \tConnection: close\n",
      "\tConnection: close\n",
      "2021-01-23 20:04:55,506 | root | INFO | \tContent-Length: 461\n",
      "\tContent-Length: 461\n",
      "2021-01-23 20:04:55,506 | root | INFO | \tUser-Agent: python-requests/2.25.0\n",
      "\tUser-Agent: python-requests/2.25.0\n",
      "2021-01-23 20:04:55,506 | root | INFO | \tAccept: */*\n",
      "\tAccept: */*\n",
      "2021-01-23 20:04:55,506 | root | INFO | \tAccept-Encoding: gzip, deflate\n",
      "\tAccept-Encoding: gzip, deflate\n",
      "2021-01-23 20:04:55,506 | root | INFO | \tContent-Type: application/json\n",
      "\tContent-Type: application/json\n",
      "2021-01-23 20:04:55,506 | root | INFO | \tX-Ms-Request-Id: f1c91a42-add6-44b5-8c5a-b2bde17313a9\n",
      "\tX-Ms-Request-Id: f1c91a42-add6-44b5-8c5a-b2bde17313a9\n",
      "2021-01-23 20:04:55,506 | root | INFO | Scoring Timer is set to 60.0 seconds\n",
      "Scoring Timer is set to 60.0 seconds\n",
      "2021-01-23 20:04:55,557 | root | INFO | 200\n",
      "200\n",
      "127.0.0.1 - - [23/Jan/2021:20:04:55 +0000] \"POST /score HTTP/1.0\" 200 31 \"-\" \"python-requests/2.25.0\"\n",
      "2021-01-23 20:08:03,699 | root | INFO | 200\n",
      "200\n",
      "127.0.0.1 - - [23/Jan/2021:20:08:03 +0000] \"GET /swagger.json HTTP/1.0\" 200 2338 \"-\" \"Go-http-client/1.1\"\n",
      "2021-01-23 20:08:04,389 | root | INFO | 200\n",
      "200\n",
      "127.0.0.1 - - [23/Jan/2021:20:08:04 +0000] \"GET /swagger.json HTTP/1.0\" 200 2338 \"-\" \"Go-http-client/1.1\"\n",
      "127.0.0.1 - - [23/Jan/2021:20:22:38 +0000] \"GET /admin/login.asp HTTP/1.0\" 404 232 \"-\" \"Mozilla/5.0 (compatible)\"\n",
      "2021-01-23 20:39:58,336 | root | INFO | 200\n",
      "200\n",
      "127.0.0.1 - - [23/Jan/2021:20:39:58 +0000] \"GET /swagger.json HTTP/1.0\" 200 2338 \"-\" \"Go-http-client/1.1\"\n",
      "2021-01-23 20:39:59,095 | root | INFO | 200\n",
      "200\n",
      "127.0.0.1 - - [23/Jan/2021:20:39:59 +0000] \"GET /swagger.json HTTP/1.0\" 200 2338 \"-\" \"Go-http-client/1.1\"\n",
      "2021-01-23 20:44:10,196 | root | INFO | Validation Request Content-Type\n",
      "Validation Request Content-Type\n",
      "2021-01-23 20:44:10,196 | root | INFO | \tHost: localhost:5001\n",
      "\tHost: localhost:5001\n",
      "2021-01-23 20:44:10,196 | root | INFO | \tX-Real-Ip: 127.0.0.1\n",
      "\tX-Real-Ip: 127.0.0.1\n",
      "2021-01-23 20:44:10,196 | root | INFO | \tX-Forwarded-For: 127.0.0.1\n",
      "\tX-Forwarded-For: 127.0.0.1\n",
      "2021-01-23 20:44:10,197 | root | INFO | \tX-Forwarded-Proto: http\n",
      "\tX-Forwarded-Proto: http\n",
      "2021-01-23 20:44:10,197 | root | INFO | \tConnection: close\n",
      "\tConnection: close\n",
      "2021-01-23 20:44:10,197 | root | INFO | \tContent-Length: 522\n",
      "\tContent-Length: 522\n",
      "2021-01-23 20:44:10,197 | root | INFO | \tUser-Agent: python-requests/2.25.0\n",
      "\tUser-Agent: python-requests/2.25.0\n",
      "2021-01-23 20:44:10,197 | root | INFO | \tAccept: */*\n",
      "\tAccept: */*\n",
      "2021-01-23 20:44:10,197 | root | INFO | \tAccept-Encoding: gzip, deflate\n",
      "\tAccept-Encoding: gzip, deflate\n",
      "2021-01-23 20:44:10,197 | root | INFO | \tContent-Type: application/json\n",
      "\tContent-Type: application/json\n",
      "2021-01-23 20:44:10,197 | root | INFO | \tX-Ms-Request-Id: 19e3e65b-7890-4a7d-b13b-1390c01c5893\n",
      "\tX-Ms-Request-Id: 19e3e65b-7890-4a7d-b13b-1390c01c5893\n",
      "2021-01-23 20:44:10,197 | root | INFO | Scoring Timer is set to 60.0 seconds\n",
      "Scoring Timer is set to 60.0 seconds\n",
      "2021-01-23 20:44:10,205 | root | ERROR | Encountered Exception: Traceback (most recent call last):\n",
      "  File \"/var/azureml-server/app.py\", line 239, in run_scoring\n",
      "    response = invoke_user_with_timer(service_input, request_headers)\n",
      "  File \"/var/azureml-server/app.py\", line 309, in invoke_user_with_timer\n",
      "    result = user_main.run(**params)\n",
      "  File \"/azureml-envs/azureml_fc7e1840225416a471556263041ca33e/lib/python3.6/site-packages/wrapt/wrappers.py\", line 564, in __call__\n",
      "    args, kwargs)\n",
      "  File \"/azureml-envs/azureml_fc7e1840225416a471556263041ca33e/lib/python3.6/site-packages/inference_schema/schema_decorators.py\", line 57, in decorator_input\n",
      "    kwargs[param_name] = _deserialize_input_argument(kwargs[param_name], param_type, param_name)\n",
      "  File \"/azureml-envs/azureml_fc7e1840225416a471556263041ca33e/lib/python3.6/site-packages/inference_schema/schema_decorators.py\", line 285, in _deserialize_input_argument\n",
      "    input_data = param_type.deserialize_input(input_data)\n",
      "  File \"/azureml-envs/azureml_fc7e1840225416a471556263041ca33e/lib/python3.6/site-packages/inference_schema/parameter_types/pandas_parameter_type.py\", line 79, in deserialize_input\n",
      "    data_frame.shape[dim], dim, expected_shape[dim]))\n",
      "ValueError: Invalid input data frame: data frame has size 7 on dimension #1, while expected value is 6\n",
      "\n",
      "During handling of the above exception, another exception occurred:\n",
      "\n",
      "Traceback (most recent call last):\n",
      "  File \"/azureml-envs/azureml_fc7e1840225416a471556263041ca33e/lib/python3.6/site-packages/flask/app.py\", line 1832, in full_dispatch_request\n",
      "    rv = self.dispatch_request()\n",
      "  File \"/azureml-envs/azureml_fc7e1840225416a471556263041ca33e/lib/python3.6/site-packages/flask/app.py\", line 1818, in dispatch_request\n",
      "    return self.view_functions[rule.endpoint](**req.view_args)\n",
      "  File \"/var/azureml-server/app.py\", line 142, in score_realtime\n",
      "    return run_scoring(service_input, request.headers, request.environ.get('REQUEST_ID', '00000000-0000-0000-0000-000000000000'))\n",
      "  File \"/var/azureml-server/app.py\", line 252, in run_scoring\n",
      "    raise RunFunctionException(str(exc))\n",
      "run_function_exception.RunFunctionException\n",
      "\n",
      "Encountered Exception: Traceback (most recent call last):\n",
      "  File \"/var/azureml-server/app.py\", line 239, in run_scoring\n",
      "    response = invoke_user_with_timer(service_input, request_headers)\n",
      "  File \"/var/azureml-server/app.py\", line 309, in invoke_user_with_timer\n",
      "    result = user_main.run(**params)\n",
      "  File \"/azureml-envs/azureml_fc7e1840225416a471556263041ca33e/lib/python3.6/site-packages/wrapt/wrappers.py\", line 564, in __call__\n",
      "    args, kwargs)\n",
      "  File \"/azureml-envs/azureml_fc7e1840225416a471556263041ca33e/lib/python3.6/site-packages/inference_schema/schema_decorators.py\", line 57, in decorator_input\n",
      "    kwargs[param_name] = _deserialize_input_argument(kwargs[param_name], param_type, param_name)\n",
      "  File \"/azureml-envs/azureml_fc7e1840225416a471556263041ca33e/lib/python3.6/site-packages/inference_schema/schema_decorators.py\", line 285, in _deserialize_input_argument\n",
      "    input_data = param_type.deserialize_input(input_data)\n",
      "  File \"/azureml-envs/azureml_fc7e1840225416a471556263041ca33e/lib/python3.6/site-packages/inference_schema/parameter_types/pandas_parameter_type.py\", line 79, in deserialize_input\n",
      "    data_frame.shape[dim], dim, expected_shape[dim]))\n",
      "ValueError: Invalid input data frame: data frame has size 7 on dimension #1, while expected value is 6\n",
      "\n",
      "During handling of the above exception, another exception occurred:\n",
      "\n",
      "Traceback (most recent call last):\n",
      "  File \"/azureml-envs/azureml_fc7e1840225416a471556263041ca33e/lib/python3.6/site-packages/flask/app.py\", line 1832, in full_dispatch_request\n",
      "    rv = self.dispatch_request()\n",
      "  File \"/azureml-envs/azureml_fc7e1840225416a471556263041ca33e/lib/python3.6/site-packages/flask/app.py\", line 1818, in dispatch_request\n",
      "    return self.view_functions[rule.endpoint](**req.view_args)\n",
      "  File \"/var/azureml-server/app.py\", line 142, in score_realtime\n",
      "    return run_scoring(service_input, request.headers, request.environ.get('REQUEST_ID', '00000000-0000-0000-0000-000000000000'))\n",
      "  File \"/var/azureml-server/app.py\", line 252, in run_scoring\n",
      "    raise RunFunctionException(str(exc))\n",
      "run_function_exception.RunFunctionException\n",
      "\n",
      "2021-01-23 20:44:10,205 | root | INFO | 500\n",
      "500\n",
      "127.0.0.1 - - [23/Jan/2021:20:44:10 +0000] \"POST /score HTTP/1.0\" 500 90 \"-\" \"python-requests/2.25.0\"\n",
      "Exception in worker process\n",
      "Traceback (most recent call last):\n",
      "  File \"/azureml-envs/azureml_fc7e1840225416a471556263041ca33e/lib/python3.6/site-packages/gunicorn/arbiter.py\", line 583, in spawn_worker\n",
      "    worker.init_process()\n",
      "  File \"/azureml-envs/azureml_fc7e1840225416a471556263041ca33e/lib/python3.6/site-packages/gunicorn/workers/base.py\", line 134, in init_process\n",
      "    self.run()\n",
      "  File \"/azureml-envs/azureml_fc7e1840225416a471556263041ca33e/lib/python3.6/site-packages/gunicorn/workers/sync.py\", line 124, in run\n",
      "    self.run_for_one(timeout)\n",
      "  File \"/azureml-envs/azureml_fc7e1840225416a471556263041ca33e/lib/python3.6/site-packages/gunicorn/workers/sync.py\", line 83, in run_for_one\n",
      "    self.wait(timeout)\n",
      "  File \"/azureml-envs/azureml_fc7e1840225416a471556263041ca33e/lib/python3.6/site-packages/gunicorn/workers/sync.py\", line 35, in wait\n",
      "    ret = select.select(self.wait_fds, [], [], timeout)\n",
      "  File \"/var/azureml-server/app.py\", line 279, in alarm_handler\n",
      "    raise TimeoutException(error_message)\n",
      "timeout_exception.TimeoutException\n",
      "Worker exiting (pid: 65)\n",
      "worker timeout is set to 300\n",
      "Booting worker with pid: 86\n",
      "SPARK_HOME not set. Skipping PySpark Initialization.\n",
      "Initializing logger\n",
      "2021-01-23 20:45:11,843 | root | INFO | Starting up app insights client\n",
      "Starting up app insights client\n",
      "2021-01-23 20:45:11,843 | root | INFO | Starting up request id generator\n",
      "Starting up request id generator\n",
      "2021-01-23 20:45:11,844 | root | INFO | Starting up app insight hooks\n",
      "Starting up app insight hooks\n",
      "2021-01-23 20:45:11,844 | root | INFO | Invoking user's init function\n",
      "Invoking user's init function\n",
      "2021-01-23 20:45:13,912 | azureml.core | WARNING | Failure while loading azureml_run_type_providers. Failed to load entrypoint automl = azureml.train.automl.run:AutoMLRun._from_run_dto with exception cannot import name 'RunType'.\n",
      "Failure while loading azureml_run_type_providers. Failed to load entrypoint automl = azureml.train.automl.run:AutoMLRun._from_run_dto with exception cannot import name 'RunType'.\n",
      "2021-01-23 20:45:13,946 | root | INFO | Users's init has completed successfully\n",
      "Users's init has completed successfully\n",
      "2021-01-23 20:45:13,949 | root | INFO | Skipping middleware: dbg_model_info as it's not enabled.\n",
      "Skipping middleware: dbg_model_info as it's not enabled.\n",
      "2021-01-23 20:45:13,949 | root | INFO | Skipping middleware: dbg_resource_usage as it's not enabled.\n",
      "Skipping middleware: dbg_resource_usage as it's not enabled.\n",
      "2021-01-23 20:45:13,952 | root | INFO | Scoring timeout is found from os.environ: 60000 ms\n",
      "Scoring timeout is found from os.environ: 60000 ms\n",
      "2021-01-23 20:45:56,283 | root | INFO | Validation Request Content-Type\n",
      "Validation Request Content-Type\n",
      "2021-01-23 20:45:56,284 | root | INFO | \tHost: localhost:5001\n",
      "\tHost: localhost:5001\n",
      "2021-01-23 20:45:56,284 | root | INFO | \tX-Real-Ip: 127.0.0.1\n",
      "\tX-Real-Ip: 127.0.0.1\n",
      "2021-01-23 20:45:56,284 | root | INFO | \tX-Forwarded-For: 127.0.0.1\n",
      "\tX-Forwarded-For: 127.0.0.1\n",
      "2021-01-23 20:45:56,284 | root | INFO | \tX-Forwarded-Proto: http\n",
      "\tX-Forwarded-Proto: http\n",
      "2021-01-23 20:45:56,284 | root | INFO | \tConnection: close\n",
      "\tConnection: close\n",
      "2021-01-23 20:45:56,284 | root | INFO | \tContent-Length: 466\n",
      "\tContent-Length: 466\n",
      "2021-01-23 20:45:56,284 | root | INFO | \tUser-Agent: python-requests/2.25.0\n",
      "\tUser-Agent: python-requests/2.25.0\n",
      "2021-01-23 20:45:56,285 | root | INFO | \tAccept: */*\n",
      "\tAccept: */*\n",
      "2021-01-23 20:45:56,285 | root | INFO | \tAccept-Encoding: gzip, deflate\n",
      "\tAccept-Encoding: gzip, deflate\n",
      "2021-01-23 20:45:56,285 | root | INFO | \tContent-Type: application/json\n",
      "\tContent-Type: application/json\n",
      "2021-01-23 20:45:56,285 | root | INFO | \tX-Ms-Request-Id: 0356575c-2c07-4437-a04f-d14d6f5fb833\n",
      "\tX-Ms-Request-Id: 0356575c-2c07-4437-a04f-d14d6f5fb833\n",
      "2021-01-23 20:45:56,285 | root | INFO | Scoring Timer is set to 60.0 seconds\n",
      "Scoring Timer is set to 60.0 seconds\n",
      "2021-01-23 20:45:56,333 | root | INFO | 200\n",
      "200\n",
      "127.0.0.1 - - [23/Jan/2021:20:45:56 +0000] \"POST /score HTTP/1.0\" 200 31 \"-\" \"python-requests/2.25.0\"\n",
      "127.0.0.1 - - [23/Jan/2021:20:48:48 +0000] \"GET /login HTTP/1.0\" 404 232 \"-\" \"Go-http-client/1.1\"\n",
      "127.0.0.1 - - [23/Jan/2021:20:48:48 +0000] \"GET /jenkins/login HTTP/1.0\" 404 232 \"-\" \"Go-http-client/1.1\"\n",
      "127.0.0.1 - zOTdiJuY [23/Jan/2021:20:48:49 +0000] \"GET /manager/html HTTP/1.0\" 404 232 \"-\" \"Go-http-client/1.1\"\n",
      "2021-01-23 20:59:05,651 | root | INFO | Validation Request Content-Type\n",
      "Validation Request Content-Type\n",
      "2021-01-23 20:59:05,652 | root | INFO | \tHost: localhost:5001\n",
      "\tHost: localhost:5001\n",
      "2021-01-23 20:59:05,652 | root | INFO | \tX-Real-Ip: 127.0.0.1\n",
      "\tX-Real-Ip: 127.0.0.1\n",
      "2021-01-23 20:59:05,652 | root | INFO | \tX-Forwarded-For: 127.0.0.1\n",
      "\tX-Forwarded-For: 127.0.0.1\n",
      "2021-01-23 20:59:05,652 | root | INFO | \tX-Forwarded-Proto: http\n",
      "\tX-Forwarded-Proto: http\n",
      "2021-01-23 20:59:05,652 | root | INFO | \tConnection: close\n",
      "\tConnection: close\n",
      "2021-01-23 20:59:05,652 | root | INFO | \tContent-Length: 919\n",
      "\tContent-Length: 919\n",
      "2021-01-23 20:59:05,652 | root | INFO | \tUser-Agent: python-requests/2.25.0\n",
      "\tUser-Agent: python-requests/2.25.0\n",
      "2021-01-23 20:59:05,652 | root | INFO | \tAccept: */*\n",
      "\tAccept: */*\n",
      "2021-01-23 20:59:05,652 | root | INFO | \tAccept-Encoding: gzip, deflate\n",
      "\tAccept-Encoding: gzip, deflate\n",
      "2021-01-23 20:59:05,653 | root | INFO | \tContent-Type: application/json\n",
      "\tContent-Type: application/json\n",
      "2021-01-23 20:59:05,653 | root | INFO | \tX-Ms-Request-Id: 16e56a04-3203-4f81-8a70-a686c46fa2b9\n",
      "\tX-Ms-Request-Id: 16e56a04-3203-4f81-8a70-a686c46fa2b9\n",
      "2021-01-23 20:59:05,653 | root | INFO | Scoring Timer is set to 60.0 seconds\n",
      "Scoring Timer is set to 60.0 seconds\n",
      "2021-01-23 20:59:05,694 | root | INFO | 200\n",
      "200\n",
      "127.0.0.1 - - [23/Jan/2021:20:59:05 +0000] \"POST /score HTTP/1.0\" 200 46 \"-\" \"python-requests/2.25.0\"\n",
      "\n"
     ]
    }
   ],
   "source": [
    "print(webservice.get_logs())"
   ]
  },
  {
   "cell_type": "code",
   "execution_count": null,
   "metadata": {},
   "outputs": [],
   "source": [
    "webservice.delete()"
   ]
  }
 ],
 "metadata": {
  "kernel_info": {
   "name": "python3"
  },
  "kernelspec": {
   "display_name": "Python 3",
   "language": "python",
   "name": "python3"
  },
  "language_info": {
   "codemirror_mode": {
    "name": "ipython",
    "version": 3
   },
   "file_extension": ".py",
   "mimetype": "text/x-python",
   "name": "python",
   "nbconvert_exporter": "python",
   "pygments_lexer": "ipython3",
   "version": "3.6.9"
  },
  "nteract": {
   "version": "nteract-front-end@1.0.0"
  }
 },
 "nbformat": 4,
 "nbformat_minor": 2
}
